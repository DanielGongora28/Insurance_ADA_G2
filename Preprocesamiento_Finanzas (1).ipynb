{
 "cells": [
  {
   "attachments": {},
   "cell_type": "markdown",
   "metadata": {},
   "source": [
    "## LIBRERIAS\n"
   ]
  },
  {
   "cell_type": "code",
   "execution_count": 1,
   "metadata": {},
   "outputs": [],
   "source": [
    "import pandas as pd\n",
    "import numpy as np\n",
    "from unicodedata import normalize\n",
    "from sklearn.model_selection import RandomizedSearchCV\n",
    "import plotly.graph_objs as go #Graficos\n",
    "import plotly.express as px\n",
    "from matplotlib.pyplot import figure\n",
    "import matplotlib.pyplot as plt ### gráficos\n",
    "from sklearn import linear_model ## para regresión lineal\n",
    "from sklearn import tree ###para ajustar arboles de decisión\n",
    "from sklearn import svm\n",
    "from sklearn.ensemble import RandomForestRegressor ##Ensamble con bagging\n",
    "from sklearn.ensemble import GradientBoostingRegressor ###Ensamble boosting\n",
    "from sklearn.feature_selection import SelectFromModel\n",
    "from sklearn.model_selection import cross_val_predict, cross_val_score, cross_validate\n",
    "from sklearn.metrics import classification_report\n",
    "from sklearn.model_selection import train_test_split\n",
    "import sqlite3 as sql\n",
    "import datetime as datetime\n",
    "import seaborn as sns\n",
    "from dateutil.relativedelta import relativedelta\n",
    "\n"
   ]
  },
  {
   "cell_type": "code",
   "execution_count": 2,
   "metadata": {},
   "outputs": [
    {
     "name": "stdout",
     "output_type": "stream",
     "text": [
      "[('reclamaciones',), ('diagnosticos',), ('regional',), ('genero',), ('sociodemograficas',), ('utilizaciones',)]\n"
     ]
    }
   ],
   "source": [
    "conn = sql.connect(r'D:\\Users\\USUARIO\\Downloads\\BD_insurance2019dataset.db')\n",
    "\n",
    "# Creación del cursor\n",
    "cursor = conn.cursor()\n",
    "\n",
    "# Ejecución de la consulta SQL para obtener la lista de tablas\n",
    "cursor.execute(\"SELECT name FROM sqlite_master WHERE type='table';\")\n",
    "\n",
    "# Almacenamiento de los resultados en una lista\n",
    "tables = cursor.fetchall()\n",
    "\n",
    "# Impresión de la lista de tablas\n",
    "print(tables)"
   ]
  },
  {
   "cell_type": "code",
   "execution_count": 3,
   "metadata": {},
   "outputs": [],
   "source": [
    "# Se extrae toda la información de cada uno de los datasets\n",
    "reclamaciones=pd.read_sql(\"SELECT * FROM reclamaciones; \",conn)\n",
    "diagnosticos=pd.read_sql(\"SELECT * FROM diagnosticos; \",conn)\n",
    "regional=pd.read_sql(\"SELECT * FROM regional; \",conn)\n",
    "genero=pd.read_sql(\"SELECT * FROM genero; \",conn)\n",
    "sociodemograficas=pd.read_sql(\"SELECT * FROM sociodemograficas; \",conn)\n",
    "utilizaciones=pd.read_sql(\"SELECT * FROM utilizaciones; \",conn)"
   ]
  },
  {
   "attachments": {},
   "cell_type": "markdown",
   "metadata": {},
   "source": [
    "## TRANSFORMACIÓN Y LIMPIEZA DE LAS BASES"
   ]
  },
  {
   "cell_type": "code",
   "execution_count": 4,
   "metadata": {},
   "outputs": [
    {
     "data": {
      "text/html": [
       "<div>\n",
       "<style scoped>\n",
       "    .dataframe tbody tr th:only-of-type {\n",
       "        vertical-align: middle;\n",
       "    }\n",
       "\n",
       "    .dataframe tbody tr th {\n",
       "        vertical-align: top;\n",
       "    }\n",
       "\n",
       "    .dataframe thead th {\n",
       "        text-align: right;\n",
       "    }\n",
       "</style>\n",
       "<table border=\"1\" class=\"dataframe\">\n",
       "  <thead>\n",
       "    <tr style=\"text-align: right;\">\n",
       "      <th></th>\n",
       "      <th>Reclamacion_codigo</th>\n",
       "      <th>Reclamacion_Desc</th>\n",
       "    </tr>\n",
       "  </thead>\n",
       "  <tbody>\n",
       "    <tr>\n",
       "      <th>0</th>\n",
       "      <td>1</td>\n",
       "      <td>ATENCION DEL PARTO</td>\n",
       "    </tr>\n",
       "    <tr>\n",
       "      <th>1</th>\n",
       "      <td>2</td>\n",
       "      <td>ATENCION INTEGRAL DE SALUD MENTAL</td>\n",
       "    </tr>\n",
       "    <tr>\n",
       "      <th>2</th>\n",
       "      <td>3</td>\n",
       "      <td>CIRUGIA AMBULATORIA POR ACCIDENTE</td>\n",
       "    </tr>\n",
       "    <tr>\n",
       "      <th>3</th>\n",
       "      <td>4</td>\n",
       "      <td>CIRUGIA AMBULATORIA POR ENFERMEDAD</td>\n",
       "    </tr>\n",
       "    <tr>\n",
       "      <th>4</th>\n",
       "      <td>5</td>\n",
       "      <td>CIRUGIA AMBULATORIA POR ENFERMEDAD CONGENITA</td>\n",
       "    </tr>\n",
       "    <tr>\n",
       "      <th>5</th>\n",
       "      <td>6</td>\n",
       "      <td>COBERTURA PROGRAMA PALIATIVOS</td>\n",
       "    </tr>\n",
       "    <tr>\n",
       "      <th>6</th>\n",
       "      <td>7</td>\n",
       "      <td>CONCILIACION</td>\n",
       "    </tr>\n",
       "    <tr>\n",
       "      <th>7</th>\n",
       "      <td>8</td>\n",
       "      <td>CONSULTA DE URGENCIAS</td>\n",
       "    </tr>\n",
       "    <tr>\n",
       "      <th>8</th>\n",
       "      <td>9</td>\n",
       "      <td>CONSULTA EXTERNA</td>\n",
       "    </tr>\n",
       "    <tr>\n",
       "      <th>9</th>\n",
       "      <td>10</td>\n",
       "      <td>CONSULTAS PRENATALES</td>\n",
       "    </tr>\n",
       "    <tr>\n",
       "      <th>10</th>\n",
       "      <td>11</td>\n",
       "      <td>DIALISIS</td>\n",
       "    </tr>\n",
       "    <tr>\n",
       "      <th>11</th>\n",
       "      <td>12</td>\n",
       "      <td>EXAMENES DE DIAGNOSTICO</td>\n",
       "    </tr>\n",
       "    <tr>\n",
       "      <th>12</th>\n",
       "      <td>13</td>\n",
       "      <td>FISIOTERAPIA ILIMITADA</td>\n",
       "    </tr>\n",
       "    <tr>\n",
       "      <th>13</th>\n",
       "      <td>14</td>\n",
       "      <td>FUNERARIOS</td>\n",
       "    </tr>\n",
       "    <tr>\n",
       "      <th>14</th>\n",
       "      <td>15</td>\n",
       "      <td>INFILTRACIONES</td>\n",
       "    </tr>\n",
       "    <tr>\n",
       "      <th>15</th>\n",
       "      <td>16</td>\n",
       "      <td>LABORATORIO CLINICO</td>\n",
       "    </tr>\n",
       "    <tr>\n",
       "      <th>16</th>\n",
       "      <td>17</td>\n",
       "      <td>ODONTOLOGÍA</td>\n",
       "    </tr>\n",
       "    <tr>\n",
       "      <th>17</th>\n",
       "      <td>18</td>\n",
       "      <td>PAMD</td>\n",
       "    </tr>\n",
       "    <tr>\n",
       "      <th>18</th>\n",
       "      <td>19</td>\n",
       "      <td>Sin Informacion</td>\n",
       "    </tr>\n",
       "    <tr>\n",
       "      <th>19</th>\n",
       "      <td>20</td>\n",
       "      <td>TRASLADO EN AMBULANCIA</td>\n",
       "    </tr>\n",
       "    <tr>\n",
       "      <th>20</th>\n",
       "      <td>21</td>\n",
       "      <td>TRATAMIENTO AMBULATORIO POR CANCER</td>\n",
       "    </tr>\n",
       "    <tr>\n",
       "      <th>21</th>\n",
       "      <td>22</td>\n",
       "      <td>TRATAMIENTO MEDICO AMBULATORIO POR ACCIDENTES</td>\n",
       "    </tr>\n",
       "    <tr>\n",
       "      <th>22</th>\n",
       "      <td>23</td>\n",
       "      <td>TRATAMIENTO MEDICO AMBULATORIO POR ENFERMEDAD ...</td>\n",
       "    </tr>\n",
       "    <tr>\n",
       "      <th>23</th>\n",
       "      <td>24</td>\n",
       "      <td>TRATAMIENTO MEDICO HOSPITALARIO POR ACCIDENTE</td>\n",
       "    </tr>\n",
       "    <tr>\n",
       "      <th>24</th>\n",
       "      <td>25</td>\n",
       "      <td>TRATAMIENTO MEDICO HOSPITALARIO POR CANCER Y C...</td>\n",
       "    </tr>\n",
       "    <tr>\n",
       "      <th>25</th>\n",
       "      <td>26</td>\n",
       "      <td>TRATAMIENTO MEDICO HOSPITALARIO POR COMPLICACI...</td>\n",
       "    </tr>\n",
       "    <tr>\n",
       "      <th>26</th>\n",
       "      <td>27</td>\n",
       "      <td>TRATAMIENTO MEDICO HOSPITALARIO POR ENFERMEDAD</td>\n",
       "    </tr>\n",
       "    <tr>\n",
       "      <th>27</th>\n",
       "      <td>28</td>\n",
       "      <td>TRATAMIENTO MEDICO HOSPITALARIO SIQUIATRICO</td>\n",
       "    </tr>\n",
       "    <tr>\n",
       "      <th>28</th>\n",
       "      <td>29</td>\n",
       "      <td>TRATAMIENTO QUIRURGICO HOSPITALARIO POR ACCIDENTE</td>\n",
       "    </tr>\n",
       "    <tr>\n",
       "      <th>29</th>\n",
       "      <td>30</td>\n",
       "      <td>TRATAMIENTO QUIRURGICO HOSPITALARIO POR CANCER...</td>\n",
       "    </tr>\n",
       "    <tr>\n",
       "      <th>30</th>\n",
       "      <td>31</td>\n",
       "      <td>TRATAMIENTO QUIRURGICO HOSPITALARIO POR ENFERM...</td>\n",
       "    </tr>\n",
       "    <tr>\n",
       "      <th>31</th>\n",
       "      <td>32</td>\n",
       "      <td>TRATAMIENTO QUIRURGICO HOSPITALARIO POR ENFERM...</td>\n",
       "    </tr>\n",
       "    <tr>\n",
       "      <th>32</th>\n",
       "      <td>33</td>\n",
       "      <td>TRATAMIENTOS AMBULATORIOS ESPECIALES</td>\n",
       "    </tr>\n",
       "    <tr>\n",
       "      <th>33</th>\n",
       "      <td>34</td>\n",
       "      <td>TRATAMIENTOS ESPECIFICOS</td>\n",
       "    </tr>\n",
       "    <tr>\n",
       "      <th>34</th>\n",
       "      <td>35</td>\n",
       "      <td>VACUNACION</td>\n",
       "    </tr>\n",
       "  </tbody>\n",
       "</table>\n",
       "</div>"
      ],
      "text/plain": [
       "    Reclamacion_codigo                                   Reclamacion_Desc\n",
       "0                    1                                 ATENCION DEL PARTO\n",
       "1                    2                  ATENCION INTEGRAL DE SALUD MENTAL\n",
       "2                    3                  CIRUGIA AMBULATORIA POR ACCIDENTE\n",
       "3                    4                 CIRUGIA AMBULATORIA POR ENFERMEDAD\n",
       "4                    5       CIRUGIA AMBULATORIA POR ENFERMEDAD CONGENITA\n",
       "5                    6                      COBERTURA PROGRAMA PALIATIVOS\n",
       "6                    7                                       CONCILIACION\n",
       "7                    8                              CONSULTA DE URGENCIAS\n",
       "8                    9                                   CONSULTA EXTERNA\n",
       "9                   10                               CONSULTAS PRENATALES\n",
       "10                  11                                           DIALISIS\n",
       "11                  12                            EXAMENES DE DIAGNOSTICO\n",
       "12                  13                             FISIOTERAPIA ILIMITADA\n",
       "13                  14                                         FUNERARIOS\n",
       "14                  15                                     INFILTRACIONES\n",
       "15                  16                                LABORATORIO CLINICO\n",
       "16                  17                                        ODONTOLOGÍA\n",
       "17                  18                                               PAMD\n",
       "18                  19                                    Sin Informacion\n",
       "19                  20                             TRASLADO EN AMBULANCIA\n",
       "20                  21                 TRATAMIENTO AMBULATORIO POR CANCER\n",
       "21                  22      TRATAMIENTO MEDICO AMBULATORIO POR ACCIDENTES\n",
       "22                  23  TRATAMIENTO MEDICO AMBULATORIO POR ENFERMEDAD ...\n",
       "23                  24      TRATAMIENTO MEDICO HOSPITALARIO POR ACCIDENTE\n",
       "24                  25  TRATAMIENTO MEDICO HOSPITALARIO POR CANCER Y C...\n",
       "25                  26  TRATAMIENTO MEDICO HOSPITALARIO POR COMPLICACI...\n",
       "26                  27     TRATAMIENTO MEDICO HOSPITALARIO POR ENFERMEDAD\n",
       "27                  28        TRATAMIENTO MEDICO HOSPITALARIO SIQUIATRICO\n",
       "28                  29  TRATAMIENTO QUIRURGICO HOSPITALARIO POR ACCIDENTE\n",
       "29                  30  TRATAMIENTO QUIRURGICO HOSPITALARIO POR CANCER...\n",
       "30                  31  TRATAMIENTO QUIRURGICO HOSPITALARIO POR ENFERM...\n",
       "31                  32  TRATAMIENTO QUIRURGICO HOSPITALARIO POR ENFERM...\n",
       "32                  33               TRATAMIENTOS AMBULATORIOS ESPECIALES\n",
       "33                  34                           TRATAMIENTOS ESPECIFICOS\n",
       "34                  35                                         VACUNACION"
      ]
     },
     "execution_count": 4,
     "metadata": {},
     "output_type": "execute_result"
    }
   ],
   "source": [
    "#Se cambian nombres de algunas columnas y se transforman a otro tipo\n",
    "reclamaciones=reclamaciones.rename(columns={\"Reclamacion_Id\":\"Reclamacion_codigo\"})\n",
    "reclamaciones['Reclamacion_codigo']=reclamaciones['Reclamacion_codigo'].astype(\"int\")\n",
    "reclamaciones"
   ]
  },
  {
   "cell_type": "code",
   "execution_count": 6,
   "metadata": {},
   "outputs": [
    {
     "data": {
      "text/html": [
       "<div>\n",
       "<style scoped>\n",
       "    .dataframe tbody tr th:only-of-type {\n",
       "        vertical-align: middle;\n",
       "    }\n",
       "\n",
       "    .dataframe tbody tr th {\n",
       "        vertical-align: top;\n",
       "    }\n",
       "\n",
       "    .dataframe thead th {\n",
       "        text-align: right;\n",
       "    }\n",
       "</style>\n",
       "<table border=\"1\" class=\"dataframe\">\n",
       "  <thead>\n",
       "    <tr style=\"text-align: right;\">\n",
       "      <th></th>\n",
       "      <th>Diagnostico_Codigo</th>\n",
       "      <th>Diagnostico_Desc</th>\n",
       "    </tr>\n",
       "  </thead>\n",
       "  <tbody>\n",
       "    <tr>\n",
       "      <th>9</th>\n",
       "      <td>A09X</td>\n",
       "      <td>DIARREA Y GASTROENTERITIS DE PRESUNTO ORIGEN I...</td>\n",
       "    </tr>\n",
       "  </tbody>\n",
       "</table>\n",
       "</div>"
      ],
      "text/plain": [
       "  Diagnostico_Codigo                                   Diagnostico_Desc\n",
       "9               A09X  DIARREA Y GASTROENTERITIS DE PRESUNTO ORIGEN I..."
      ]
     },
     "execution_count": 6,
     "metadata": {},
     "output_type": "execute_result"
    }
   ],
   "source": [
    "\n",
    "diagnosticos['Diagnostico_Codigo'].replace(\"-1\",\"0\", inplace=True)\n",
    "diagnosticos['Diagnostico_Codigo'].replace(\"9\",\"0\", inplace=True)\n",
    "diagnosticos=diagnosticos.drop([0,1], axis=0).reset_index().drop(columns='index')\n",
    "diagnosticos.loc[diagnosticos['Diagnostico_Codigo'] == \"A09X\"]\n"
   ]
  },
  {
   "cell_type": "code",
   "execution_count": 6,
   "metadata": {},
   "outputs": [
    {
     "data": {
      "text/html": [
       "<div>\n",
       "<style scoped>\n",
       "    .dataframe tbody tr th:only-of-type {\n",
       "        vertical-align: middle;\n",
       "    }\n",
       "\n",
       "    .dataframe tbody tr th {\n",
       "        vertical-align: top;\n",
       "    }\n",
       "\n",
       "    .dataframe thead th {\n",
       "        text-align: right;\n",
       "    }\n",
       "</style>\n",
       "<table border=\"1\" class=\"dataframe\">\n",
       "  <thead>\n",
       "    <tr style=\"text-align: right;\">\n",
       "      <th></th>\n",
       "      <th>Regional_codigo</th>\n",
       "      <th>Regional_Desc</th>\n",
       "    </tr>\n",
       "  </thead>\n",
       "  <tbody>\n",
       "    <tr>\n",
       "      <th>0</th>\n",
       "      <td>1</td>\n",
       "      <td>REGIONAL ANTIOQUIA</td>\n",
       "    </tr>\n",
       "    <tr>\n",
       "      <th>1</th>\n",
       "      <td>2</td>\n",
       "      <td>REGIONAL CENTRO</td>\n",
       "    </tr>\n",
       "    <tr>\n",
       "      <th>2</th>\n",
       "      <td>3</td>\n",
       "      <td>REGIONAL NORTE</td>\n",
       "    </tr>\n",
       "    <tr>\n",
       "      <th>3</th>\n",
       "      <td>4</td>\n",
       "      <td>REGIONAL OCCIDENTE</td>\n",
       "    </tr>\n",
       "    <tr>\n",
       "      <th>4</th>\n",
       "      <td>5</td>\n",
       "      <td>REGIONAL EJE CAFETERO</td>\n",
       "    </tr>\n",
       "    <tr>\n",
       "      <th>5</th>\n",
       "      <td>6</td>\n",
       "      <td>Sin Información</td>\n",
       "    </tr>\n",
       "  </tbody>\n",
       "</table>\n",
       "</div>"
      ],
      "text/plain": [
       "  Regional_codigo          Regional_Desc\n",
       "0               1     REGIONAL ANTIOQUIA\n",
       "1               2        REGIONAL CENTRO\n",
       "2               3         REGIONAL NORTE\n",
       "3               4     REGIONAL OCCIDENTE\n",
       "4               5  REGIONAL EJE CAFETERO\n",
       "5               6        Sin Información"
      ]
     },
     "execution_count": 6,
     "metadata": {},
     "output_type": "execute_result"
    }
   ],
   "source": [
    "regional=regional.rename(columns={\"Regional_id\":\"Regional_codigo\"})\n",
    "regional['Regional_codigo']=regional['Regional_codigo'].astype('object')\n",
    "regional"
   ]
  },
  {
   "cell_type": "code",
   "execution_count": 7,
   "metadata": {},
   "outputs": [
    {
     "data": {
      "text/html": [
       "<div>\n",
       "<style scoped>\n",
       "    .dataframe tbody tr th:only-of-type {\n",
       "        vertical-align: middle;\n",
       "    }\n",
       "\n",
       "    .dataframe tbody tr th {\n",
       "        vertical-align: top;\n",
       "    }\n",
       "\n",
       "    .dataframe thead th {\n",
       "        text-align: right;\n",
       "    }\n",
       "</style>\n",
       "<table border=\"1\" class=\"dataframe\">\n",
       "  <thead>\n",
       "    <tr style=\"text-align: right;\">\n",
       "      <th></th>\n",
       "      <th>Sexo_Cd</th>\n",
       "      <th>Sexo_desc</th>\n",
       "    </tr>\n",
       "  </thead>\n",
       "  <tbody>\n",
       "    <tr>\n",
       "      <th>0</th>\n",
       "      <td>M</td>\n",
       "      <td>Masculino</td>\n",
       "    </tr>\n",
       "    <tr>\n",
       "      <th>1</th>\n",
       "      <td>F</td>\n",
       "      <td>Femenino</td>\n",
       "    </tr>\n",
       "    <tr>\n",
       "      <th>2</th>\n",
       "      <td>-1</td>\n",
       "      <td>Sin Informacion</td>\n",
       "    </tr>\n",
       "  </tbody>\n",
       "</table>\n",
       "</div>"
      ],
      "text/plain": [
       "  Sexo_Cd        Sexo_desc\n",
       "0       M        Masculino\n",
       "1       F         Femenino\n",
       "2      -1  Sin Informacion"
      ]
     },
     "execution_count": 7,
     "metadata": {},
     "output_type": "execute_result"
    }
   ],
   "source": [
    "genero"
   ]
  },
  {
   "cell_type": "code",
   "execution_count": 8,
   "metadata": {},
   "outputs": [
    {
     "data": {
      "text/html": [
       "<div>\n",
       "<style scoped>\n",
       "    .dataframe tbody tr th:only-of-type {\n",
       "        vertical-align: middle;\n",
       "    }\n",
       "\n",
       "    .dataframe tbody tr th {\n",
       "        vertical-align: top;\n",
       "    }\n",
       "\n",
       "    .dataframe thead th {\n",
       "        text-align: right;\n",
       "    }\n",
       "</style>\n",
       "<table border=\"1\" class=\"dataframe\">\n",
       "  <thead>\n",
       "    <tr style=\"text-align: right;\">\n",
       "      <th></th>\n",
       "      <th>Afiliado_Id</th>\n",
       "      <th>Sexo_codigo</th>\n",
       "      <th>FechaNacimiento</th>\n",
       "      <th>Regional_codigo</th>\n",
       "      <th>CANCER</th>\n",
       "      <th>EPOC</th>\n",
       "      <th>DIABETES</th>\n",
       "      <th>HIPERTENSION</th>\n",
       "      <th>ENF_CARDIOVASCULAR</th>\n",
       "    </tr>\n",
       "  </thead>\n",
       "  <tbody>\n",
       "    <tr>\n",
       "      <th>0</th>\n",
       "      <td>738288</td>\n",
       "      <td>M</td>\n",
       "      <td>1976-11-08</td>\n",
       "      <td>1</td>\n",
       "      <td>0</td>\n",
       "      <td>0</td>\n",
       "      <td>0</td>\n",
       "      <td>0</td>\n",
       "      <td>0</td>\n",
       "    </tr>\n",
       "    <tr>\n",
       "      <th>1</th>\n",
       "      <td>738294</td>\n",
       "      <td>M</td>\n",
       "      <td>1964-01-16</td>\n",
       "      <td>2</td>\n",
       "      <td>0</td>\n",
       "      <td>0</td>\n",
       "      <td>0</td>\n",
       "      <td>0</td>\n",
       "      <td>0</td>\n",
       "    </tr>\n",
       "    <tr>\n",
       "      <th>2</th>\n",
       "      <td>738303</td>\n",
       "      <td>F</td>\n",
       "      <td>1974-05-28</td>\n",
       "      <td>3</td>\n",
       "      <td>0</td>\n",
       "      <td>0</td>\n",
       "      <td>0</td>\n",
       "      <td>0</td>\n",
       "      <td>0</td>\n",
       "    </tr>\n",
       "    <tr>\n",
       "      <th>3</th>\n",
       "      <td>738318</td>\n",
       "      <td>M</td>\n",
       "      <td>1941-03-18</td>\n",
       "      <td>2</td>\n",
       "      <td>1</td>\n",
       "      <td>0</td>\n",
       "      <td>1</td>\n",
       "      <td>1</td>\n",
       "      <td>0</td>\n",
       "    </tr>\n",
       "    <tr>\n",
       "      <th>4</th>\n",
       "      <td>738323</td>\n",
       "      <td>F</td>\n",
       "      <td>1928-08-07</td>\n",
       "      <td>2</td>\n",
       "      <td>0</td>\n",
       "      <td>0</td>\n",
       "      <td>0</td>\n",
       "      <td>1</td>\n",
       "      <td>0</td>\n",
       "    </tr>\n",
       "    <tr>\n",
       "      <th>...</th>\n",
       "      <td>...</td>\n",
       "      <td>...</td>\n",
       "      <td>...</td>\n",
       "      <td>...</td>\n",
       "      <td>...</td>\n",
       "      <td>...</td>\n",
       "      <td>...</td>\n",
       "      <td>...</td>\n",
       "      <td>...</td>\n",
       "    </tr>\n",
       "    <tr>\n",
       "      <th>218200</th>\n",
       "      <td>59559606</td>\n",
       "      <td>F</td>\n",
       "      <td>2004-06-26</td>\n",
       "      <td>2</td>\n",
       "      <td>0</td>\n",
       "      <td>0</td>\n",
       "      <td>0</td>\n",
       "      <td>0</td>\n",
       "      <td>0</td>\n",
       "    </tr>\n",
       "    <tr>\n",
       "      <th>218201</th>\n",
       "      <td>59564764</td>\n",
       "      <td>F</td>\n",
       "      <td>2005-03-18</td>\n",
       "      <td>2</td>\n",
       "      <td>0</td>\n",
       "      <td>0</td>\n",
       "      <td>0</td>\n",
       "      <td>0</td>\n",
       "      <td>0</td>\n",
       "    </tr>\n",
       "    <tr>\n",
       "      <th>218202</th>\n",
       "      <td>59565065</td>\n",
       "      <td>F</td>\n",
       "      <td>2005-03-14</td>\n",
       "      <td>2</td>\n",
       "      <td>0</td>\n",
       "      <td>0</td>\n",
       "      <td>0</td>\n",
       "      <td>0</td>\n",
       "      <td>0</td>\n",
       "    </tr>\n",
       "    <tr>\n",
       "      <th>218203</th>\n",
       "      <td>59570753</td>\n",
       "      <td>M</td>\n",
       "      <td>1976-03-20</td>\n",
       "      <td>4</td>\n",
       "      <td>0</td>\n",
       "      <td>0</td>\n",
       "      <td>0</td>\n",
       "      <td>0</td>\n",
       "      <td>0</td>\n",
       "    </tr>\n",
       "    <tr>\n",
       "      <th>218204</th>\n",
       "      <td>59571570</td>\n",
       "      <td>M</td>\n",
       "      <td>2001-10-26</td>\n",
       "      <td>4</td>\n",
       "      <td>0</td>\n",
       "      <td>0</td>\n",
       "      <td>0</td>\n",
       "      <td>0</td>\n",
       "      <td>0</td>\n",
       "    </tr>\n",
       "  </tbody>\n",
       "</table>\n",
       "<p>218205 rows × 9 columns</p>\n",
       "</div>"
      ],
      "text/plain": [
       "        Afiliado_Id Sexo_codigo FechaNacimiento Regional_codigo  CANCER  EPOC  \\\n",
       "0            738288           M      1976-11-08               1       0     0   \n",
       "1            738294           M      1964-01-16               2       0     0   \n",
       "2            738303           F      1974-05-28               3       0     0   \n",
       "3            738318           M      1941-03-18               2       1     0   \n",
       "4            738323           F      1928-08-07               2       0     0   \n",
       "...             ...         ...             ...             ...     ...   ...   \n",
       "218200     59559606           F      2004-06-26               2       0     0   \n",
       "218201     59564764           F      2005-03-18               2       0     0   \n",
       "218202     59565065           F      2005-03-14               2       0     0   \n",
       "218203     59570753           M      1976-03-20               4       0     0   \n",
       "218204     59571570           M      2001-10-26               4       0     0   \n",
       "\n",
       "        DIABETES  HIPERTENSION  ENF_CARDIOVASCULAR  \n",
       "0              0             0                   0  \n",
       "1              0             0                   0  \n",
       "2              0             0                   0  \n",
       "3              1             1                   0  \n",
       "4              0             1                   0  \n",
       "...          ...           ...                 ...  \n",
       "218200         0             0                   0  \n",
       "218201         0             0                   0  \n",
       "218202         0             0                   0  \n",
       "218203         0             0                   0  \n",
       "218204         0             0                   0  \n",
       "\n",
       "[218205 rows x 9 columns]"
      ]
     },
     "execution_count": 8,
     "metadata": {},
     "output_type": "execute_result"
    }
   ],
   "source": [
    "sociodemograficas['FechaNacimiento']=sociodemograficas['FechaNacimiento'].apply(lambda x: datetime.datetime(1899, 12, 30) + datetime.timedelta(days=x))\n",
    "sociodemograficas"
   ]
  },
  {
   "cell_type": "code",
   "execution_count": 9,
   "metadata": {},
   "outputs": [
    {
     "data": {
      "text/html": [
       "<div>\n",
       "<style scoped>\n",
       "    .dataframe tbody tr th:only-of-type {\n",
       "        vertical-align: middle;\n",
       "    }\n",
       "\n",
       "    .dataframe tbody tr th {\n",
       "        vertical-align: top;\n",
       "    }\n",
       "\n",
       "    .dataframe thead th {\n",
       "        text-align: right;\n",
       "    }\n",
       "</style>\n",
       "<table border=\"1\" class=\"dataframe\">\n",
       "  <thead>\n",
       "    <tr style=\"text-align: right;\">\n",
       "      <th></th>\n",
       "      <th>Fecha_Reclamacion</th>\n",
       "      <th>Afiliado_Id</th>\n",
       "      <th>Reclamacion_codigo</th>\n",
       "      <th>Diagnostico_Codigo</th>\n",
       "      <th>Cantidad</th>\n",
       "      <th>Precio</th>\n",
       "    </tr>\n",
       "  </thead>\n",
       "  <tbody>\n",
       "    <tr>\n",
       "      <th>0</th>\n",
       "      <td>23/10/2019</td>\n",
       "      <td>22914637</td>\n",
       "      <td>12</td>\n",
       "      <td>M45X</td>\n",
       "      <td>1.0</td>\n",
       "      <td>1056639.96</td>\n",
       "    </tr>\n",
       "    <tr>\n",
       "      <th>1</th>\n",
       "      <td>26/11/2019</td>\n",
       "      <td>58412744</td>\n",
       "      <td>9</td>\n",
       "      <td>0</td>\n",
       "      <td>1.0</td>\n",
       "      <td>139772.80</td>\n",
       "    </tr>\n",
       "    <tr>\n",
       "      <th>2</th>\n",
       "      <td>23/10/2019</td>\n",
       "      <td>5070923</td>\n",
       "      <td>16</td>\n",
       "      <td>0</td>\n",
       "      <td>1.0</td>\n",
       "      <td>320166.76</td>\n",
       "    </tr>\n",
       "    <tr>\n",
       "      <th>3</th>\n",
       "      <td>27/11/2019</td>\n",
       "      <td>5769950</td>\n",
       "      <td>13</td>\n",
       "      <td>0</td>\n",
       "      <td>1.0</td>\n",
       "      <td>21204.00</td>\n",
       "    </tr>\n",
       "    <tr>\n",
       "      <th>4</th>\n",
       "      <td>8/11/2019</td>\n",
       "      <td>24022833</td>\n",
       "      <td>12</td>\n",
       "      <td>K589</td>\n",
       "      <td>1.0</td>\n",
       "      <td>60636.00</td>\n",
       "    </tr>\n",
       "    <tr>\n",
       "      <th>...</th>\n",
       "      <td>...</td>\n",
       "      <td>...</td>\n",
       "      <td>...</td>\n",
       "      <td>...</td>\n",
       "      <td>...</td>\n",
       "      <td>...</td>\n",
       "    </tr>\n",
       "    <tr>\n",
       "      <th>395863</th>\n",
       "      <td>14/11/2019</td>\n",
       "      <td>4351189</td>\n",
       "      <td>16</td>\n",
       "      <td>0</td>\n",
       "      <td>15.0</td>\n",
       "      <td>251820.44</td>\n",
       "    </tr>\n",
       "    <tr>\n",
       "      <th>395864</th>\n",
       "      <td>7/9/2019</td>\n",
       "      <td>44677250</td>\n",
       "      <td>9</td>\n",
       "      <td>0</td>\n",
       "      <td>1.0</td>\n",
       "      <td>67208.00</td>\n",
       "    </tr>\n",
       "    <tr>\n",
       "      <th>395865</th>\n",
       "      <td>25/10/2019</td>\n",
       "      <td>19220270</td>\n",
       "      <td>13</td>\n",
       "      <td>0</td>\n",
       "      <td>10.0</td>\n",
       "      <td>475726.00</td>\n",
       "    </tr>\n",
       "    <tr>\n",
       "      <th>395866</th>\n",
       "      <td>11/12/2019</td>\n",
       "      <td>25627716</td>\n",
       "      <td>12</td>\n",
       "      <td>0</td>\n",
       "      <td>2.0</td>\n",
       "      <td>568788.00</td>\n",
       "    </tr>\n",
       "    <tr>\n",
       "      <th>395867</th>\n",
       "      <td>27/10/2019</td>\n",
       "      <td>30959682</td>\n",
       "      <td>8</td>\n",
       "      <td>0</td>\n",
       "      <td>1.0</td>\n",
       "      <td>86677.24</td>\n",
       "    </tr>\n",
       "  </tbody>\n",
       "</table>\n",
       "<p>395868 rows × 6 columns</p>\n",
       "</div>"
      ],
      "text/plain": [
       "       Fecha_Reclamacion  Afiliado_Id  Reclamacion_codigo Diagnostico_Codigo  \\\n",
       "0             23/10/2019     22914637                  12               M45X   \n",
       "1             26/11/2019     58412744                   9                  0   \n",
       "2             23/10/2019      5070923                  16                  0   \n",
       "3             27/11/2019      5769950                  13                  0   \n",
       "4              8/11/2019     24022833                  12               K589   \n",
       "...                  ...          ...                 ...                ...   \n",
       "395863        14/11/2019      4351189                  16                  0   \n",
       "395864          7/9/2019     44677250                   9                  0   \n",
       "395865        25/10/2019     19220270                  13                  0   \n",
       "395866        11/12/2019     25627716                  12                  0   \n",
       "395867        27/10/2019     30959682                   8                  0   \n",
       "\n",
       "        Cantidad      Precio  \n",
       "0            1.0  1056639.96  \n",
       "1            1.0   139772.80  \n",
       "2            1.0   320166.76  \n",
       "3            1.0    21204.00  \n",
       "4            1.0    60636.00  \n",
       "...          ...         ...  \n",
       "395863      15.0   251820.44  \n",
       "395864       1.0    67208.00  \n",
       "395865      10.0   475726.00  \n",
       "395866       2.0   568788.00  \n",
       "395867       1.0    86677.24  \n",
       "\n",
       "[395868 rows x 6 columns]"
      ]
     },
     "execution_count": 9,
     "metadata": {},
     "output_type": "execute_result"
    }
   ],
   "source": [
    "utilizaciones['Reclamacion_codigo']=utilizaciones['Reclamacion_codigo'].astype(\"int\")\n",
    "utilizaciones['Diagnostico_Codigo'].replace(\"9\",\"0\", inplace=True)\n",
    "utilizaciones['Diagnostico_Codigo'].replace(\"-1\",\"0\", inplace=True)\n",
    "utilizaciones\n"
   ]
  },
  {
   "cell_type": "code",
   "execution_count": 10,
   "metadata": {},
   "outputs": [
    {
     "data": {
      "text/html": [
       "<div>\n",
       "<style scoped>\n",
       "    .dataframe tbody tr th:only-of-type {\n",
       "        vertical-align: middle;\n",
       "    }\n",
       "\n",
       "    .dataframe tbody tr th {\n",
       "        vertical-align: top;\n",
       "    }\n",
       "\n",
       "    .dataframe thead th {\n",
       "        text-align: right;\n",
       "    }\n",
       "</style>\n",
       "<table border=\"1\" class=\"dataframe\">\n",
       "  <thead>\n",
       "    <tr style=\"text-align: right;\">\n",
       "      <th></th>\n",
       "      <th>Fecha_Reclamacion</th>\n",
       "      <th>Afiliado_Id</th>\n",
       "      <th>Reclamacion_codigo</th>\n",
       "      <th>Diagnostico_Codigo</th>\n",
       "      <th>Cantidad</th>\n",
       "      <th>Precio</th>\n",
       "      <th>Sexo_codigo</th>\n",
       "      <th>FechaNacimiento</th>\n",
       "      <th>Regional_codigo</th>\n",
       "      <th>CANCER</th>\n",
       "      <th>EPOC</th>\n",
       "      <th>DIABETES</th>\n",
       "      <th>HIPERTENSION</th>\n",
       "      <th>ENF_CARDIOVASCULAR</th>\n",
       "      <th>Regional_Desc</th>\n",
       "      <th>Diagnostico_Desc</th>\n",
       "      <th>Reclamacion_Desc</th>\n",
       "    </tr>\n",
       "  </thead>\n",
       "  <tbody>\n",
       "    <tr>\n",
       "      <th>0</th>\n",
       "      <td>23/10/2019</td>\n",
       "      <td>22914637</td>\n",
       "      <td>12</td>\n",
       "      <td>M45X</td>\n",
       "      <td>1.0</td>\n",
       "      <td>1056639.96</td>\n",
       "      <td>M</td>\n",
       "      <td>1991-04-17</td>\n",
       "      <td>5</td>\n",
       "      <td>0.0</td>\n",
       "      <td>0.0</td>\n",
       "      <td>0.0</td>\n",
       "      <td>0.0</td>\n",
       "      <td>0.0</td>\n",
       "      <td>REGIONAL EJE CAFETERO</td>\n",
       "      <td>ESPONDILITIS ANQUILOSANTE</td>\n",
       "      <td>EXAMENES DE DIAGNOSTICO</td>\n",
       "    </tr>\n",
       "    <tr>\n",
       "      <th>1</th>\n",
       "      <td>26/11/2019</td>\n",
       "      <td>58412744</td>\n",
       "      <td>9</td>\n",
       "      <td>0</td>\n",
       "      <td>1.0</td>\n",
       "      <td>139772.80</td>\n",
       "      <td>F</td>\n",
       "      <td>2004-04-24</td>\n",
       "      <td>2</td>\n",
       "      <td>0.0</td>\n",
       "      <td>0.0</td>\n",
       "      <td>0.0</td>\n",
       "      <td>0.0</td>\n",
       "      <td>0.0</td>\n",
       "      <td>REGIONAL CENTRO</td>\n",
       "      <td>DIAGNÓSTICO PENDIENTE</td>\n",
       "      <td>CONSULTA EXTERNA</td>\n",
       "    </tr>\n",
       "    <tr>\n",
       "      <th>2</th>\n",
       "      <td>23/10/2019</td>\n",
       "      <td>5070923</td>\n",
       "      <td>16</td>\n",
       "      <td>0</td>\n",
       "      <td>1.0</td>\n",
       "      <td>320166.76</td>\n",
       "      <td>F</td>\n",
       "      <td>1974-05-05</td>\n",
       "      <td>2</td>\n",
       "      <td>0.0</td>\n",
       "      <td>0.0</td>\n",
       "      <td>0.0</td>\n",
       "      <td>0.0</td>\n",
       "      <td>0.0</td>\n",
       "      <td>REGIONAL CENTRO</td>\n",
       "      <td>DIAGNÓSTICO PENDIENTE</td>\n",
       "      <td>LABORATORIO CLINICO</td>\n",
       "    </tr>\n",
       "    <tr>\n",
       "      <th>3</th>\n",
       "      <td>27/11/2019</td>\n",
       "      <td>5769950</td>\n",
       "      <td>13</td>\n",
       "      <td>0</td>\n",
       "      <td>1.0</td>\n",
       "      <td>21204.00</td>\n",
       "      <td>F</td>\n",
       "      <td>1928-09-11</td>\n",
       "      <td>2</td>\n",
       "      <td>0.0</td>\n",
       "      <td>0.0</td>\n",
       "      <td>0.0</td>\n",
       "      <td>0.0</td>\n",
       "      <td>0.0</td>\n",
       "      <td>REGIONAL CENTRO</td>\n",
       "      <td>DIAGNÓSTICO PENDIENTE</td>\n",
       "      <td>FISIOTERAPIA ILIMITADA</td>\n",
       "    </tr>\n",
       "    <tr>\n",
       "      <th>4</th>\n",
       "      <td>8/11/2019</td>\n",
       "      <td>24022833</td>\n",
       "      <td>12</td>\n",
       "      <td>K589</td>\n",
       "      <td>1.0</td>\n",
       "      <td>60636.00</td>\n",
       "      <td>M</td>\n",
       "      <td>1990-07-19</td>\n",
       "      <td>2</td>\n",
       "      <td>0.0</td>\n",
       "      <td>0.0</td>\n",
       "      <td>0.0</td>\n",
       "      <td>0.0</td>\n",
       "      <td>0.0</td>\n",
       "      <td>REGIONAL CENTRO</td>\n",
       "      <td>SÍNDROME DEL COLON IRRITABLE SIN DIARREA</td>\n",
       "      <td>EXAMENES DE DIAGNOSTICO</td>\n",
       "    </tr>\n",
       "    <tr>\n",
       "      <th>...</th>\n",
       "      <td>...</td>\n",
       "      <td>...</td>\n",
       "      <td>...</td>\n",
       "      <td>...</td>\n",
       "      <td>...</td>\n",
       "      <td>...</td>\n",
       "      <td>...</td>\n",
       "      <td>...</td>\n",
       "      <td>...</td>\n",
       "      <td>...</td>\n",
       "      <td>...</td>\n",
       "      <td>...</td>\n",
       "      <td>...</td>\n",
       "      <td>...</td>\n",
       "      <td>...</td>\n",
       "      <td>...</td>\n",
       "      <td>...</td>\n",
       "    </tr>\n",
       "    <tr>\n",
       "      <th>395863</th>\n",
       "      <td>14/11/2019</td>\n",
       "      <td>4351189</td>\n",
       "      <td>16</td>\n",
       "      <td>0</td>\n",
       "      <td>15.0</td>\n",
       "      <td>251820.44</td>\n",
       "      <td>F</td>\n",
       "      <td>1951-10-22</td>\n",
       "      <td>5</td>\n",
       "      <td>0.0</td>\n",
       "      <td>0.0</td>\n",
       "      <td>0.0</td>\n",
       "      <td>1.0</td>\n",
       "      <td>0.0</td>\n",
       "      <td>REGIONAL EJE CAFETERO</td>\n",
       "      <td>DIAGNÓSTICO PENDIENTE</td>\n",
       "      <td>LABORATORIO CLINICO</td>\n",
       "    </tr>\n",
       "    <tr>\n",
       "      <th>395864</th>\n",
       "      <td>7/9/2019</td>\n",
       "      <td>44677250</td>\n",
       "      <td>9</td>\n",
       "      <td>0</td>\n",
       "      <td>1.0</td>\n",
       "      <td>67208.00</td>\n",
       "      <td>F</td>\n",
       "      <td>1999-03-28</td>\n",
       "      <td>1</td>\n",
       "      <td>0.0</td>\n",
       "      <td>0.0</td>\n",
       "      <td>0.0</td>\n",
       "      <td>0.0</td>\n",
       "      <td>0.0</td>\n",
       "      <td>REGIONAL ANTIOQUIA</td>\n",
       "      <td>DIAGNÓSTICO PENDIENTE</td>\n",
       "      <td>CONSULTA EXTERNA</td>\n",
       "    </tr>\n",
       "    <tr>\n",
       "      <th>395865</th>\n",
       "      <td>25/10/2019</td>\n",
       "      <td>19220270</td>\n",
       "      <td>13</td>\n",
       "      <td>0</td>\n",
       "      <td>10.0</td>\n",
       "      <td>475726.00</td>\n",
       "      <td>F</td>\n",
       "      <td>1980-01-29</td>\n",
       "      <td>1</td>\n",
       "      <td>0.0</td>\n",
       "      <td>0.0</td>\n",
       "      <td>0.0</td>\n",
       "      <td>0.0</td>\n",
       "      <td>0.0</td>\n",
       "      <td>REGIONAL ANTIOQUIA</td>\n",
       "      <td>DIAGNÓSTICO PENDIENTE</td>\n",
       "      <td>FISIOTERAPIA ILIMITADA</td>\n",
       "    </tr>\n",
       "    <tr>\n",
       "      <th>395866</th>\n",
       "      <td>11/12/2019</td>\n",
       "      <td>25627716</td>\n",
       "      <td>12</td>\n",
       "      <td>0</td>\n",
       "      <td>2.0</td>\n",
       "      <td>568788.00</td>\n",
       "      <td>F</td>\n",
       "      <td>1981-03-07</td>\n",
       "      <td>2</td>\n",
       "      <td>0.0</td>\n",
       "      <td>0.0</td>\n",
       "      <td>0.0</td>\n",
       "      <td>0.0</td>\n",
       "      <td>0.0</td>\n",
       "      <td>REGIONAL CENTRO</td>\n",
       "      <td>DIAGNÓSTICO PENDIENTE</td>\n",
       "      <td>EXAMENES DE DIAGNOSTICO</td>\n",
       "    </tr>\n",
       "    <tr>\n",
       "      <th>395867</th>\n",
       "      <td>27/10/2019</td>\n",
       "      <td>30959682</td>\n",
       "      <td>8</td>\n",
       "      <td>0</td>\n",
       "      <td>1.0</td>\n",
       "      <td>86677.24</td>\n",
       "      <td>F</td>\n",
       "      <td>1991-12-02</td>\n",
       "      <td>2</td>\n",
       "      <td>0.0</td>\n",
       "      <td>0.0</td>\n",
       "      <td>0.0</td>\n",
       "      <td>0.0</td>\n",
       "      <td>0.0</td>\n",
       "      <td>REGIONAL CENTRO</td>\n",
       "      <td>DIAGNÓSTICO PENDIENTE</td>\n",
       "      <td>CONSULTA DE URGENCIAS</td>\n",
       "    </tr>\n",
       "  </tbody>\n",
       "</table>\n",
       "<p>395868 rows × 17 columns</p>\n",
       "</div>"
      ],
      "text/plain": [
       "       Fecha_Reclamacion  Afiliado_Id  Reclamacion_codigo Diagnostico_Codigo  \\\n",
       "0             23/10/2019     22914637                  12               M45X   \n",
       "1             26/11/2019     58412744                   9                  0   \n",
       "2             23/10/2019      5070923                  16                  0   \n",
       "3             27/11/2019      5769950                  13                  0   \n",
       "4              8/11/2019     24022833                  12               K589   \n",
       "...                  ...          ...                 ...                ...   \n",
       "395863        14/11/2019      4351189                  16                  0   \n",
       "395864          7/9/2019     44677250                   9                  0   \n",
       "395865        25/10/2019     19220270                  13                  0   \n",
       "395866        11/12/2019     25627716                  12                  0   \n",
       "395867        27/10/2019     30959682                   8                  0   \n",
       "\n",
       "        Cantidad      Precio Sexo_codigo FechaNacimiento Regional_codigo  \\\n",
       "0            1.0  1056639.96           M      1991-04-17               5   \n",
       "1            1.0   139772.80           F      2004-04-24               2   \n",
       "2            1.0   320166.76           F      1974-05-05               2   \n",
       "3            1.0    21204.00           F      1928-09-11               2   \n",
       "4            1.0    60636.00           M      1990-07-19               2   \n",
       "...          ...         ...         ...             ...             ...   \n",
       "395863      15.0   251820.44           F      1951-10-22               5   \n",
       "395864       1.0    67208.00           F      1999-03-28               1   \n",
       "395865      10.0   475726.00           F      1980-01-29               1   \n",
       "395866       2.0   568788.00           F      1981-03-07               2   \n",
       "395867       1.0    86677.24           F      1991-12-02               2   \n",
       "\n",
       "        CANCER  EPOC  DIABETES  HIPERTENSION  ENF_CARDIOVASCULAR  \\\n",
       "0          0.0   0.0       0.0           0.0                 0.0   \n",
       "1          0.0   0.0       0.0           0.0                 0.0   \n",
       "2          0.0   0.0       0.0           0.0                 0.0   \n",
       "3          0.0   0.0       0.0           0.0                 0.0   \n",
       "4          0.0   0.0       0.0           0.0                 0.0   \n",
       "...        ...   ...       ...           ...                 ...   \n",
       "395863     0.0   0.0       0.0           1.0                 0.0   \n",
       "395864     0.0   0.0       0.0           0.0                 0.0   \n",
       "395865     0.0   0.0       0.0           0.0                 0.0   \n",
       "395866     0.0   0.0       0.0           0.0                 0.0   \n",
       "395867     0.0   0.0       0.0           0.0                 0.0   \n",
       "\n",
       "                Regional_Desc                          Diagnostico_Desc  \\\n",
       "0       REGIONAL EJE CAFETERO                 ESPONDILITIS ANQUILOSANTE   \n",
       "1             REGIONAL CENTRO                     DIAGNÓSTICO PENDIENTE   \n",
       "2             REGIONAL CENTRO                     DIAGNÓSTICO PENDIENTE   \n",
       "3             REGIONAL CENTRO                     DIAGNÓSTICO PENDIENTE   \n",
       "4             REGIONAL CENTRO  SÍNDROME DEL COLON IRRITABLE SIN DIARREA   \n",
       "...                       ...                                       ...   \n",
       "395863  REGIONAL EJE CAFETERO                     DIAGNÓSTICO PENDIENTE   \n",
       "395864     REGIONAL ANTIOQUIA                     DIAGNÓSTICO PENDIENTE   \n",
       "395865     REGIONAL ANTIOQUIA                     DIAGNÓSTICO PENDIENTE   \n",
       "395866        REGIONAL CENTRO                     DIAGNÓSTICO PENDIENTE   \n",
       "395867        REGIONAL CENTRO                     DIAGNÓSTICO PENDIENTE   \n",
       "\n",
       "               Reclamacion_Desc  \n",
       "0       EXAMENES DE DIAGNOSTICO  \n",
       "1              CONSULTA EXTERNA  \n",
       "2           LABORATORIO CLINICO  \n",
       "3        FISIOTERAPIA ILIMITADA  \n",
       "4       EXAMENES DE DIAGNOSTICO  \n",
       "...                         ...  \n",
       "395863      LABORATORIO CLINICO  \n",
       "395864         CONSULTA EXTERNA  \n",
       "395865   FISIOTERAPIA ILIMITADA  \n",
       "395866  EXAMENES DE DIAGNOSTICO  \n",
       "395867    CONSULTA DE URGENCIAS  \n",
       "\n",
       "[395868 rows x 17 columns]"
      ]
     },
     "execution_count": 10,
     "metadata": {},
     "output_type": "execute_result"
    }
   ],
   "source": [
    "# Se integran los diferentes datasets en un solo dataset\n",
    "Seguro_salud=pd.merge(utilizaciones,sociodemograficas,on=\"Afiliado_Id\", how=\"left\" )\n",
    "Seguro_salud=pd.merge(Seguro_salud,regional,on=\"Regional_codigo\", how=\"left\" )\n",
    "Seguro_salud=pd.merge(Seguro_salud,diagnosticos,on=\"Diagnostico_Codigo\", how=\"left\" )\n",
    "Seguro_salud=pd.merge(Seguro_salud,reclamaciones,on=\"Reclamacion_codigo\", how=\"left\" )\n",
    "Seguro_salud\n",
    "\n"
   ]
  },
  {
   "cell_type": "code",
   "execution_count": 11,
   "metadata": {},
   "outputs": [
    {
     "data": {
      "text/html": [
       "<div>\n",
       "<style scoped>\n",
       "    .dataframe tbody tr th:only-of-type {\n",
       "        vertical-align: middle;\n",
       "    }\n",
       "\n",
       "    .dataframe tbody tr th {\n",
       "        vertical-align: top;\n",
       "    }\n",
       "\n",
       "    .dataframe thead th {\n",
       "        text-align: right;\n",
       "    }\n",
       "</style>\n",
       "<table border=\"1\" class=\"dataframe\">\n",
       "  <thead>\n",
       "    <tr style=\"text-align: right;\">\n",
       "      <th></th>\n",
       "      <th>Fecha_Reclamacion</th>\n",
       "      <th>Afiliado_Id</th>\n",
       "      <th>Reclamacion_codigo</th>\n",
       "      <th>Diagnostico_Codigo</th>\n",
       "      <th>Cantidad</th>\n",
       "      <th>Precio</th>\n",
       "      <th>Sexo_codigo</th>\n",
       "      <th>FechaNacimiento</th>\n",
       "      <th>Regional_codigo</th>\n",
       "      <th>CANCER</th>\n",
       "      <th>EPOC</th>\n",
       "      <th>DIABETES</th>\n",
       "      <th>HIPERTENSION</th>\n",
       "      <th>ENF_CARDIOVASCULAR</th>\n",
       "      <th>Regional_Desc</th>\n",
       "      <th>Diagnostico_Desc</th>\n",
       "      <th>Reclamacion_Desc</th>\n",
       "    </tr>\n",
       "  </thead>\n",
       "  <tbody>\n",
       "    <tr>\n",
       "      <th>0</th>\n",
       "      <td>23/10/2019</td>\n",
       "      <td>22914637</td>\n",
       "      <td>12</td>\n",
       "      <td>M45X</td>\n",
       "      <td>1.0</td>\n",
       "      <td>1056639.96</td>\n",
       "      <td>M</td>\n",
       "      <td>28.0</td>\n",
       "      <td>5</td>\n",
       "      <td>0.0</td>\n",
       "      <td>0.0</td>\n",
       "      <td>0.0</td>\n",
       "      <td>0.0</td>\n",
       "      <td>0.0</td>\n",
       "      <td>REGIONAL EJE CAFETERO</td>\n",
       "      <td>ESPONDILITIS ANQUILOSANTE</td>\n",
       "      <td>EXAMENES DE DIAGNOSTICO</td>\n",
       "    </tr>\n",
       "    <tr>\n",
       "      <th>1</th>\n",
       "      <td>26/11/2019</td>\n",
       "      <td>58412744</td>\n",
       "      <td>9</td>\n",
       "      <td>0</td>\n",
       "      <td>1.0</td>\n",
       "      <td>139772.80</td>\n",
       "      <td>F</td>\n",
       "      <td>15.0</td>\n",
       "      <td>2</td>\n",
       "      <td>0.0</td>\n",
       "      <td>0.0</td>\n",
       "      <td>0.0</td>\n",
       "      <td>0.0</td>\n",
       "      <td>0.0</td>\n",
       "      <td>REGIONAL CENTRO</td>\n",
       "      <td>DIAGNÓSTICO PENDIENTE</td>\n",
       "      <td>CONSULTA EXTERNA</td>\n",
       "    </tr>\n",
       "    <tr>\n",
       "      <th>2</th>\n",
       "      <td>23/10/2019</td>\n",
       "      <td>5070923</td>\n",
       "      <td>16</td>\n",
       "      <td>0</td>\n",
       "      <td>1.0</td>\n",
       "      <td>320166.76</td>\n",
       "      <td>F</td>\n",
       "      <td>45.0</td>\n",
       "      <td>2</td>\n",
       "      <td>0.0</td>\n",
       "      <td>0.0</td>\n",
       "      <td>0.0</td>\n",
       "      <td>0.0</td>\n",
       "      <td>0.0</td>\n",
       "      <td>REGIONAL CENTRO</td>\n",
       "      <td>DIAGNÓSTICO PENDIENTE</td>\n",
       "      <td>LABORATORIO CLINICO</td>\n",
       "    </tr>\n",
       "    <tr>\n",
       "      <th>3</th>\n",
       "      <td>27/11/2019</td>\n",
       "      <td>5769950</td>\n",
       "      <td>13</td>\n",
       "      <td>0</td>\n",
       "      <td>1.0</td>\n",
       "      <td>21204.00</td>\n",
       "      <td>F</td>\n",
       "      <td>91.0</td>\n",
       "      <td>2</td>\n",
       "      <td>0.0</td>\n",
       "      <td>0.0</td>\n",
       "      <td>0.0</td>\n",
       "      <td>0.0</td>\n",
       "      <td>0.0</td>\n",
       "      <td>REGIONAL CENTRO</td>\n",
       "      <td>DIAGNÓSTICO PENDIENTE</td>\n",
       "      <td>FISIOTERAPIA ILIMITADA</td>\n",
       "    </tr>\n",
       "    <tr>\n",
       "      <th>4</th>\n",
       "      <td>8/11/2019</td>\n",
       "      <td>24022833</td>\n",
       "      <td>12</td>\n",
       "      <td>K589</td>\n",
       "      <td>1.0</td>\n",
       "      <td>60636.00</td>\n",
       "      <td>M</td>\n",
       "      <td>29.0</td>\n",
       "      <td>2</td>\n",
       "      <td>0.0</td>\n",
       "      <td>0.0</td>\n",
       "      <td>0.0</td>\n",
       "      <td>0.0</td>\n",
       "      <td>0.0</td>\n",
       "      <td>REGIONAL CENTRO</td>\n",
       "      <td>SÍNDROME DEL COLON IRRITABLE SIN DIARREA</td>\n",
       "      <td>EXAMENES DE DIAGNOSTICO</td>\n",
       "    </tr>\n",
       "    <tr>\n",
       "      <th>...</th>\n",
       "      <td>...</td>\n",
       "      <td>...</td>\n",
       "      <td>...</td>\n",
       "      <td>...</td>\n",
       "      <td>...</td>\n",
       "      <td>...</td>\n",
       "      <td>...</td>\n",
       "      <td>...</td>\n",
       "      <td>...</td>\n",
       "      <td>...</td>\n",
       "      <td>...</td>\n",
       "      <td>...</td>\n",
       "      <td>...</td>\n",
       "      <td>...</td>\n",
       "      <td>...</td>\n",
       "      <td>...</td>\n",
       "      <td>...</td>\n",
       "    </tr>\n",
       "    <tr>\n",
       "      <th>395863</th>\n",
       "      <td>14/11/2019</td>\n",
       "      <td>4351189</td>\n",
       "      <td>16</td>\n",
       "      <td>0</td>\n",
       "      <td>15.0</td>\n",
       "      <td>251820.44</td>\n",
       "      <td>F</td>\n",
       "      <td>68.0</td>\n",
       "      <td>5</td>\n",
       "      <td>0.0</td>\n",
       "      <td>0.0</td>\n",
       "      <td>0.0</td>\n",
       "      <td>1.0</td>\n",
       "      <td>0.0</td>\n",
       "      <td>REGIONAL EJE CAFETERO</td>\n",
       "      <td>DIAGNÓSTICO PENDIENTE</td>\n",
       "      <td>LABORATORIO CLINICO</td>\n",
       "    </tr>\n",
       "    <tr>\n",
       "      <th>395864</th>\n",
       "      <td>7/9/2019</td>\n",
       "      <td>44677250</td>\n",
       "      <td>9</td>\n",
       "      <td>0</td>\n",
       "      <td>1.0</td>\n",
       "      <td>67208.00</td>\n",
       "      <td>F</td>\n",
       "      <td>20.0</td>\n",
       "      <td>1</td>\n",
       "      <td>0.0</td>\n",
       "      <td>0.0</td>\n",
       "      <td>0.0</td>\n",
       "      <td>0.0</td>\n",
       "      <td>0.0</td>\n",
       "      <td>REGIONAL ANTIOQUIA</td>\n",
       "      <td>DIAGNÓSTICO PENDIENTE</td>\n",
       "      <td>CONSULTA EXTERNA</td>\n",
       "    </tr>\n",
       "    <tr>\n",
       "      <th>395865</th>\n",
       "      <td>25/10/2019</td>\n",
       "      <td>19220270</td>\n",
       "      <td>13</td>\n",
       "      <td>0</td>\n",
       "      <td>10.0</td>\n",
       "      <td>475726.00</td>\n",
       "      <td>F</td>\n",
       "      <td>39.0</td>\n",
       "      <td>1</td>\n",
       "      <td>0.0</td>\n",
       "      <td>0.0</td>\n",
       "      <td>0.0</td>\n",
       "      <td>0.0</td>\n",
       "      <td>0.0</td>\n",
       "      <td>REGIONAL ANTIOQUIA</td>\n",
       "      <td>DIAGNÓSTICO PENDIENTE</td>\n",
       "      <td>FISIOTERAPIA ILIMITADA</td>\n",
       "    </tr>\n",
       "    <tr>\n",
       "      <th>395866</th>\n",
       "      <td>11/12/2019</td>\n",
       "      <td>25627716</td>\n",
       "      <td>12</td>\n",
       "      <td>0</td>\n",
       "      <td>2.0</td>\n",
       "      <td>568788.00</td>\n",
       "      <td>F</td>\n",
       "      <td>38.0</td>\n",
       "      <td>2</td>\n",
       "      <td>0.0</td>\n",
       "      <td>0.0</td>\n",
       "      <td>0.0</td>\n",
       "      <td>0.0</td>\n",
       "      <td>0.0</td>\n",
       "      <td>REGIONAL CENTRO</td>\n",
       "      <td>DIAGNÓSTICO PENDIENTE</td>\n",
       "      <td>EXAMENES DE DIAGNOSTICO</td>\n",
       "    </tr>\n",
       "    <tr>\n",
       "      <th>395867</th>\n",
       "      <td>27/10/2019</td>\n",
       "      <td>30959682</td>\n",
       "      <td>8</td>\n",
       "      <td>0</td>\n",
       "      <td>1.0</td>\n",
       "      <td>86677.24</td>\n",
       "      <td>F</td>\n",
       "      <td>28.0</td>\n",
       "      <td>2</td>\n",
       "      <td>0.0</td>\n",
       "      <td>0.0</td>\n",
       "      <td>0.0</td>\n",
       "      <td>0.0</td>\n",
       "      <td>0.0</td>\n",
       "      <td>REGIONAL CENTRO</td>\n",
       "      <td>DIAGNÓSTICO PENDIENTE</td>\n",
       "      <td>CONSULTA DE URGENCIAS</td>\n",
       "    </tr>\n",
       "  </tbody>\n",
       "</table>\n",
       "<p>395868 rows × 17 columns</p>\n",
       "</div>"
      ],
      "text/plain": [
       "       Fecha_Reclamacion  Afiliado_Id  Reclamacion_codigo Diagnostico_Codigo  \\\n",
       "0             23/10/2019     22914637                  12               M45X   \n",
       "1             26/11/2019     58412744                   9                  0   \n",
       "2             23/10/2019      5070923                  16                  0   \n",
       "3             27/11/2019      5769950                  13                  0   \n",
       "4              8/11/2019     24022833                  12               K589   \n",
       "...                  ...          ...                 ...                ...   \n",
       "395863        14/11/2019      4351189                  16                  0   \n",
       "395864          7/9/2019     44677250                   9                  0   \n",
       "395865        25/10/2019     19220270                  13                  0   \n",
       "395866        11/12/2019     25627716                  12                  0   \n",
       "395867        27/10/2019     30959682                   8                  0   \n",
       "\n",
       "        Cantidad      Precio Sexo_codigo  FechaNacimiento Regional_codigo  \\\n",
       "0            1.0  1056639.96           M             28.0               5   \n",
       "1            1.0   139772.80           F             15.0               2   \n",
       "2            1.0   320166.76           F             45.0               2   \n",
       "3            1.0    21204.00           F             91.0               2   \n",
       "4            1.0    60636.00           M             29.0               2   \n",
       "...          ...         ...         ...              ...             ...   \n",
       "395863      15.0   251820.44           F             68.0               5   \n",
       "395864       1.0    67208.00           F             20.0               1   \n",
       "395865      10.0   475726.00           F             39.0               1   \n",
       "395866       2.0   568788.00           F             38.0               2   \n",
       "395867       1.0    86677.24           F             28.0               2   \n",
       "\n",
       "        CANCER  EPOC  DIABETES  HIPERTENSION  ENF_CARDIOVASCULAR  \\\n",
       "0          0.0   0.0       0.0           0.0                 0.0   \n",
       "1          0.0   0.0       0.0           0.0                 0.0   \n",
       "2          0.0   0.0       0.0           0.0                 0.0   \n",
       "3          0.0   0.0       0.0           0.0                 0.0   \n",
       "4          0.0   0.0       0.0           0.0                 0.0   \n",
       "...        ...   ...       ...           ...                 ...   \n",
       "395863     0.0   0.0       0.0           1.0                 0.0   \n",
       "395864     0.0   0.0       0.0           0.0                 0.0   \n",
       "395865     0.0   0.0       0.0           0.0                 0.0   \n",
       "395866     0.0   0.0       0.0           0.0                 0.0   \n",
       "395867     0.0   0.0       0.0           0.0                 0.0   \n",
       "\n",
       "                Regional_Desc                          Diagnostico_Desc  \\\n",
       "0       REGIONAL EJE CAFETERO                 ESPONDILITIS ANQUILOSANTE   \n",
       "1             REGIONAL CENTRO                     DIAGNÓSTICO PENDIENTE   \n",
       "2             REGIONAL CENTRO                     DIAGNÓSTICO PENDIENTE   \n",
       "3             REGIONAL CENTRO                     DIAGNÓSTICO PENDIENTE   \n",
       "4             REGIONAL CENTRO  SÍNDROME DEL COLON IRRITABLE SIN DIARREA   \n",
       "...                       ...                                       ...   \n",
       "395863  REGIONAL EJE CAFETERO                     DIAGNÓSTICO PENDIENTE   \n",
       "395864     REGIONAL ANTIOQUIA                     DIAGNÓSTICO PENDIENTE   \n",
       "395865     REGIONAL ANTIOQUIA                     DIAGNÓSTICO PENDIENTE   \n",
       "395866        REGIONAL CENTRO                     DIAGNÓSTICO PENDIENTE   \n",
       "395867        REGIONAL CENTRO                     DIAGNÓSTICO PENDIENTE   \n",
       "\n",
       "               Reclamacion_Desc  \n",
       "0       EXAMENES DE DIAGNOSTICO  \n",
       "1              CONSULTA EXTERNA  \n",
       "2           LABORATORIO CLINICO  \n",
       "3        FISIOTERAPIA ILIMITADA  \n",
       "4       EXAMENES DE DIAGNOSTICO  \n",
       "...                         ...  \n",
       "395863      LABORATORIO CLINICO  \n",
       "395864         CONSULTA EXTERNA  \n",
       "395865   FISIOTERAPIA ILIMITADA  \n",
       "395866  EXAMENES DE DIAGNOSTICO  \n",
       "395867    CONSULTA DE URGENCIAS  \n",
       "\n",
       "[395868 rows x 17 columns]"
      ]
     },
     "execution_count": 11,
     "metadata": {},
     "output_type": "execute_result"
    }
   ],
   "source": [
    "# A partir de la columna fecha de nacimiento se calcula la edad de la persona\n",
    "Seguro_salud['FechaNacimiento']=2019-Seguro_salud.FechaNacimiento.dt.year\n",
    "Seguro_salud\n"
   ]
  },
  {
   "cell_type": "code",
   "execution_count": 12,
   "metadata": {},
   "outputs": [
    {
     "data": {
      "text/html": [
       "<div>\n",
       "<style scoped>\n",
       "    .dataframe tbody tr th:only-of-type {\n",
       "        vertical-align: middle;\n",
       "    }\n",
       "\n",
       "    .dataframe tbody tr th {\n",
       "        vertical-align: top;\n",
       "    }\n",
       "\n",
       "    .dataframe thead th {\n",
       "        text-align: right;\n",
       "    }\n",
       "</style>\n",
       "<table border=\"1\" class=\"dataframe\">\n",
       "  <thead>\n",
       "    <tr style=\"text-align: right;\">\n",
       "      <th></th>\n",
       "      <th>Fecha_Reclamacion</th>\n",
       "      <th>Afiliado_Id</th>\n",
       "      <th>Reclamacion_codigo</th>\n",
       "      <th>Diagnostico_Codigo</th>\n",
       "      <th>Cantidad</th>\n",
       "      <th>Precio</th>\n",
       "      <th>Sexo_codigo</th>\n",
       "      <th>Edad</th>\n",
       "      <th>Regional_codigo</th>\n",
       "      <th>CANCER</th>\n",
       "      <th>EPOC</th>\n",
       "      <th>DIABETES</th>\n",
       "      <th>HIPERTENSION</th>\n",
       "      <th>ENF_CARDIOVASCULAR</th>\n",
       "      <th>Regional_Desc</th>\n",
       "      <th>Diagnostico_Desc</th>\n",
       "      <th>Reclamacion_Desc</th>\n",
       "    </tr>\n",
       "  </thead>\n",
       "  <tbody>\n",
       "    <tr>\n",
       "      <th>0</th>\n",
       "      <td>23/10/2019</td>\n",
       "      <td>22914637</td>\n",
       "      <td>12</td>\n",
       "      <td>M45X</td>\n",
       "      <td>1.0</td>\n",
       "      <td>1056639.96</td>\n",
       "      <td>M</td>\n",
       "      <td>28.0</td>\n",
       "      <td>5</td>\n",
       "      <td>0.0</td>\n",
       "      <td>0.0</td>\n",
       "      <td>0.0</td>\n",
       "      <td>0.0</td>\n",
       "      <td>0.0</td>\n",
       "      <td>REGIONAL EJE CAFETERO</td>\n",
       "      <td>ESPONDILITIS ANQUILOSANTE</td>\n",
       "      <td>EXAMENES DE DIAGNOSTICO</td>\n",
       "    </tr>\n",
       "    <tr>\n",
       "      <th>1</th>\n",
       "      <td>26/11/2019</td>\n",
       "      <td>58412744</td>\n",
       "      <td>9</td>\n",
       "      <td>0</td>\n",
       "      <td>1.0</td>\n",
       "      <td>139772.80</td>\n",
       "      <td>F</td>\n",
       "      <td>15.0</td>\n",
       "      <td>2</td>\n",
       "      <td>0.0</td>\n",
       "      <td>0.0</td>\n",
       "      <td>0.0</td>\n",
       "      <td>0.0</td>\n",
       "      <td>0.0</td>\n",
       "      <td>REGIONAL CENTRO</td>\n",
       "      <td>DIAGNÓSTICO PENDIENTE</td>\n",
       "      <td>CONSULTA EXTERNA</td>\n",
       "    </tr>\n",
       "    <tr>\n",
       "      <th>2</th>\n",
       "      <td>23/10/2019</td>\n",
       "      <td>5070923</td>\n",
       "      <td>16</td>\n",
       "      <td>0</td>\n",
       "      <td>1.0</td>\n",
       "      <td>320166.76</td>\n",
       "      <td>F</td>\n",
       "      <td>45.0</td>\n",
       "      <td>2</td>\n",
       "      <td>0.0</td>\n",
       "      <td>0.0</td>\n",
       "      <td>0.0</td>\n",
       "      <td>0.0</td>\n",
       "      <td>0.0</td>\n",
       "      <td>REGIONAL CENTRO</td>\n",
       "      <td>DIAGNÓSTICO PENDIENTE</td>\n",
       "      <td>LABORATORIO CLINICO</td>\n",
       "    </tr>\n",
       "    <tr>\n",
       "      <th>3</th>\n",
       "      <td>27/11/2019</td>\n",
       "      <td>5769950</td>\n",
       "      <td>13</td>\n",
       "      <td>0</td>\n",
       "      <td>1.0</td>\n",
       "      <td>21204.00</td>\n",
       "      <td>F</td>\n",
       "      <td>91.0</td>\n",
       "      <td>2</td>\n",
       "      <td>0.0</td>\n",
       "      <td>0.0</td>\n",
       "      <td>0.0</td>\n",
       "      <td>0.0</td>\n",
       "      <td>0.0</td>\n",
       "      <td>REGIONAL CENTRO</td>\n",
       "      <td>DIAGNÓSTICO PENDIENTE</td>\n",
       "      <td>FISIOTERAPIA ILIMITADA</td>\n",
       "    </tr>\n",
       "    <tr>\n",
       "      <th>4</th>\n",
       "      <td>8/11/2019</td>\n",
       "      <td>24022833</td>\n",
       "      <td>12</td>\n",
       "      <td>K589</td>\n",
       "      <td>1.0</td>\n",
       "      <td>60636.00</td>\n",
       "      <td>M</td>\n",
       "      <td>29.0</td>\n",
       "      <td>2</td>\n",
       "      <td>0.0</td>\n",
       "      <td>0.0</td>\n",
       "      <td>0.0</td>\n",
       "      <td>0.0</td>\n",
       "      <td>0.0</td>\n",
       "      <td>REGIONAL CENTRO</td>\n",
       "      <td>SÍNDROME DEL COLON IRRITABLE SIN DIARREA</td>\n",
       "      <td>EXAMENES DE DIAGNOSTICO</td>\n",
       "    </tr>\n",
       "    <tr>\n",
       "      <th>...</th>\n",
       "      <td>...</td>\n",
       "      <td>...</td>\n",
       "      <td>...</td>\n",
       "      <td>...</td>\n",
       "      <td>...</td>\n",
       "      <td>...</td>\n",
       "      <td>...</td>\n",
       "      <td>...</td>\n",
       "      <td>...</td>\n",
       "      <td>...</td>\n",
       "      <td>...</td>\n",
       "      <td>...</td>\n",
       "      <td>...</td>\n",
       "      <td>...</td>\n",
       "      <td>...</td>\n",
       "      <td>...</td>\n",
       "      <td>...</td>\n",
       "    </tr>\n",
       "    <tr>\n",
       "      <th>395863</th>\n",
       "      <td>14/11/2019</td>\n",
       "      <td>4351189</td>\n",
       "      <td>16</td>\n",
       "      <td>0</td>\n",
       "      <td>15.0</td>\n",
       "      <td>251820.44</td>\n",
       "      <td>F</td>\n",
       "      <td>68.0</td>\n",
       "      <td>5</td>\n",
       "      <td>0.0</td>\n",
       "      <td>0.0</td>\n",
       "      <td>0.0</td>\n",
       "      <td>1.0</td>\n",
       "      <td>0.0</td>\n",
       "      <td>REGIONAL EJE CAFETERO</td>\n",
       "      <td>DIAGNÓSTICO PENDIENTE</td>\n",
       "      <td>LABORATORIO CLINICO</td>\n",
       "    </tr>\n",
       "    <tr>\n",
       "      <th>395864</th>\n",
       "      <td>7/9/2019</td>\n",
       "      <td>44677250</td>\n",
       "      <td>9</td>\n",
       "      <td>0</td>\n",
       "      <td>1.0</td>\n",
       "      <td>67208.00</td>\n",
       "      <td>F</td>\n",
       "      <td>20.0</td>\n",
       "      <td>1</td>\n",
       "      <td>0.0</td>\n",
       "      <td>0.0</td>\n",
       "      <td>0.0</td>\n",
       "      <td>0.0</td>\n",
       "      <td>0.0</td>\n",
       "      <td>REGIONAL ANTIOQUIA</td>\n",
       "      <td>DIAGNÓSTICO PENDIENTE</td>\n",
       "      <td>CONSULTA EXTERNA</td>\n",
       "    </tr>\n",
       "    <tr>\n",
       "      <th>395865</th>\n",
       "      <td>25/10/2019</td>\n",
       "      <td>19220270</td>\n",
       "      <td>13</td>\n",
       "      <td>0</td>\n",
       "      <td>10.0</td>\n",
       "      <td>475726.00</td>\n",
       "      <td>F</td>\n",
       "      <td>39.0</td>\n",
       "      <td>1</td>\n",
       "      <td>0.0</td>\n",
       "      <td>0.0</td>\n",
       "      <td>0.0</td>\n",
       "      <td>0.0</td>\n",
       "      <td>0.0</td>\n",
       "      <td>REGIONAL ANTIOQUIA</td>\n",
       "      <td>DIAGNÓSTICO PENDIENTE</td>\n",
       "      <td>FISIOTERAPIA ILIMITADA</td>\n",
       "    </tr>\n",
       "    <tr>\n",
       "      <th>395866</th>\n",
       "      <td>11/12/2019</td>\n",
       "      <td>25627716</td>\n",
       "      <td>12</td>\n",
       "      <td>0</td>\n",
       "      <td>2.0</td>\n",
       "      <td>568788.00</td>\n",
       "      <td>F</td>\n",
       "      <td>38.0</td>\n",
       "      <td>2</td>\n",
       "      <td>0.0</td>\n",
       "      <td>0.0</td>\n",
       "      <td>0.0</td>\n",
       "      <td>0.0</td>\n",
       "      <td>0.0</td>\n",
       "      <td>REGIONAL CENTRO</td>\n",
       "      <td>DIAGNÓSTICO PENDIENTE</td>\n",
       "      <td>EXAMENES DE DIAGNOSTICO</td>\n",
       "    </tr>\n",
       "    <tr>\n",
       "      <th>395867</th>\n",
       "      <td>27/10/2019</td>\n",
       "      <td>30959682</td>\n",
       "      <td>8</td>\n",
       "      <td>0</td>\n",
       "      <td>1.0</td>\n",
       "      <td>86677.24</td>\n",
       "      <td>F</td>\n",
       "      <td>28.0</td>\n",
       "      <td>2</td>\n",
       "      <td>0.0</td>\n",
       "      <td>0.0</td>\n",
       "      <td>0.0</td>\n",
       "      <td>0.0</td>\n",
       "      <td>0.0</td>\n",
       "      <td>REGIONAL CENTRO</td>\n",
       "      <td>DIAGNÓSTICO PENDIENTE</td>\n",
       "      <td>CONSULTA DE URGENCIAS</td>\n",
       "    </tr>\n",
       "  </tbody>\n",
       "</table>\n",
       "<p>395868 rows × 17 columns</p>\n",
       "</div>"
      ],
      "text/plain": [
       "       Fecha_Reclamacion  Afiliado_Id  Reclamacion_codigo Diagnostico_Codigo  \\\n",
       "0             23/10/2019     22914637                  12               M45X   \n",
       "1             26/11/2019     58412744                   9                  0   \n",
       "2             23/10/2019      5070923                  16                  0   \n",
       "3             27/11/2019      5769950                  13                  0   \n",
       "4              8/11/2019     24022833                  12               K589   \n",
       "...                  ...          ...                 ...                ...   \n",
       "395863        14/11/2019      4351189                  16                  0   \n",
       "395864          7/9/2019     44677250                   9                  0   \n",
       "395865        25/10/2019     19220270                  13                  0   \n",
       "395866        11/12/2019     25627716                  12                  0   \n",
       "395867        27/10/2019     30959682                   8                  0   \n",
       "\n",
       "        Cantidad      Precio Sexo_codigo  Edad Regional_codigo  CANCER  EPOC  \\\n",
       "0            1.0  1056639.96           M  28.0               5     0.0   0.0   \n",
       "1            1.0   139772.80           F  15.0               2     0.0   0.0   \n",
       "2            1.0   320166.76           F  45.0               2     0.0   0.0   \n",
       "3            1.0    21204.00           F  91.0               2     0.0   0.0   \n",
       "4            1.0    60636.00           M  29.0               2     0.0   0.0   \n",
       "...          ...         ...         ...   ...             ...     ...   ...   \n",
       "395863      15.0   251820.44           F  68.0               5     0.0   0.0   \n",
       "395864       1.0    67208.00           F  20.0               1     0.0   0.0   \n",
       "395865      10.0   475726.00           F  39.0               1     0.0   0.0   \n",
       "395866       2.0   568788.00           F  38.0               2     0.0   0.0   \n",
       "395867       1.0    86677.24           F  28.0               2     0.0   0.0   \n",
       "\n",
       "        DIABETES  HIPERTENSION  ENF_CARDIOVASCULAR          Regional_Desc  \\\n",
       "0            0.0           0.0                 0.0  REGIONAL EJE CAFETERO   \n",
       "1            0.0           0.0                 0.0        REGIONAL CENTRO   \n",
       "2            0.0           0.0                 0.0        REGIONAL CENTRO   \n",
       "3            0.0           0.0                 0.0        REGIONAL CENTRO   \n",
       "4            0.0           0.0                 0.0        REGIONAL CENTRO   \n",
       "...          ...           ...                 ...                    ...   \n",
       "395863       0.0           1.0                 0.0  REGIONAL EJE CAFETERO   \n",
       "395864       0.0           0.0                 0.0     REGIONAL ANTIOQUIA   \n",
       "395865       0.0           0.0                 0.0     REGIONAL ANTIOQUIA   \n",
       "395866       0.0           0.0                 0.0        REGIONAL CENTRO   \n",
       "395867       0.0           0.0                 0.0        REGIONAL CENTRO   \n",
       "\n",
       "                                Diagnostico_Desc         Reclamacion_Desc  \n",
       "0                      ESPONDILITIS ANQUILOSANTE  EXAMENES DE DIAGNOSTICO  \n",
       "1                          DIAGNÓSTICO PENDIENTE         CONSULTA EXTERNA  \n",
       "2                          DIAGNÓSTICO PENDIENTE      LABORATORIO CLINICO  \n",
       "3                          DIAGNÓSTICO PENDIENTE   FISIOTERAPIA ILIMITADA  \n",
       "4       SÍNDROME DEL COLON IRRITABLE SIN DIARREA  EXAMENES DE DIAGNOSTICO  \n",
       "...                                          ...                      ...  \n",
       "395863                     DIAGNÓSTICO PENDIENTE      LABORATORIO CLINICO  \n",
       "395864                     DIAGNÓSTICO PENDIENTE         CONSULTA EXTERNA  \n",
       "395865                     DIAGNÓSTICO PENDIENTE   FISIOTERAPIA ILIMITADA  \n",
       "395866                     DIAGNÓSTICO PENDIENTE  EXAMENES DE DIAGNOSTICO  \n",
       "395867                     DIAGNÓSTICO PENDIENTE    CONSULTA DE URGENCIAS  \n",
       "\n",
       "[395868 rows x 17 columns]"
      ]
     },
     "execution_count": 12,
     "metadata": {},
     "output_type": "execute_result"
    }
   ],
   "source": [
    "Seguro_salud=Seguro_salud.rename(columns={\"FechaNacimiento\":\"Edad\"})\n",
    "Seguro_salud"
   ]
  },
  {
   "cell_type": "code",
   "execution_count": 13,
   "metadata": {},
   "outputs": [
    {
     "data": {
      "text/html": [
       "<div>\n",
       "<style scoped>\n",
       "    .dataframe tbody tr th:only-of-type {\n",
       "        vertical-align: middle;\n",
       "    }\n",
       "\n",
       "    .dataframe tbody tr th {\n",
       "        vertical-align: top;\n",
       "    }\n",
       "\n",
       "    .dataframe thead th {\n",
       "        text-align: right;\n",
       "    }\n",
       "</style>\n",
       "<table border=\"1\" class=\"dataframe\">\n",
       "  <thead>\n",
       "    <tr style=\"text-align: right;\">\n",
       "      <th></th>\n",
       "      <th>Fecha_Reclamacion</th>\n",
       "      <th>Afiliado_Id</th>\n",
       "      <th>Reclamacion_codigo</th>\n",
       "      <th>Diagnostico_Codigo</th>\n",
       "      <th>Cantidad</th>\n",
       "      <th>Precio</th>\n",
       "      <th>Sexo_codigo</th>\n",
       "      <th>Edad</th>\n",
       "      <th>Regional_codigo</th>\n",
       "      <th>CANCER</th>\n",
       "      <th>EPOC</th>\n",
       "      <th>DIABETES</th>\n",
       "      <th>HIPERTENSION</th>\n",
       "      <th>ENF_CARDIOVASCULAR</th>\n",
       "      <th>Regional_Desc</th>\n",
       "      <th>Diagnostico_Desc</th>\n",
       "      <th>Reclamacion_Desc</th>\n",
       "    </tr>\n",
       "  </thead>\n",
       "  <tbody>\n",
       "    <tr>\n",
       "      <th>0</th>\n",
       "      <td>23/10/2019</td>\n",
       "      <td>22914637</td>\n",
       "      <td>12</td>\n",
       "      <td>M45X</td>\n",
       "      <td>1.0</td>\n",
       "      <td>1056639.96</td>\n",
       "      <td>M</td>\n",
       "      <td>28.0</td>\n",
       "      <td>5</td>\n",
       "      <td>0.0</td>\n",
       "      <td>0.0</td>\n",
       "      <td>0.0</td>\n",
       "      <td>0.0</td>\n",
       "      <td>0.0</td>\n",
       "      <td>REGIONAL EJE CAFETERO</td>\n",
       "      <td>ESPONDILITIS ANQUILOSANTE</td>\n",
       "      <td>EXAMENES DE DIAGNOSTICO</td>\n",
       "    </tr>\n",
       "    <tr>\n",
       "      <th>1</th>\n",
       "      <td>26/11/2019</td>\n",
       "      <td>58412744</td>\n",
       "      <td>9</td>\n",
       "      <td>0</td>\n",
       "      <td>1.0</td>\n",
       "      <td>139772.80</td>\n",
       "      <td>F</td>\n",
       "      <td>15.0</td>\n",
       "      <td>2</td>\n",
       "      <td>0.0</td>\n",
       "      <td>0.0</td>\n",
       "      <td>0.0</td>\n",
       "      <td>0.0</td>\n",
       "      <td>0.0</td>\n",
       "      <td>REGIONAL CENTRO</td>\n",
       "      <td>DIAGNÓSTICO PENDIENTE</td>\n",
       "      <td>CONSULTA EXTERNA</td>\n",
       "    </tr>\n",
       "    <tr>\n",
       "      <th>2</th>\n",
       "      <td>23/10/2019</td>\n",
       "      <td>5070923</td>\n",
       "      <td>16</td>\n",
       "      <td>0</td>\n",
       "      <td>1.0</td>\n",
       "      <td>320166.76</td>\n",
       "      <td>F</td>\n",
       "      <td>45.0</td>\n",
       "      <td>2</td>\n",
       "      <td>0.0</td>\n",
       "      <td>0.0</td>\n",
       "      <td>0.0</td>\n",
       "      <td>0.0</td>\n",
       "      <td>0.0</td>\n",
       "      <td>REGIONAL CENTRO</td>\n",
       "      <td>DIAGNÓSTICO PENDIENTE</td>\n",
       "      <td>LABORATORIO CLINICO</td>\n",
       "    </tr>\n",
       "    <tr>\n",
       "      <th>3</th>\n",
       "      <td>27/11/2019</td>\n",
       "      <td>5769950</td>\n",
       "      <td>13</td>\n",
       "      <td>0</td>\n",
       "      <td>1.0</td>\n",
       "      <td>21204.00</td>\n",
       "      <td>F</td>\n",
       "      <td>91.0</td>\n",
       "      <td>2</td>\n",
       "      <td>0.0</td>\n",
       "      <td>0.0</td>\n",
       "      <td>0.0</td>\n",
       "      <td>0.0</td>\n",
       "      <td>0.0</td>\n",
       "      <td>REGIONAL CENTRO</td>\n",
       "      <td>DIAGNÓSTICO PENDIENTE</td>\n",
       "      <td>FISIOTERAPIA ILIMITADA</td>\n",
       "    </tr>\n",
       "    <tr>\n",
       "      <th>4</th>\n",
       "      <td>8/11/2019</td>\n",
       "      <td>24022833</td>\n",
       "      <td>12</td>\n",
       "      <td>K589</td>\n",
       "      <td>1.0</td>\n",
       "      <td>60636.00</td>\n",
       "      <td>M</td>\n",
       "      <td>29.0</td>\n",
       "      <td>2</td>\n",
       "      <td>0.0</td>\n",
       "      <td>0.0</td>\n",
       "      <td>0.0</td>\n",
       "      <td>0.0</td>\n",
       "      <td>0.0</td>\n",
       "      <td>REGIONAL CENTRO</td>\n",
       "      <td>SÍNDROME DEL COLON IRRITABLE SIN DIARREA</td>\n",
       "      <td>EXAMENES DE DIAGNOSTICO</td>\n",
       "    </tr>\n",
       "    <tr>\n",
       "      <th>...</th>\n",
       "      <td>...</td>\n",
       "      <td>...</td>\n",
       "      <td>...</td>\n",
       "      <td>...</td>\n",
       "      <td>...</td>\n",
       "      <td>...</td>\n",
       "      <td>...</td>\n",
       "      <td>...</td>\n",
       "      <td>...</td>\n",
       "      <td>...</td>\n",
       "      <td>...</td>\n",
       "      <td>...</td>\n",
       "      <td>...</td>\n",
       "      <td>...</td>\n",
       "      <td>...</td>\n",
       "      <td>...</td>\n",
       "      <td>...</td>\n",
       "    </tr>\n",
       "    <tr>\n",
       "      <th>395863</th>\n",
       "      <td>14/11/2019</td>\n",
       "      <td>4351189</td>\n",
       "      <td>16</td>\n",
       "      <td>0</td>\n",
       "      <td>15.0</td>\n",
       "      <td>251820.44</td>\n",
       "      <td>F</td>\n",
       "      <td>68.0</td>\n",
       "      <td>5</td>\n",
       "      <td>0.0</td>\n",
       "      <td>0.0</td>\n",
       "      <td>0.0</td>\n",
       "      <td>1.0</td>\n",
       "      <td>0.0</td>\n",
       "      <td>REGIONAL EJE CAFETERO</td>\n",
       "      <td>DIAGNÓSTICO PENDIENTE</td>\n",
       "      <td>LABORATORIO CLINICO</td>\n",
       "    </tr>\n",
       "    <tr>\n",
       "      <th>395864</th>\n",
       "      <td>7/9/2019</td>\n",
       "      <td>44677250</td>\n",
       "      <td>9</td>\n",
       "      <td>0</td>\n",
       "      <td>1.0</td>\n",
       "      <td>67208.00</td>\n",
       "      <td>F</td>\n",
       "      <td>20.0</td>\n",
       "      <td>1</td>\n",
       "      <td>0.0</td>\n",
       "      <td>0.0</td>\n",
       "      <td>0.0</td>\n",
       "      <td>0.0</td>\n",
       "      <td>0.0</td>\n",
       "      <td>REGIONAL ANTIOQUIA</td>\n",
       "      <td>DIAGNÓSTICO PENDIENTE</td>\n",
       "      <td>CONSULTA EXTERNA</td>\n",
       "    </tr>\n",
       "    <tr>\n",
       "      <th>395865</th>\n",
       "      <td>25/10/2019</td>\n",
       "      <td>19220270</td>\n",
       "      <td>13</td>\n",
       "      <td>0</td>\n",
       "      <td>10.0</td>\n",
       "      <td>475726.00</td>\n",
       "      <td>F</td>\n",
       "      <td>39.0</td>\n",
       "      <td>1</td>\n",
       "      <td>0.0</td>\n",
       "      <td>0.0</td>\n",
       "      <td>0.0</td>\n",
       "      <td>0.0</td>\n",
       "      <td>0.0</td>\n",
       "      <td>REGIONAL ANTIOQUIA</td>\n",
       "      <td>DIAGNÓSTICO PENDIENTE</td>\n",
       "      <td>FISIOTERAPIA ILIMITADA</td>\n",
       "    </tr>\n",
       "    <tr>\n",
       "      <th>395866</th>\n",
       "      <td>11/12/2019</td>\n",
       "      <td>25627716</td>\n",
       "      <td>12</td>\n",
       "      <td>0</td>\n",
       "      <td>2.0</td>\n",
       "      <td>568788.00</td>\n",
       "      <td>F</td>\n",
       "      <td>38.0</td>\n",
       "      <td>2</td>\n",
       "      <td>0.0</td>\n",
       "      <td>0.0</td>\n",
       "      <td>0.0</td>\n",
       "      <td>0.0</td>\n",
       "      <td>0.0</td>\n",
       "      <td>REGIONAL CENTRO</td>\n",
       "      <td>DIAGNÓSTICO PENDIENTE</td>\n",
       "      <td>EXAMENES DE DIAGNOSTICO</td>\n",
       "    </tr>\n",
       "    <tr>\n",
       "      <th>395867</th>\n",
       "      <td>27/10/2019</td>\n",
       "      <td>30959682</td>\n",
       "      <td>8</td>\n",
       "      <td>0</td>\n",
       "      <td>1.0</td>\n",
       "      <td>86677.24</td>\n",
       "      <td>F</td>\n",
       "      <td>28.0</td>\n",
       "      <td>2</td>\n",
       "      <td>0.0</td>\n",
       "      <td>0.0</td>\n",
       "      <td>0.0</td>\n",
       "      <td>0.0</td>\n",
       "      <td>0.0</td>\n",
       "      <td>REGIONAL CENTRO</td>\n",
       "      <td>DIAGNÓSTICO PENDIENTE</td>\n",
       "      <td>CONSULTA DE URGENCIAS</td>\n",
       "    </tr>\n",
       "  </tbody>\n",
       "</table>\n",
       "<p>395868 rows × 17 columns</p>\n",
       "</div>"
      ],
      "text/plain": [
       "       Fecha_Reclamacion  Afiliado_Id  Reclamacion_codigo Diagnostico_Codigo  \\\n",
       "0             23/10/2019     22914637                  12               M45X   \n",
       "1             26/11/2019     58412744                   9                  0   \n",
       "2             23/10/2019      5070923                  16                  0   \n",
       "3             27/11/2019      5769950                  13                  0   \n",
       "4              8/11/2019     24022833                  12               K589   \n",
       "...                  ...          ...                 ...                ...   \n",
       "395863        14/11/2019      4351189                  16                  0   \n",
       "395864          7/9/2019     44677250                   9                  0   \n",
       "395865        25/10/2019     19220270                  13                  0   \n",
       "395866        11/12/2019     25627716                  12                  0   \n",
       "395867        27/10/2019     30959682                   8                  0   \n",
       "\n",
       "        Cantidad      Precio Sexo_codigo  Edad Regional_codigo  CANCER  EPOC  \\\n",
       "0            1.0  1056639.96           M  28.0               5     0.0   0.0   \n",
       "1            1.0   139772.80           F  15.0               2     0.0   0.0   \n",
       "2            1.0   320166.76           F  45.0               2     0.0   0.0   \n",
       "3            1.0    21204.00           F  91.0               2     0.0   0.0   \n",
       "4            1.0    60636.00           M  29.0               2     0.0   0.0   \n",
       "...          ...         ...         ...   ...             ...     ...   ...   \n",
       "395863      15.0   251820.44           F  68.0               5     0.0   0.0   \n",
       "395864       1.0    67208.00           F  20.0               1     0.0   0.0   \n",
       "395865      10.0   475726.00           F  39.0               1     0.0   0.0   \n",
       "395866       2.0   568788.00           F  38.0               2     0.0   0.0   \n",
       "395867       1.0    86677.24           F  28.0               2     0.0   0.0   \n",
       "\n",
       "        DIABETES  HIPERTENSION  ENF_CARDIOVASCULAR          Regional_Desc  \\\n",
       "0            0.0           0.0                 0.0  REGIONAL EJE CAFETERO   \n",
       "1            0.0           0.0                 0.0        REGIONAL CENTRO   \n",
       "2            0.0           0.0                 0.0        REGIONAL CENTRO   \n",
       "3            0.0           0.0                 0.0        REGIONAL CENTRO   \n",
       "4            0.0           0.0                 0.0        REGIONAL CENTRO   \n",
       "...          ...           ...                 ...                    ...   \n",
       "395863       0.0           1.0                 0.0  REGIONAL EJE CAFETERO   \n",
       "395864       0.0           0.0                 0.0     REGIONAL ANTIOQUIA   \n",
       "395865       0.0           0.0                 0.0     REGIONAL ANTIOQUIA   \n",
       "395866       0.0           0.0                 0.0        REGIONAL CENTRO   \n",
       "395867       0.0           0.0                 0.0        REGIONAL CENTRO   \n",
       "\n",
       "                                Diagnostico_Desc         Reclamacion_Desc  \n",
       "0                      ESPONDILITIS ANQUILOSANTE  EXAMENES DE DIAGNOSTICO  \n",
       "1                          DIAGNÓSTICO PENDIENTE         CONSULTA EXTERNA  \n",
       "2                          DIAGNÓSTICO PENDIENTE      LABORATORIO CLINICO  \n",
       "3                          DIAGNÓSTICO PENDIENTE   FISIOTERAPIA ILIMITADA  \n",
       "4       SÍNDROME DEL COLON IRRITABLE SIN DIARREA  EXAMENES DE DIAGNOSTICO  \n",
       "...                                          ...                      ...  \n",
       "395863                     DIAGNÓSTICO PENDIENTE      LABORATORIO CLINICO  \n",
       "395864                     DIAGNÓSTICO PENDIENTE         CONSULTA EXTERNA  \n",
       "395865                     DIAGNÓSTICO PENDIENTE   FISIOTERAPIA ILIMITADA  \n",
       "395866                     DIAGNÓSTICO PENDIENTE  EXAMENES DE DIAGNOSTICO  \n",
       "395867                     DIAGNÓSTICO PENDIENTE    CONSULTA DE URGENCIAS  \n",
       "\n",
       "[395868 rows x 17 columns]"
      ]
     },
     "execution_count": 13,
     "metadata": {},
     "output_type": "execute_result"
    }
   ],
   "source": [
    "Seguro_salud['Regional_Desc']=Seguro_salud['Regional_Desc'].replace(\"Sin Información\",\"Region no especificada\")\n",
    "Seguro_salud\n"
   ]
  },
  {
   "cell_type": "code",
   "execution_count": 14,
   "metadata": {},
   "outputs": [
    {
     "data": {
      "text/html": [
       "<div>\n",
       "<style scoped>\n",
       "    .dataframe tbody tr th:only-of-type {\n",
       "        vertical-align: middle;\n",
       "    }\n",
       "\n",
       "    .dataframe tbody tr th {\n",
       "        vertical-align: top;\n",
       "    }\n",
       "\n",
       "    .dataframe thead th {\n",
       "        text-align: right;\n",
       "    }\n",
       "</style>\n",
       "<table border=\"1\" class=\"dataframe\">\n",
       "  <thead>\n",
       "    <tr style=\"text-align: right;\">\n",
       "      <th></th>\n",
       "      <th>Fecha_Reclamacion</th>\n",
       "      <th>Afiliado_Id</th>\n",
       "      <th>Reclamacion_codigo</th>\n",
       "      <th>Diagnostico_Codigo</th>\n",
       "      <th>Cantidad</th>\n",
       "      <th>Precio</th>\n",
       "      <th>Sexo_codigo</th>\n",
       "      <th>Edad</th>\n",
       "      <th>Regional_codigo</th>\n",
       "      <th>CANCER</th>\n",
       "      <th>EPOC</th>\n",
       "      <th>DIABETES</th>\n",
       "      <th>HIPERTENSION</th>\n",
       "      <th>ENF_CARDIOVASCULAR</th>\n",
       "      <th>Regional_Desc</th>\n",
       "      <th>Diagnostico_Desc</th>\n",
       "      <th>Reclamacion_Desc</th>\n",
       "    </tr>\n",
       "  </thead>\n",
       "  <tbody>\n",
       "    <tr>\n",
       "      <th>0</th>\n",
       "      <td>2019-10-23</td>\n",
       "      <td>22914637</td>\n",
       "      <td>12</td>\n",
       "      <td>M45X</td>\n",
       "      <td>1.0</td>\n",
       "      <td>1056639.96</td>\n",
       "      <td>M</td>\n",
       "      <td>28.0</td>\n",
       "      <td>5</td>\n",
       "      <td>0.0</td>\n",
       "      <td>0.0</td>\n",
       "      <td>0.0</td>\n",
       "      <td>0.0</td>\n",
       "      <td>0.0</td>\n",
       "      <td>REGIONAL EJE CAFETERO</td>\n",
       "      <td>ESPONDILITIS ANQUILOSANTE</td>\n",
       "      <td>EXAMENES DE DIAGNOSTICO</td>\n",
       "    </tr>\n",
       "    <tr>\n",
       "      <th>1</th>\n",
       "      <td>2019-11-26</td>\n",
       "      <td>58412744</td>\n",
       "      <td>9</td>\n",
       "      <td>0</td>\n",
       "      <td>1.0</td>\n",
       "      <td>139772.80</td>\n",
       "      <td>F</td>\n",
       "      <td>15.0</td>\n",
       "      <td>2</td>\n",
       "      <td>0.0</td>\n",
       "      <td>0.0</td>\n",
       "      <td>0.0</td>\n",
       "      <td>0.0</td>\n",
       "      <td>0.0</td>\n",
       "      <td>REGIONAL CENTRO</td>\n",
       "      <td>DIAGNÓSTICO PENDIENTE</td>\n",
       "      <td>CONSULTA EXTERNA</td>\n",
       "    </tr>\n",
       "    <tr>\n",
       "      <th>2</th>\n",
       "      <td>2019-10-23</td>\n",
       "      <td>5070923</td>\n",
       "      <td>16</td>\n",
       "      <td>0</td>\n",
       "      <td>1.0</td>\n",
       "      <td>320166.76</td>\n",
       "      <td>F</td>\n",
       "      <td>45.0</td>\n",
       "      <td>2</td>\n",
       "      <td>0.0</td>\n",
       "      <td>0.0</td>\n",
       "      <td>0.0</td>\n",
       "      <td>0.0</td>\n",
       "      <td>0.0</td>\n",
       "      <td>REGIONAL CENTRO</td>\n",
       "      <td>DIAGNÓSTICO PENDIENTE</td>\n",
       "      <td>LABORATORIO CLINICO</td>\n",
       "    </tr>\n",
       "    <tr>\n",
       "      <th>3</th>\n",
       "      <td>2019-11-27</td>\n",
       "      <td>5769950</td>\n",
       "      <td>13</td>\n",
       "      <td>0</td>\n",
       "      <td>1.0</td>\n",
       "      <td>21204.00</td>\n",
       "      <td>F</td>\n",
       "      <td>91.0</td>\n",
       "      <td>2</td>\n",
       "      <td>0.0</td>\n",
       "      <td>0.0</td>\n",
       "      <td>0.0</td>\n",
       "      <td>0.0</td>\n",
       "      <td>0.0</td>\n",
       "      <td>REGIONAL CENTRO</td>\n",
       "      <td>DIAGNÓSTICO PENDIENTE</td>\n",
       "      <td>FISIOTERAPIA ILIMITADA</td>\n",
       "    </tr>\n",
       "    <tr>\n",
       "      <th>4</th>\n",
       "      <td>2019-08-11</td>\n",
       "      <td>24022833</td>\n",
       "      <td>12</td>\n",
       "      <td>K589</td>\n",
       "      <td>1.0</td>\n",
       "      <td>60636.00</td>\n",
       "      <td>M</td>\n",
       "      <td>29.0</td>\n",
       "      <td>2</td>\n",
       "      <td>0.0</td>\n",
       "      <td>0.0</td>\n",
       "      <td>0.0</td>\n",
       "      <td>0.0</td>\n",
       "      <td>0.0</td>\n",
       "      <td>REGIONAL CENTRO</td>\n",
       "      <td>SÍNDROME DEL COLON IRRITABLE SIN DIARREA</td>\n",
       "      <td>EXAMENES DE DIAGNOSTICO</td>\n",
       "    </tr>\n",
       "    <tr>\n",
       "      <th>...</th>\n",
       "      <td>...</td>\n",
       "      <td>...</td>\n",
       "      <td>...</td>\n",
       "      <td>...</td>\n",
       "      <td>...</td>\n",
       "      <td>...</td>\n",
       "      <td>...</td>\n",
       "      <td>...</td>\n",
       "      <td>...</td>\n",
       "      <td>...</td>\n",
       "      <td>...</td>\n",
       "      <td>...</td>\n",
       "      <td>...</td>\n",
       "      <td>...</td>\n",
       "      <td>...</td>\n",
       "      <td>...</td>\n",
       "      <td>...</td>\n",
       "    </tr>\n",
       "    <tr>\n",
       "      <th>395863</th>\n",
       "      <td>2019-11-14</td>\n",
       "      <td>4351189</td>\n",
       "      <td>16</td>\n",
       "      <td>0</td>\n",
       "      <td>15.0</td>\n",
       "      <td>251820.44</td>\n",
       "      <td>F</td>\n",
       "      <td>68.0</td>\n",
       "      <td>5</td>\n",
       "      <td>0.0</td>\n",
       "      <td>0.0</td>\n",
       "      <td>0.0</td>\n",
       "      <td>1.0</td>\n",
       "      <td>0.0</td>\n",
       "      <td>REGIONAL EJE CAFETERO</td>\n",
       "      <td>DIAGNÓSTICO PENDIENTE</td>\n",
       "      <td>LABORATORIO CLINICO</td>\n",
       "    </tr>\n",
       "    <tr>\n",
       "      <th>395864</th>\n",
       "      <td>2019-07-09</td>\n",
       "      <td>44677250</td>\n",
       "      <td>9</td>\n",
       "      <td>0</td>\n",
       "      <td>1.0</td>\n",
       "      <td>67208.00</td>\n",
       "      <td>F</td>\n",
       "      <td>20.0</td>\n",
       "      <td>1</td>\n",
       "      <td>0.0</td>\n",
       "      <td>0.0</td>\n",
       "      <td>0.0</td>\n",
       "      <td>0.0</td>\n",
       "      <td>0.0</td>\n",
       "      <td>REGIONAL ANTIOQUIA</td>\n",
       "      <td>DIAGNÓSTICO PENDIENTE</td>\n",
       "      <td>CONSULTA EXTERNA</td>\n",
       "    </tr>\n",
       "    <tr>\n",
       "      <th>395865</th>\n",
       "      <td>2019-10-25</td>\n",
       "      <td>19220270</td>\n",
       "      <td>13</td>\n",
       "      <td>0</td>\n",
       "      <td>10.0</td>\n",
       "      <td>475726.00</td>\n",
       "      <td>F</td>\n",
       "      <td>39.0</td>\n",
       "      <td>1</td>\n",
       "      <td>0.0</td>\n",
       "      <td>0.0</td>\n",
       "      <td>0.0</td>\n",
       "      <td>0.0</td>\n",
       "      <td>0.0</td>\n",
       "      <td>REGIONAL ANTIOQUIA</td>\n",
       "      <td>DIAGNÓSTICO PENDIENTE</td>\n",
       "      <td>FISIOTERAPIA ILIMITADA</td>\n",
       "    </tr>\n",
       "    <tr>\n",
       "      <th>395866</th>\n",
       "      <td>2019-11-12</td>\n",
       "      <td>25627716</td>\n",
       "      <td>12</td>\n",
       "      <td>0</td>\n",
       "      <td>2.0</td>\n",
       "      <td>568788.00</td>\n",
       "      <td>F</td>\n",
       "      <td>38.0</td>\n",
       "      <td>2</td>\n",
       "      <td>0.0</td>\n",
       "      <td>0.0</td>\n",
       "      <td>0.0</td>\n",
       "      <td>0.0</td>\n",
       "      <td>0.0</td>\n",
       "      <td>REGIONAL CENTRO</td>\n",
       "      <td>DIAGNÓSTICO PENDIENTE</td>\n",
       "      <td>EXAMENES DE DIAGNOSTICO</td>\n",
       "    </tr>\n",
       "    <tr>\n",
       "      <th>395867</th>\n",
       "      <td>2019-10-27</td>\n",
       "      <td>30959682</td>\n",
       "      <td>8</td>\n",
       "      <td>0</td>\n",
       "      <td>1.0</td>\n",
       "      <td>86677.24</td>\n",
       "      <td>F</td>\n",
       "      <td>28.0</td>\n",
       "      <td>2</td>\n",
       "      <td>0.0</td>\n",
       "      <td>0.0</td>\n",
       "      <td>0.0</td>\n",
       "      <td>0.0</td>\n",
       "      <td>0.0</td>\n",
       "      <td>REGIONAL CENTRO</td>\n",
       "      <td>DIAGNÓSTICO PENDIENTE</td>\n",
       "      <td>CONSULTA DE URGENCIAS</td>\n",
       "    </tr>\n",
       "  </tbody>\n",
       "</table>\n",
       "<p>395868 rows × 17 columns</p>\n",
       "</div>"
      ],
      "text/plain": [
       "       Fecha_Reclamacion  Afiliado_Id  Reclamacion_codigo Diagnostico_Codigo  \\\n",
       "0             2019-10-23     22914637                  12               M45X   \n",
       "1             2019-11-26     58412744                   9                  0   \n",
       "2             2019-10-23      5070923                  16                  0   \n",
       "3             2019-11-27      5769950                  13                  0   \n",
       "4             2019-08-11     24022833                  12               K589   \n",
       "...                  ...          ...                 ...                ...   \n",
       "395863        2019-11-14      4351189                  16                  0   \n",
       "395864        2019-07-09     44677250                   9                  0   \n",
       "395865        2019-10-25     19220270                  13                  0   \n",
       "395866        2019-11-12     25627716                  12                  0   \n",
       "395867        2019-10-27     30959682                   8                  0   \n",
       "\n",
       "        Cantidad      Precio Sexo_codigo  Edad Regional_codigo  CANCER  EPOC  \\\n",
       "0            1.0  1056639.96           M  28.0               5     0.0   0.0   \n",
       "1            1.0   139772.80           F  15.0               2     0.0   0.0   \n",
       "2            1.0   320166.76           F  45.0               2     0.0   0.0   \n",
       "3            1.0    21204.00           F  91.0               2     0.0   0.0   \n",
       "4            1.0    60636.00           M  29.0               2     0.0   0.0   \n",
       "...          ...         ...         ...   ...             ...     ...   ...   \n",
       "395863      15.0   251820.44           F  68.0               5     0.0   0.0   \n",
       "395864       1.0    67208.00           F  20.0               1     0.0   0.0   \n",
       "395865      10.0   475726.00           F  39.0               1     0.0   0.0   \n",
       "395866       2.0   568788.00           F  38.0               2     0.0   0.0   \n",
       "395867       1.0    86677.24           F  28.0               2     0.0   0.0   \n",
       "\n",
       "        DIABETES  HIPERTENSION  ENF_CARDIOVASCULAR          Regional_Desc  \\\n",
       "0            0.0           0.0                 0.0  REGIONAL EJE CAFETERO   \n",
       "1            0.0           0.0                 0.0        REGIONAL CENTRO   \n",
       "2            0.0           0.0                 0.0        REGIONAL CENTRO   \n",
       "3            0.0           0.0                 0.0        REGIONAL CENTRO   \n",
       "4            0.0           0.0                 0.0        REGIONAL CENTRO   \n",
       "...          ...           ...                 ...                    ...   \n",
       "395863       0.0           1.0                 0.0  REGIONAL EJE CAFETERO   \n",
       "395864       0.0           0.0                 0.0     REGIONAL ANTIOQUIA   \n",
       "395865       0.0           0.0                 0.0     REGIONAL ANTIOQUIA   \n",
       "395866       0.0           0.0                 0.0        REGIONAL CENTRO   \n",
       "395867       0.0           0.0                 0.0        REGIONAL CENTRO   \n",
       "\n",
       "                                Diagnostico_Desc         Reclamacion_Desc  \n",
       "0                      ESPONDILITIS ANQUILOSANTE  EXAMENES DE DIAGNOSTICO  \n",
       "1                          DIAGNÓSTICO PENDIENTE         CONSULTA EXTERNA  \n",
       "2                          DIAGNÓSTICO PENDIENTE      LABORATORIO CLINICO  \n",
       "3                          DIAGNÓSTICO PENDIENTE   FISIOTERAPIA ILIMITADA  \n",
       "4       SÍNDROME DEL COLON IRRITABLE SIN DIARREA  EXAMENES DE DIAGNOSTICO  \n",
       "...                                          ...                      ...  \n",
       "395863                     DIAGNÓSTICO PENDIENTE      LABORATORIO CLINICO  \n",
       "395864                     DIAGNÓSTICO PENDIENTE         CONSULTA EXTERNA  \n",
       "395865                     DIAGNÓSTICO PENDIENTE   FISIOTERAPIA ILIMITADA  \n",
       "395866                     DIAGNÓSTICO PENDIENTE  EXAMENES DE DIAGNOSTICO  \n",
       "395867                     DIAGNÓSTICO PENDIENTE    CONSULTA DE URGENCIAS  \n",
       "\n",
       "[395868 rows x 17 columns]"
      ]
     },
     "execution_count": 14,
     "metadata": {},
     "output_type": "execute_result"
    }
   ],
   "source": [
    "Seguro_salud['Fecha_Reclamacion'] = pd.to_datetime(Seguro_salud['Fecha_Reclamacion'])\n",
    "Seguro_salud"
   ]
  },
  {
   "cell_type": "code",
   "execution_count": 15,
   "metadata": {},
   "outputs": [
    {
     "data": {
      "text/plain": [
       "Fecha_Reclamacion        0\n",
       "Afiliado_Id              0\n",
       "Reclamacion_codigo       0\n",
       "Diagnostico_Codigo       0\n",
       "Cantidad                 0\n",
       "Precio                   0\n",
       "Sexo_codigo           4876\n",
       "Edad                  4876\n",
       "Regional_codigo       4876\n",
       "CANCER                4876\n",
       "EPOC                  4876\n",
       "DIABETES              4876\n",
       "HIPERTENSION          4876\n",
       "ENF_CARDIOVASCULAR    4876\n",
       "Regional_Desc         4876\n",
       "Diagnostico_Desc         0\n",
       "Reclamacion_Desc         0\n",
       "dtype: int64"
      ]
     },
     "execution_count": 15,
     "metadata": {},
     "output_type": "execute_result"
    }
   ],
   "source": [
    "Seguro_salud['Sexo_codigo']=Seguro_salud['Sexo_codigo'].replace('-1',\"NN\")\n",
    "Seguro_salud.isnull().sum()"
   ]
  },
  {
   "cell_type": "code",
   "execution_count": 16,
   "metadata": {},
   "outputs": [
    {
     "data": {
      "text/html": [
       "<div>\n",
       "<style scoped>\n",
       "    .dataframe tbody tr th:only-of-type {\n",
       "        vertical-align: middle;\n",
       "    }\n",
       "\n",
       "    .dataframe tbody tr th {\n",
       "        vertical-align: top;\n",
       "    }\n",
       "\n",
       "    .dataframe thead th {\n",
       "        text-align: right;\n",
       "    }\n",
       "</style>\n",
       "<table border=\"1\" class=\"dataframe\">\n",
       "  <thead>\n",
       "    <tr style=\"text-align: right;\">\n",
       "      <th></th>\n",
       "      <th>Fecha_Reclamacion</th>\n",
       "      <th>Afiliado_Id</th>\n",
       "      <th>Reclamacion_codigo</th>\n",
       "      <th>Diagnostico_Codigo</th>\n",
       "      <th>Cantidad</th>\n",
       "      <th>Precio</th>\n",
       "      <th>Sexo_codigo</th>\n",
       "      <th>Edad</th>\n",
       "      <th>Regional_codigo</th>\n",
       "      <th>CANCER</th>\n",
       "      <th>EPOC</th>\n",
       "      <th>DIABETES</th>\n",
       "      <th>HIPERTENSION</th>\n",
       "      <th>ENF_CARDIOVASCULAR</th>\n",
       "      <th>Regional_Desc</th>\n",
       "      <th>Diagnostico_Desc</th>\n",
       "      <th>Reclamacion_Desc</th>\n",
       "    </tr>\n",
       "  </thead>\n",
       "  <tbody>\n",
       "    <tr>\n",
       "      <th>0</th>\n",
       "      <td>2019-10-23</td>\n",
       "      <td>22914637</td>\n",
       "      <td>12</td>\n",
       "      <td>M45X</td>\n",
       "      <td>1.0</td>\n",
       "      <td>1056639.96</td>\n",
       "      <td>M</td>\n",
       "      <td>28.0</td>\n",
       "      <td>5</td>\n",
       "      <td>0.0</td>\n",
       "      <td>0.0</td>\n",
       "      <td>0.0</td>\n",
       "      <td>0.0</td>\n",
       "      <td>0.0</td>\n",
       "      <td>REGIONAL EJE CAFETERO</td>\n",
       "      <td>ESPONDILITIS ANQUILOSANTE</td>\n",
       "      <td>EXAMENES DE DIAGNOSTICO</td>\n",
       "    </tr>\n",
       "    <tr>\n",
       "      <th>1</th>\n",
       "      <td>2019-11-26</td>\n",
       "      <td>58412744</td>\n",
       "      <td>9</td>\n",
       "      <td>0</td>\n",
       "      <td>1.0</td>\n",
       "      <td>139772.80</td>\n",
       "      <td>F</td>\n",
       "      <td>15.0</td>\n",
       "      <td>2</td>\n",
       "      <td>0.0</td>\n",
       "      <td>0.0</td>\n",
       "      <td>0.0</td>\n",
       "      <td>0.0</td>\n",
       "      <td>0.0</td>\n",
       "      <td>REGIONAL CENTRO</td>\n",
       "      <td>DIAGNÓSTICO PENDIENTE</td>\n",
       "      <td>CONSULTA EXTERNA</td>\n",
       "    </tr>\n",
       "    <tr>\n",
       "      <th>2</th>\n",
       "      <td>2019-10-23</td>\n",
       "      <td>5070923</td>\n",
       "      <td>16</td>\n",
       "      <td>0</td>\n",
       "      <td>1.0</td>\n",
       "      <td>320166.76</td>\n",
       "      <td>F</td>\n",
       "      <td>45.0</td>\n",
       "      <td>2</td>\n",
       "      <td>0.0</td>\n",
       "      <td>0.0</td>\n",
       "      <td>0.0</td>\n",
       "      <td>0.0</td>\n",
       "      <td>0.0</td>\n",
       "      <td>REGIONAL CENTRO</td>\n",
       "      <td>DIAGNÓSTICO PENDIENTE</td>\n",
       "      <td>LABORATORIO CLINICO</td>\n",
       "    </tr>\n",
       "    <tr>\n",
       "      <th>3</th>\n",
       "      <td>2019-11-27</td>\n",
       "      <td>5769950</td>\n",
       "      <td>13</td>\n",
       "      <td>0</td>\n",
       "      <td>1.0</td>\n",
       "      <td>21204.00</td>\n",
       "      <td>F</td>\n",
       "      <td>91.0</td>\n",
       "      <td>2</td>\n",
       "      <td>0.0</td>\n",
       "      <td>0.0</td>\n",
       "      <td>0.0</td>\n",
       "      <td>0.0</td>\n",
       "      <td>0.0</td>\n",
       "      <td>REGIONAL CENTRO</td>\n",
       "      <td>DIAGNÓSTICO PENDIENTE</td>\n",
       "      <td>FISIOTERAPIA ILIMITADA</td>\n",
       "    </tr>\n",
       "    <tr>\n",
       "      <th>4</th>\n",
       "      <td>2019-08-11</td>\n",
       "      <td>24022833</td>\n",
       "      <td>12</td>\n",
       "      <td>K589</td>\n",
       "      <td>1.0</td>\n",
       "      <td>60636.00</td>\n",
       "      <td>M</td>\n",
       "      <td>29.0</td>\n",
       "      <td>2</td>\n",
       "      <td>0.0</td>\n",
       "      <td>0.0</td>\n",
       "      <td>0.0</td>\n",
       "      <td>0.0</td>\n",
       "      <td>0.0</td>\n",
       "      <td>REGIONAL CENTRO</td>\n",
       "      <td>SÍNDROME DEL COLON IRRITABLE SIN DIARREA</td>\n",
       "      <td>EXAMENES DE DIAGNOSTICO</td>\n",
       "    </tr>\n",
       "    <tr>\n",
       "      <th>...</th>\n",
       "      <td>...</td>\n",
       "      <td>...</td>\n",
       "      <td>...</td>\n",
       "      <td>...</td>\n",
       "      <td>...</td>\n",
       "      <td>...</td>\n",
       "      <td>...</td>\n",
       "      <td>...</td>\n",
       "      <td>...</td>\n",
       "      <td>...</td>\n",
       "      <td>...</td>\n",
       "      <td>...</td>\n",
       "      <td>...</td>\n",
       "      <td>...</td>\n",
       "      <td>...</td>\n",
       "      <td>...</td>\n",
       "      <td>...</td>\n",
       "    </tr>\n",
       "    <tr>\n",
       "      <th>395863</th>\n",
       "      <td>2019-11-14</td>\n",
       "      <td>4351189</td>\n",
       "      <td>16</td>\n",
       "      <td>0</td>\n",
       "      <td>15.0</td>\n",
       "      <td>251820.44</td>\n",
       "      <td>F</td>\n",
       "      <td>68.0</td>\n",
       "      <td>5</td>\n",
       "      <td>0.0</td>\n",
       "      <td>0.0</td>\n",
       "      <td>0.0</td>\n",
       "      <td>1.0</td>\n",
       "      <td>0.0</td>\n",
       "      <td>REGIONAL EJE CAFETERO</td>\n",
       "      <td>DIAGNÓSTICO PENDIENTE</td>\n",
       "      <td>LABORATORIO CLINICO</td>\n",
       "    </tr>\n",
       "    <tr>\n",
       "      <th>395864</th>\n",
       "      <td>2019-07-09</td>\n",
       "      <td>44677250</td>\n",
       "      <td>9</td>\n",
       "      <td>0</td>\n",
       "      <td>1.0</td>\n",
       "      <td>67208.00</td>\n",
       "      <td>F</td>\n",
       "      <td>20.0</td>\n",
       "      <td>1</td>\n",
       "      <td>0.0</td>\n",
       "      <td>0.0</td>\n",
       "      <td>0.0</td>\n",
       "      <td>0.0</td>\n",
       "      <td>0.0</td>\n",
       "      <td>REGIONAL ANTIOQUIA</td>\n",
       "      <td>DIAGNÓSTICO PENDIENTE</td>\n",
       "      <td>CONSULTA EXTERNA</td>\n",
       "    </tr>\n",
       "    <tr>\n",
       "      <th>395865</th>\n",
       "      <td>2019-10-25</td>\n",
       "      <td>19220270</td>\n",
       "      <td>13</td>\n",
       "      <td>0</td>\n",
       "      <td>10.0</td>\n",
       "      <td>475726.00</td>\n",
       "      <td>F</td>\n",
       "      <td>39.0</td>\n",
       "      <td>1</td>\n",
       "      <td>0.0</td>\n",
       "      <td>0.0</td>\n",
       "      <td>0.0</td>\n",
       "      <td>0.0</td>\n",
       "      <td>0.0</td>\n",
       "      <td>REGIONAL ANTIOQUIA</td>\n",
       "      <td>DIAGNÓSTICO PENDIENTE</td>\n",
       "      <td>FISIOTERAPIA ILIMITADA</td>\n",
       "    </tr>\n",
       "    <tr>\n",
       "      <th>395866</th>\n",
       "      <td>2019-11-12</td>\n",
       "      <td>25627716</td>\n",
       "      <td>12</td>\n",
       "      <td>0</td>\n",
       "      <td>2.0</td>\n",
       "      <td>568788.00</td>\n",
       "      <td>F</td>\n",
       "      <td>38.0</td>\n",
       "      <td>2</td>\n",
       "      <td>0.0</td>\n",
       "      <td>0.0</td>\n",
       "      <td>0.0</td>\n",
       "      <td>0.0</td>\n",
       "      <td>0.0</td>\n",
       "      <td>REGIONAL CENTRO</td>\n",
       "      <td>DIAGNÓSTICO PENDIENTE</td>\n",
       "      <td>EXAMENES DE DIAGNOSTICO</td>\n",
       "    </tr>\n",
       "    <tr>\n",
       "      <th>395867</th>\n",
       "      <td>2019-10-27</td>\n",
       "      <td>30959682</td>\n",
       "      <td>8</td>\n",
       "      <td>0</td>\n",
       "      <td>1.0</td>\n",
       "      <td>86677.24</td>\n",
       "      <td>F</td>\n",
       "      <td>28.0</td>\n",
       "      <td>2</td>\n",
       "      <td>0.0</td>\n",
       "      <td>0.0</td>\n",
       "      <td>0.0</td>\n",
       "      <td>0.0</td>\n",
       "      <td>0.0</td>\n",
       "      <td>REGIONAL CENTRO</td>\n",
       "      <td>DIAGNÓSTICO PENDIENTE</td>\n",
       "      <td>CONSULTA DE URGENCIAS</td>\n",
       "    </tr>\n",
       "  </tbody>\n",
       "</table>\n",
       "<p>390992 rows × 17 columns</p>\n",
       "</div>"
      ],
      "text/plain": [
       "       Fecha_Reclamacion  Afiliado_Id  Reclamacion_codigo Diagnostico_Codigo  \\\n",
       "0             2019-10-23     22914637                  12               M45X   \n",
       "1             2019-11-26     58412744                   9                  0   \n",
       "2             2019-10-23      5070923                  16                  0   \n",
       "3             2019-11-27      5769950                  13                  0   \n",
       "4             2019-08-11     24022833                  12               K589   \n",
       "...                  ...          ...                 ...                ...   \n",
       "395863        2019-11-14      4351189                  16                  0   \n",
       "395864        2019-07-09     44677250                   9                  0   \n",
       "395865        2019-10-25     19220270                  13                  0   \n",
       "395866        2019-11-12     25627716                  12                  0   \n",
       "395867        2019-10-27     30959682                   8                  0   \n",
       "\n",
       "        Cantidad      Precio Sexo_codigo  Edad Regional_codigo  CANCER  EPOC  \\\n",
       "0            1.0  1056639.96           M  28.0               5     0.0   0.0   \n",
       "1            1.0   139772.80           F  15.0               2     0.0   0.0   \n",
       "2            1.0   320166.76           F  45.0               2     0.0   0.0   \n",
       "3            1.0    21204.00           F  91.0               2     0.0   0.0   \n",
       "4            1.0    60636.00           M  29.0               2     0.0   0.0   \n",
       "...          ...         ...         ...   ...             ...     ...   ...   \n",
       "395863      15.0   251820.44           F  68.0               5     0.0   0.0   \n",
       "395864       1.0    67208.00           F  20.0               1     0.0   0.0   \n",
       "395865      10.0   475726.00           F  39.0               1     0.0   0.0   \n",
       "395866       2.0   568788.00           F  38.0               2     0.0   0.0   \n",
       "395867       1.0    86677.24           F  28.0               2     0.0   0.0   \n",
       "\n",
       "        DIABETES  HIPERTENSION  ENF_CARDIOVASCULAR          Regional_Desc  \\\n",
       "0            0.0           0.0                 0.0  REGIONAL EJE CAFETERO   \n",
       "1            0.0           0.0                 0.0        REGIONAL CENTRO   \n",
       "2            0.0           0.0                 0.0        REGIONAL CENTRO   \n",
       "3            0.0           0.0                 0.0        REGIONAL CENTRO   \n",
       "4            0.0           0.0                 0.0        REGIONAL CENTRO   \n",
       "...          ...           ...                 ...                    ...   \n",
       "395863       0.0           1.0                 0.0  REGIONAL EJE CAFETERO   \n",
       "395864       0.0           0.0                 0.0     REGIONAL ANTIOQUIA   \n",
       "395865       0.0           0.0                 0.0     REGIONAL ANTIOQUIA   \n",
       "395866       0.0           0.0                 0.0        REGIONAL CENTRO   \n",
       "395867       0.0           0.0                 0.0        REGIONAL CENTRO   \n",
       "\n",
       "                                Diagnostico_Desc         Reclamacion_Desc  \n",
       "0                      ESPONDILITIS ANQUILOSANTE  EXAMENES DE DIAGNOSTICO  \n",
       "1                          DIAGNÓSTICO PENDIENTE         CONSULTA EXTERNA  \n",
       "2                          DIAGNÓSTICO PENDIENTE      LABORATORIO CLINICO  \n",
       "3                          DIAGNÓSTICO PENDIENTE   FISIOTERAPIA ILIMITADA  \n",
       "4       SÍNDROME DEL COLON IRRITABLE SIN DIARREA  EXAMENES DE DIAGNOSTICO  \n",
       "...                                          ...                      ...  \n",
       "395863                     DIAGNÓSTICO PENDIENTE      LABORATORIO CLINICO  \n",
       "395864                     DIAGNÓSTICO PENDIENTE         CONSULTA EXTERNA  \n",
       "395865                     DIAGNÓSTICO PENDIENTE   FISIOTERAPIA ILIMITADA  \n",
       "395866                     DIAGNÓSTICO PENDIENTE  EXAMENES DE DIAGNOSTICO  \n",
       "395867                     DIAGNÓSTICO PENDIENTE    CONSULTA DE URGENCIAS  \n",
       "\n",
       "[390992 rows x 17 columns]"
      ]
     },
     "execution_count": 16,
     "metadata": {},
     "output_type": "execute_result"
    }
   ],
   "source": [
    "Seguro_salud['Reclamacion_codigo']=Seguro_salud['Reclamacion_codigo'].astype(\"int\")\n",
    "Seguro_salud=Seguro_salud.dropna()\n",
    "Seguro_salud"
   ]
  },
  {
   "cell_type": "code",
   "execution_count": 17,
   "metadata": {},
   "outputs": [
    {
     "data": {
      "text/plain": [
       "Fecha_Reclamacion     0\n",
       "Afiliado_Id           0\n",
       "Reclamacion_codigo    0\n",
       "Diagnostico_Codigo    0\n",
       "Cantidad              0\n",
       "Precio                0\n",
       "Sexo_codigo           0\n",
       "Edad                  0\n",
       "Regional_codigo       0\n",
       "CANCER                0\n",
       "EPOC                  0\n",
       "DIABETES              0\n",
       "HIPERTENSION          0\n",
       "ENF_CARDIOVASCULAR    0\n",
       "Regional_Desc         0\n",
       "Diagnostico_Desc      0\n",
       "Reclamacion_Desc      0\n",
       "dtype: int64"
      ]
     },
     "execution_count": 17,
     "metadata": {},
     "output_type": "execute_result"
    }
   ],
   "source": [
    "Seguro_salud.isnull().sum()"
   ]
  },
  {
   "cell_type": "code",
   "execution_count": 18,
   "metadata": {},
   "outputs": [
    {
     "name": "stderr",
     "output_type": "stream",
     "text": [
      "C:\\Users\\USUARIO\\AppData\\Local\\Temp/ipykernel_7920/4168967164.py:1: SettingWithCopyWarning: \n",
      "A value is trying to be set on a copy of a slice from a DataFrame.\n",
      "Try using .loc[row_indexer,col_indexer] = value instead\n",
      "\n",
      "See the caveats in the documentation: https://pandas.pydata.org/pandas-docs/stable/user_guide/indexing.html#returning-a-view-versus-a-copy\n",
      "  Seguro_salud[\"Año\"]=Seguro_salud[\"Fecha_Reclamacion\"].dt.strftime(\"%Y\")\n",
      "C:\\Users\\USUARIO\\AppData\\Local\\Temp/ipykernel_7920/4168967164.py:2: SettingWithCopyWarning: \n",
      "A value is trying to be set on a copy of a slice from a DataFrame.\n",
      "Try using .loc[row_indexer,col_indexer] = value instead\n",
      "\n",
      "See the caveats in the documentation: https://pandas.pydata.org/pandas-docs/stable/user_guide/indexing.html#returning-a-view-versus-a-copy\n",
      "  Seguro_salud[\"Mes\"]=Seguro_salud[\"Fecha_Reclamacion\"].dt.strftime(\"%m\")\n"
     ]
    },
    {
     "data": {
      "text/html": [
       "<div>\n",
       "<style scoped>\n",
       "    .dataframe tbody tr th:only-of-type {\n",
       "        vertical-align: middle;\n",
       "    }\n",
       "\n",
       "    .dataframe tbody tr th {\n",
       "        vertical-align: top;\n",
       "    }\n",
       "\n",
       "    .dataframe thead th {\n",
       "        text-align: right;\n",
       "    }\n",
       "</style>\n",
       "<table border=\"1\" class=\"dataframe\">\n",
       "  <thead>\n",
       "    <tr style=\"text-align: right;\">\n",
       "      <th></th>\n",
       "      <th>Fecha_Reclamacion</th>\n",
       "      <th>Afiliado_Id</th>\n",
       "      <th>Reclamacion_codigo</th>\n",
       "      <th>Diagnostico_Codigo</th>\n",
       "      <th>Cantidad</th>\n",
       "      <th>Precio</th>\n",
       "      <th>Sexo_codigo</th>\n",
       "      <th>Edad</th>\n",
       "      <th>Regional_codigo</th>\n",
       "      <th>CANCER</th>\n",
       "      <th>EPOC</th>\n",
       "      <th>DIABETES</th>\n",
       "      <th>HIPERTENSION</th>\n",
       "      <th>ENF_CARDIOVASCULAR</th>\n",
       "      <th>Regional_Desc</th>\n",
       "      <th>Diagnostico_Desc</th>\n",
       "      <th>Reclamacion_Desc</th>\n",
       "      <th>Año</th>\n",
       "      <th>Mes</th>\n",
       "    </tr>\n",
       "  </thead>\n",
       "  <tbody>\n",
       "    <tr>\n",
       "      <th>0</th>\n",
       "      <td>2019-10-23</td>\n",
       "      <td>22914637</td>\n",
       "      <td>12</td>\n",
       "      <td>M45X</td>\n",
       "      <td>1.0</td>\n",
       "      <td>1056639.96</td>\n",
       "      <td>M</td>\n",
       "      <td>28.0</td>\n",
       "      <td>5</td>\n",
       "      <td>0.0</td>\n",
       "      <td>0.0</td>\n",
       "      <td>0.0</td>\n",
       "      <td>0.0</td>\n",
       "      <td>0.0</td>\n",
       "      <td>REGIONAL EJE CAFETERO</td>\n",
       "      <td>ESPONDILITIS ANQUILOSANTE</td>\n",
       "      <td>EXAMENES DE DIAGNOSTICO</td>\n",
       "      <td>2019</td>\n",
       "      <td>10</td>\n",
       "    </tr>\n",
       "    <tr>\n",
       "      <th>1</th>\n",
       "      <td>2019-11-26</td>\n",
       "      <td>58412744</td>\n",
       "      <td>9</td>\n",
       "      <td>0</td>\n",
       "      <td>1.0</td>\n",
       "      <td>139772.80</td>\n",
       "      <td>F</td>\n",
       "      <td>15.0</td>\n",
       "      <td>2</td>\n",
       "      <td>0.0</td>\n",
       "      <td>0.0</td>\n",
       "      <td>0.0</td>\n",
       "      <td>0.0</td>\n",
       "      <td>0.0</td>\n",
       "      <td>REGIONAL CENTRO</td>\n",
       "      <td>DIAGNÓSTICO PENDIENTE</td>\n",
       "      <td>CONSULTA EXTERNA</td>\n",
       "      <td>2019</td>\n",
       "      <td>11</td>\n",
       "    </tr>\n",
       "    <tr>\n",
       "      <th>2</th>\n",
       "      <td>2019-10-23</td>\n",
       "      <td>5070923</td>\n",
       "      <td>16</td>\n",
       "      <td>0</td>\n",
       "      <td>1.0</td>\n",
       "      <td>320166.76</td>\n",
       "      <td>F</td>\n",
       "      <td>45.0</td>\n",
       "      <td>2</td>\n",
       "      <td>0.0</td>\n",
       "      <td>0.0</td>\n",
       "      <td>0.0</td>\n",
       "      <td>0.0</td>\n",
       "      <td>0.0</td>\n",
       "      <td>REGIONAL CENTRO</td>\n",
       "      <td>DIAGNÓSTICO PENDIENTE</td>\n",
       "      <td>LABORATORIO CLINICO</td>\n",
       "      <td>2019</td>\n",
       "      <td>10</td>\n",
       "    </tr>\n",
       "    <tr>\n",
       "      <th>3</th>\n",
       "      <td>2019-11-27</td>\n",
       "      <td>5769950</td>\n",
       "      <td>13</td>\n",
       "      <td>0</td>\n",
       "      <td>1.0</td>\n",
       "      <td>21204.00</td>\n",
       "      <td>F</td>\n",
       "      <td>91.0</td>\n",
       "      <td>2</td>\n",
       "      <td>0.0</td>\n",
       "      <td>0.0</td>\n",
       "      <td>0.0</td>\n",
       "      <td>0.0</td>\n",
       "      <td>0.0</td>\n",
       "      <td>REGIONAL CENTRO</td>\n",
       "      <td>DIAGNÓSTICO PENDIENTE</td>\n",
       "      <td>FISIOTERAPIA ILIMITADA</td>\n",
       "      <td>2019</td>\n",
       "      <td>11</td>\n",
       "    </tr>\n",
       "    <tr>\n",
       "      <th>4</th>\n",
       "      <td>2019-08-11</td>\n",
       "      <td>24022833</td>\n",
       "      <td>12</td>\n",
       "      <td>K589</td>\n",
       "      <td>1.0</td>\n",
       "      <td>60636.00</td>\n",
       "      <td>M</td>\n",
       "      <td>29.0</td>\n",
       "      <td>2</td>\n",
       "      <td>0.0</td>\n",
       "      <td>0.0</td>\n",
       "      <td>0.0</td>\n",
       "      <td>0.0</td>\n",
       "      <td>0.0</td>\n",
       "      <td>REGIONAL CENTRO</td>\n",
       "      <td>SÍNDROME DEL COLON IRRITABLE SIN DIARREA</td>\n",
       "      <td>EXAMENES DE DIAGNOSTICO</td>\n",
       "      <td>2019</td>\n",
       "      <td>08</td>\n",
       "    </tr>\n",
       "    <tr>\n",
       "      <th>...</th>\n",
       "      <td>...</td>\n",
       "      <td>...</td>\n",
       "      <td>...</td>\n",
       "      <td>...</td>\n",
       "      <td>...</td>\n",
       "      <td>...</td>\n",
       "      <td>...</td>\n",
       "      <td>...</td>\n",
       "      <td>...</td>\n",
       "      <td>...</td>\n",
       "      <td>...</td>\n",
       "      <td>...</td>\n",
       "      <td>...</td>\n",
       "      <td>...</td>\n",
       "      <td>...</td>\n",
       "      <td>...</td>\n",
       "      <td>...</td>\n",
       "      <td>...</td>\n",
       "      <td>...</td>\n",
       "    </tr>\n",
       "    <tr>\n",
       "      <th>395863</th>\n",
       "      <td>2019-11-14</td>\n",
       "      <td>4351189</td>\n",
       "      <td>16</td>\n",
       "      <td>0</td>\n",
       "      <td>15.0</td>\n",
       "      <td>251820.44</td>\n",
       "      <td>F</td>\n",
       "      <td>68.0</td>\n",
       "      <td>5</td>\n",
       "      <td>0.0</td>\n",
       "      <td>0.0</td>\n",
       "      <td>0.0</td>\n",
       "      <td>1.0</td>\n",
       "      <td>0.0</td>\n",
       "      <td>REGIONAL EJE CAFETERO</td>\n",
       "      <td>DIAGNÓSTICO PENDIENTE</td>\n",
       "      <td>LABORATORIO CLINICO</td>\n",
       "      <td>2019</td>\n",
       "      <td>11</td>\n",
       "    </tr>\n",
       "    <tr>\n",
       "      <th>395864</th>\n",
       "      <td>2019-07-09</td>\n",
       "      <td>44677250</td>\n",
       "      <td>9</td>\n",
       "      <td>0</td>\n",
       "      <td>1.0</td>\n",
       "      <td>67208.00</td>\n",
       "      <td>F</td>\n",
       "      <td>20.0</td>\n",
       "      <td>1</td>\n",
       "      <td>0.0</td>\n",
       "      <td>0.0</td>\n",
       "      <td>0.0</td>\n",
       "      <td>0.0</td>\n",
       "      <td>0.0</td>\n",
       "      <td>REGIONAL ANTIOQUIA</td>\n",
       "      <td>DIAGNÓSTICO PENDIENTE</td>\n",
       "      <td>CONSULTA EXTERNA</td>\n",
       "      <td>2019</td>\n",
       "      <td>07</td>\n",
       "    </tr>\n",
       "    <tr>\n",
       "      <th>395865</th>\n",
       "      <td>2019-10-25</td>\n",
       "      <td>19220270</td>\n",
       "      <td>13</td>\n",
       "      <td>0</td>\n",
       "      <td>10.0</td>\n",
       "      <td>475726.00</td>\n",
       "      <td>F</td>\n",
       "      <td>39.0</td>\n",
       "      <td>1</td>\n",
       "      <td>0.0</td>\n",
       "      <td>0.0</td>\n",
       "      <td>0.0</td>\n",
       "      <td>0.0</td>\n",
       "      <td>0.0</td>\n",
       "      <td>REGIONAL ANTIOQUIA</td>\n",
       "      <td>DIAGNÓSTICO PENDIENTE</td>\n",
       "      <td>FISIOTERAPIA ILIMITADA</td>\n",
       "      <td>2019</td>\n",
       "      <td>10</td>\n",
       "    </tr>\n",
       "    <tr>\n",
       "      <th>395866</th>\n",
       "      <td>2019-11-12</td>\n",
       "      <td>25627716</td>\n",
       "      <td>12</td>\n",
       "      <td>0</td>\n",
       "      <td>2.0</td>\n",
       "      <td>568788.00</td>\n",
       "      <td>F</td>\n",
       "      <td>38.0</td>\n",
       "      <td>2</td>\n",
       "      <td>0.0</td>\n",
       "      <td>0.0</td>\n",
       "      <td>0.0</td>\n",
       "      <td>0.0</td>\n",
       "      <td>0.0</td>\n",
       "      <td>REGIONAL CENTRO</td>\n",
       "      <td>DIAGNÓSTICO PENDIENTE</td>\n",
       "      <td>EXAMENES DE DIAGNOSTICO</td>\n",
       "      <td>2019</td>\n",
       "      <td>11</td>\n",
       "    </tr>\n",
       "    <tr>\n",
       "      <th>395867</th>\n",
       "      <td>2019-10-27</td>\n",
       "      <td>30959682</td>\n",
       "      <td>8</td>\n",
       "      <td>0</td>\n",
       "      <td>1.0</td>\n",
       "      <td>86677.24</td>\n",
       "      <td>F</td>\n",
       "      <td>28.0</td>\n",
       "      <td>2</td>\n",
       "      <td>0.0</td>\n",
       "      <td>0.0</td>\n",
       "      <td>0.0</td>\n",
       "      <td>0.0</td>\n",
       "      <td>0.0</td>\n",
       "      <td>REGIONAL CENTRO</td>\n",
       "      <td>DIAGNÓSTICO PENDIENTE</td>\n",
       "      <td>CONSULTA DE URGENCIAS</td>\n",
       "      <td>2019</td>\n",
       "      <td>10</td>\n",
       "    </tr>\n",
       "  </tbody>\n",
       "</table>\n",
       "<p>390992 rows × 19 columns</p>\n",
       "</div>"
      ],
      "text/plain": [
       "       Fecha_Reclamacion  Afiliado_Id  Reclamacion_codigo Diagnostico_Codigo  \\\n",
       "0             2019-10-23     22914637                  12               M45X   \n",
       "1             2019-11-26     58412744                   9                  0   \n",
       "2             2019-10-23      5070923                  16                  0   \n",
       "3             2019-11-27      5769950                  13                  0   \n",
       "4             2019-08-11     24022833                  12               K589   \n",
       "...                  ...          ...                 ...                ...   \n",
       "395863        2019-11-14      4351189                  16                  0   \n",
       "395864        2019-07-09     44677250                   9                  0   \n",
       "395865        2019-10-25     19220270                  13                  0   \n",
       "395866        2019-11-12     25627716                  12                  0   \n",
       "395867        2019-10-27     30959682                   8                  0   \n",
       "\n",
       "        Cantidad      Precio Sexo_codigo  Edad Regional_codigo  CANCER  EPOC  \\\n",
       "0            1.0  1056639.96           M  28.0               5     0.0   0.0   \n",
       "1            1.0   139772.80           F  15.0               2     0.0   0.0   \n",
       "2            1.0   320166.76           F  45.0               2     0.0   0.0   \n",
       "3            1.0    21204.00           F  91.0               2     0.0   0.0   \n",
       "4            1.0    60636.00           M  29.0               2     0.0   0.0   \n",
       "...          ...         ...         ...   ...             ...     ...   ...   \n",
       "395863      15.0   251820.44           F  68.0               5     0.0   0.0   \n",
       "395864       1.0    67208.00           F  20.0               1     0.0   0.0   \n",
       "395865      10.0   475726.00           F  39.0               1     0.0   0.0   \n",
       "395866       2.0   568788.00           F  38.0               2     0.0   0.0   \n",
       "395867       1.0    86677.24           F  28.0               2     0.0   0.0   \n",
       "\n",
       "        DIABETES  HIPERTENSION  ENF_CARDIOVASCULAR          Regional_Desc  \\\n",
       "0            0.0           0.0                 0.0  REGIONAL EJE CAFETERO   \n",
       "1            0.0           0.0                 0.0        REGIONAL CENTRO   \n",
       "2            0.0           0.0                 0.0        REGIONAL CENTRO   \n",
       "3            0.0           0.0                 0.0        REGIONAL CENTRO   \n",
       "4            0.0           0.0                 0.0        REGIONAL CENTRO   \n",
       "...          ...           ...                 ...                    ...   \n",
       "395863       0.0           1.0                 0.0  REGIONAL EJE CAFETERO   \n",
       "395864       0.0           0.0                 0.0     REGIONAL ANTIOQUIA   \n",
       "395865       0.0           0.0                 0.0     REGIONAL ANTIOQUIA   \n",
       "395866       0.0           0.0                 0.0        REGIONAL CENTRO   \n",
       "395867       0.0           0.0                 0.0        REGIONAL CENTRO   \n",
       "\n",
       "                                Diagnostico_Desc         Reclamacion_Desc  \\\n",
       "0                      ESPONDILITIS ANQUILOSANTE  EXAMENES DE DIAGNOSTICO   \n",
       "1                          DIAGNÓSTICO PENDIENTE         CONSULTA EXTERNA   \n",
       "2                          DIAGNÓSTICO PENDIENTE      LABORATORIO CLINICO   \n",
       "3                          DIAGNÓSTICO PENDIENTE   FISIOTERAPIA ILIMITADA   \n",
       "4       SÍNDROME DEL COLON IRRITABLE SIN DIARREA  EXAMENES DE DIAGNOSTICO   \n",
       "...                                          ...                      ...   \n",
       "395863                     DIAGNÓSTICO PENDIENTE      LABORATORIO CLINICO   \n",
       "395864                     DIAGNÓSTICO PENDIENTE         CONSULTA EXTERNA   \n",
       "395865                     DIAGNÓSTICO PENDIENTE   FISIOTERAPIA ILIMITADA   \n",
       "395866                     DIAGNÓSTICO PENDIENTE  EXAMENES DE DIAGNOSTICO   \n",
       "395867                     DIAGNÓSTICO PENDIENTE    CONSULTA DE URGENCIAS   \n",
       "\n",
       "         Año Mes  \n",
       "0       2019  10  \n",
       "1       2019  11  \n",
       "2       2019  10  \n",
       "3       2019  11  \n",
       "4       2019  08  \n",
       "...      ...  ..  \n",
       "395863  2019  11  \n",
       "395864  2019  07  \n",
       "395865  2019  10  \n",
       "395866  2019  11  \n",
       "395867  2019  10  \n",
       "\n",
       "[390992 rows x 19 columns]"
      ]
     },
     "execution_count": 18,
     "metadata": {},
     "output_type": "execute_result"
    }
   ],
   "source": [
    "Seguro_salud[\"Año\"]=Seguro_salud[\"Fecha_Reclamacion\"].dt.strftime(\"%Y\")\n",
    "Seguro_salud[\"Mes\"]=Seguro_salud[\"Fecha_Reclamacion\"].dt.strftime(\"%m\")\n",
    "Seguro_salud"
   ]
  },
  {
   "cell_type": "code",
   "execution_count": 19,
   "metadata": {},
   "outputs": [
    {
     "name": "stderr",
     "output_type": "stream",
     "text": [
      "C:\\Users\\USUARIO\\AppData\\Local\\Temp/ipykernel_7920/3353915151.py:1: SettingWithCopyWarning: \n",
      "A value is trying to be set on a copy of a slice from a DataFrame.\n",
      "Try using .loc[row_indexer,col_indexer] = value instead\n",
      "\n",
      "See the caveats in the documentation: https://pandas.pydata.org/pandas-docs/stable/user_guide/indexing.html#returning-a-view-versus-a-copy\n",
      "  Seguro_salud[\"Año\"]=Seguro_salud[\"Año\"].astype(\"int\")\n",
      "C:\\Users\\USUARIO\\AppData\\Local\\Temp/ipykernel_7920/3353915151.py:2: SettingWithCopyWarning: \n",
      "A value is trying to be set on a copy of a slice from a DataFrame.\n",
      "Try using .loc[row_indexer,col_indexer] = value instead\n",
      "\n",
      "See the caveats in the documentation: https://pandas.pydata.org/pandas-docs/stable/user_guide/indexing.html#returning-a-view-versus-a-copy\n",
      "  Seguro_salud[\"Mes\"]=Seguro_salud[\"Mes\"].astype(\"int\")\n"
     ]
    },
    {
     "data": {
      "text/plain": [
       "Fecha_Reclamacion     datetime64[ns]\n",
       "Afiliado_Id                    int64\n",
       "Reclamacion_codigo             int32\n",
       "Diagnostico_Codigo            object\n",
       "Cantidad                     float64\n",
       "Precio                       float64\n",
       "Sexo_codigo                   object\n",
       "Edad                         float64\n",
       "Regional_codigo               object\n",
       "CANCER                       float64\n",
       "EPOC                         float64\n",
       "DIABETES                     float64\n",
       "HIPERTENSION                 float64\n",
       "ENF_CARDIOVASCULAR           float64\n",
       "Regional_Desc                 object\n",
       "Diagnostico_Desc              object\n",
       "Reclamacion_Desc              object\n",
       "Año                            int32\n",
       "Mes                            int32\n",
       "dtype: object"
      ]
     },
     "execution_count": 19,
     "metadata": {},
     "output_type": "execute_result"
    }
   ],
   "source": [
    "Seguro_salud[\"Año\"]=Seguro_salud[\"Año\"].astype(\"int\")\n",
    "Seguro_salud[\"Mes\"]=Seguro_salud[\"Mes\"].astype(\"int\")\n",
    "Seguro_salud.dtypes"
   ]
  },
  {
   "cell_type": "code",
   "execution_count": 19,
   "metadata": {},
   "outputs": [
    {
     "data": {
      "text/plain": [
       "Fecha_Reclamacion     datetime64[ns]\n",
       "Afiliado_Id                    int64\n",
       "Reclamacion_codigo             int32\n",
       "Diagnostico_Codigo            object\n",
       "Cantidad                     float64\n",
       "Precio                       float64\n",
       "Sexo_codigo                   object\n",
       "Edad                         float64\n",
       "Regional_codigo               object\n",
       "CANCER                       float64\n",
       "EPOC                         float64\n",
       "DIABETES                     float64\n",
       "HIPERTENSION                 float64\n",
       "ENF_CARDIOVASCULAR           float64\n",
       "Regional_Desc                 object\n",
       "Diagnostico_Desc              object\n",
       "Reclamacion_Desc              object\n",
       "Año                           object\n",
       "Mes                           object\n",
       "dtype: object"
      ]
     },
     "execution_count": 19,
     "metadata": {},
     "output_type": "execute_result"
    }
   ],
   "source": [
    "Seguro_salud.dtypes"
   ]
  },
  {
   "attachments": {},
   "cell_type": "markdown",
   "metadata": {},
   "source": [
    "## ANALISIS EXPLORATIO DE DATOS -- EDA"
   ]
  },
  {
   "cell_type": "code",
   "execution_count": 20,
   "metadata": {},
   "outputs": [
    {
     "data": {
      "application/vnd.plotly.v1+json": {
       "config": {
        "plotlyServerURL": "https://plot.ly"
       },
       "data": [
        {
         "alignmentgroup": "True",
         "hovertemplate": "Reclamacion_Desc=%{x}<br>Precio=%{y}<extra></extra>",
         "legendgroup": "",
         "marker": {
          "color": "#3366CC",
          "pattern": {
           "shape": ""
          }
         },
         "name": "",
         "offsetgroup": "",
         "orientation": "v",
         "showlegend": false,
         "textposition": "auto",
         "type": "bar",
         "x": [
          "EXAMENES DE DIAGNOSTICO",
          "CIRUGIA AMBULATORIA POR ENFERMEDAD",
          "TRATAMIENTO QUIRURGICO HOSPITALARIO POR ENFERMEDAD",
          "LABORATORIO CLINICO",
          "CONSULTA EXTERNA",
          "TRATAMIENTO MEDICO HOSPITALARIO POR ENFERMEDAD",
          "TRATAMIENTO AMBULATORIO POR CANCER",
          "CONSULTA DE URGENCIAS",
          "ATENCION DEL PARTO",
          "PAMD"
         ],
         "xaxis": "x",
         "y": [
          20537059811.16,
          18284207136.64,
          17866662655.96,
          11319283178.24,
          11037698411.88,
          9138258949.56,
          5619965343.92,
          5373119957.44,
          2888908520.64,
          1753479849.72
         ],
         "yaxis": "y"
        }
       ],
       "layout": {
        "barmode": "relative",
        "legend": {
         "tracegroupgap": 0
        },
        "template": {
         "data": {
          "bar": [
           {
            "error_x": {
             "color": "rgb(36,36,36)"
            },
            "error_y": {
             "color": "rgb(36,36,36)"
            },
            "marker": {
             "line": {
              "color": "white",
              "width": 0.5
             },
             "pattern": {
              "fillmode": "overlay",
              "size": 10,
              "solidity": 0.2
             }
            },
            "type": "bar"
           }
          ],
          "barpolar": [
           {
            "marker": {
             "line": {
              "color": "white",
              "width": 0.5
             },
             "pattern": {
              "fillmode": "overlay",
              "size": 10,
              "solidity": 0.2
             }
            },
            "type": "barpolar"
           }
          ],
          "carpet": [
           {
            "aaxis": {
             "endlinecolor": "rgb(36,36,36)",
             "gridcolor": "white",
             "linecolor": "white",
             "minorgridcolor": "white",
             "startlinecolor": "rgb(36,36,36)"
            },
            "baxis": {
             "endlinecolor": "rgb(36,36,36)",
             "gridcolor": "white",
             "linecolor": "white",
             "minorgridcolor": "white",
             "startlinecolor": "rgb(36,36,36)"
            },
            "type": "carpet"
           }
          ],
          "choropleth": [
           {
            "colorbar": {
             "outlinewidth": 1,
             "tickcolor": "rgb(36,36,36)",
             "ticks": "outside"
            },
            "type": "choropleth"
           }
          ],
          "contour": [
           {
            "colorbar": {
             "outlinewidth": 1,
             "tickcolor": "rgb(36,36,36)",
             "ticks": "outside"
            },
            "colorscale": [
             [
              0,
              "#440154"
             ],
             [
              0.1111111111111111,
              "#482878"
             ],
             [
              0.2222222222222222,
              "#3e4989"
             ],
             [
              0.3333333333333333,
              "#31688e"
             ],
             [
              0.4444444444444444,
              "#26828e"
             ],
             [
              0.5555555555555556,
              "#1f9e89"
             ],
             [
              0.6666666666666666,
              "#35b779"
             ],
             [
              0.7777777777777778,
              "#6ece58"
             ],
             [
              0.8888888888888888,
              "#b5de2b"
             ],
             [
              1,
              "#fde725"
             ]
            ],
            "type": "contour"
           }
          ],
          "contourcarpet": [
           {
            "colorbar": {
             "outlinewidth": 1,
             "tickcolor": "rgb(36,36,36)",
             "ticks": "outside"
            },
            "type": "contourcarpet"
           }
          ],
          "heatmap": [
           {
            "colorbar": {
             "outlinewidth": 1,
             "tickcolor": "rgb(36,36,36)",
             "ticks": "outside"
            },
            "colorscale": [
             [
              0,
              "#440154"
             ],
             [
              0.1111111111111111,
              "#482878"
             ],
             [
              0.2222222222222222,
              "#3e4989"
             ],
             [
              0.3333333333333333,
              "#31688e"
             ],
             [
              0.4444444444444444,
              "#26828e"
             ],
             [
              0.5555555555555556,
              "#1f9e89"
             ],
             [
              0.6666666666666666,
              "#35b779"
             ],
             [
              0.7777777777777778,
              "#6ece58"
             ],
             [
              0.8888888888888888,
              "#b5de2b"
             ],
             [
              1,
              "#fde725"
             ]
            ],
            "type": "heatmap"
           }
          ],
          "heatmapgl": [
           {
            "colorbar": {
             "outlinewidth": 1,
             "tickcolor": "rgb(36,36,36)",
             "ticks": "outside"
            },
            "colorscale": [
             [
              0,
              "#440154"
             ],
             [
              0.1111111111111111,
              "#482878"
             ],
             [
              0.2222222222222222,
              "#3e4989"
             ],
             [
              0.3333333333333333,
              "#31688e"
             ],
             [
              0.4444444444444444,
              "#26828e"
             ],
             [
              0.5555555555555556,
              "#1f9e89"
             ],
             [
              0.6666666666666666,
              "#35b779"
             ],
             [
              0.7777777777777778,
              "#6ece58"
             ],
             [
              0.8888888888888888,
              "#b5de2b"
             ],
             [
              1,
              "#fde725"
             ]
            ],
            "type": "heatmapgl"
           }
          ],
          "histogram": [
           {
            "marker": {
             "line": {
              "color": "white",
              "width": 0.6
             }
            },
            "type": "histogram"
           }
          ],
          "histogram2d": [
           {
            "colorbar": {
             "outlinewidth": 1,
             "tickcolor": "rgb(36,36,36)",
             "ticks": "outside"
            },
            "colorscale": [
             [
              0,
              "#440154"
             ],
             [
              0.1111111111111111,
              "#482878"
             ],
             [
              0.2222222222222222,
              "#3e4989"
             ],
             [
              0.3333333333333333,
              "#31688e"
             ],
             [
              0.4444444444444444,
              "#26828e"
             ],
             [
              0.5555555555555556,
              "#1f9e89"
             ],
             [
              0.6666666666666666,
              "#35b779"
             ],
             [
              0.7777777777777778,
              "#6ece58"
             ],
             [
              0.8888888888888888,
              "#b5de2b"
             ],
             [
              1,
              "#fde725"
             ]
            ],
            "type": "histogram2d"
           }
          ],
          "histogram2dcontour": [
           {
            "colorbar": {
             "outlinewidth": 1,
             "tickcolor": "rgb(36,36,36)",
             "ticks": "outside"
            },
            "colorscale": [
             [
              0,
              "#440154"
             ],
             [
              0.1111111111111111,
              "#482878"
             ],
             [
              0.2222222222222222,
              "#3e4989"
             ],
             [
              0.3333333333333333,
              "#31688e"
             ],
             [
              0.4444444444444444,
              "#26828e"
             ],
             [
              0.5555555555555556,
              "#1f9e89"
             ],
             [
              0.6666666666666666,
              "#35b779"
             ],
             [
              0.7777777777777778,
              "#6ece58"
             ],
             [
              0.8888888888888888,
              "#b5de2b"
             ],
             [
              1,
              "#fde725"
             ]
            ],
            "type": "histogram2dcontour"
           }
          ],
          "mesh3d": [
           {
            "colorbar": {
             "outlinewidth": 1,
             "tickcolor": "rgb(36,36,36)",
             "ticks": "outside"
            },
            "type": "mesh3d"
           }
          ],
          "parcoords": [
           {
            "line": {
             "colorbar": {
              "outlinewidth": 1,
              "tickcolor": "rgb(36,36,36)",
              "ticks": "outside"
             }
            },
            "type": "parcoords"
           }
          ],
          "pie": [
           {
            "automargin": true,
            "type": "pie"
           }
          ],
          "scatter": [
           {
            "marker": {
             "colorbar": {
              "outlinewidth": 1,
              "tickcolor": "rgb(36,36,36)",
              "ticks": "outside"
             }
            },
            "type": "scatter"
           }
          ],
          "scatter3d": [
           {
            "line": {
             "colorbar": {
              "outlinewidth": 1,
              "tickcolor": "rgb(36,36,36)",
              "ticks": "outside"
             }
            },
            "marker": {
             "colorbar": {
              "outlinewidth": 1,
              "tickcolor": "rgb(36,36,36)",
              "ticks": "outside"
             }
            },
            "type": "scatter3d"
           }
          ],
          "scattercarpet": [
           {
            "marker": {
             "colorbar": {
              "outlinewidth": 1,
              "tickcolor": "rgb(36,36,36)",
              "ticks": "outside"
             }
            },
            "type": "scattercarpet"
           }
          ],
          "scattergeo": [
           {
            "marker": {
             "colorbar": {
              "outlinewidth": 1,
              "tickcolor": "rgb(36,36,36)",
              "ticks": "outside"
             }
            },
            "type": "scattergeo"
           }
          ],
          "scattergl": [
           {
            "marker": {
             "colorbar": {
              "outlinewidth": 1,
              "tickcolor": "rgb(36,36,36)",
              "ticks": "outside"
             }
            },
            "type": "scattergl"
           }
          ],
          "scattermapbox": [
           {
            "marker": {
             "colorbar": {
              "outlinewidth": 1,
              "tickcolor": "rgb(36,36,36)",
              "ticks": "outside"
             }
            },
            "type": "scattermapbox"
           }
          ],
          "scatterpolar": [
           {
            "marker": {
             "colorbar": {
              "outlinewidth": 1,
              "tickcolor": "rgb(36,36,36)",
              "ticks": "outside"
             }
            },
            "type": "scatterpolar"
           }
          ],
          "scatterpolargl": [
           {
            "marker": {
             "colorbar": {
              "outlinewidth": 1,
              "tickcolor": "rgb(36,36,36)",
              "ticks": "outside"
             }
            },
            "type": "scatterpolargl"
           }
          ],
          "scatterternary": [
           {
            "marker": {
             "colorbar": {
              "outlinewidth": 1,
              "tickcolor": "rgb(36,36,36)",
              "ticks": "outside"
             }
            },
            "type": "scatterternary"
           }
          ],
          "surface": [
           {
            "colorbar": {
             "outlinewidth": 1,
             "tickcolor": "rgb(36,36,36)",
             "ticks": "outside"
            },
            "colorscale": [
             [
              0,
              "#440154"
             ],
             [
              0.1111111111111111,
              "#482878"
             ],
             [
              0.2222222222222222,
              "#3e4989"
             ],
             [
              0.3333333333333333,
              "#31688e"
             ],
             [
              0.4444444444444444,
              "#26828e"
             ],
             [
              0.5555555555555556,
              "#1f9e89"
             ],
             [
              0.6666666666666666,
              "#35b779"
             ],
             [
              0.7777777777777778,
              "#6ece58"
             ],
             [
              0.8888888888888888,
              "#b5de2b"
             ],
             [
              1,
              "#fde725"
             ]
            ],
            "type": "surface"
           }
          ],
          "table": [
           {
            "cells": {
             "fill": {
              "color": "rgb(237,237,237)"
             },
             "line": {
              "color": "white"
             }
            },
            "header": {
             "fill": {
              "color": "rgb(217,217,217)"
             },
             "line": {
              "color": "white"
             }
            },
            "type": "table"
           }
          ]
         },
         "layout": {
          "annotationdefaults": {
           "arrowhead": 0,
           "arrowwidth": 1
          },
          "autotypenumbers": "strict",
          "coloraxis": {
           "colorbar": {
            "outlinewidth": 1,
            "tickcolor": "rgb(36,36,36)",
            "ticks": "outside"
           }
          },
          "colorscale": {
           "diverging": [
            [
             0,
             "rgb(103,0,31)"
            ],
            [
             0.1,
             "rgb(178,24,43)"
            ],
            [
             0.2,
             "rgb(214,96,77)"
            ],
            [
             0.3,
             "rgb(244,165,130)"
            ],
            [
             0.4,
             "rgb(253,219,199)"
            ],
            [
             0.5,
             "rgb(247,247,247)"
            ],
            [
             0.6,
             "rgb(209,229,240)"
            ],
            [
             0.7,
             "rgb(146,197,222)"
            ],
            [
             0.8,
             "rgb(67,147,195)"
            ],
            [
             0.9,
             "rgb(33,102,172)"
            ],
            [
             1,
             "rgb(5,48,97)"
            ]
           ],
           "sequential": [
            [
             0,
             "#440154"
            ],
            [
             0.1111111111111111,
             "#482878"
            ],
            [
             0.2222222222222222,
             "#3e4989"
            ],
            [
             0.3333333333333333,
             "#31688e"
            ],
            [
             0.4444444444444444,
             "#26828e"
            ],
            [
             0.5555555555555556,
             "#1f9e89"
            ],
            [
             0.6666666666666666,
             "#35b779"
            ],
            [
             0.7777777777777778,
             "#6ece58"
            ],
            [
             0.8888888888888888,
             "#b5de2b"
            ],
            [
             1,
             "#fde725"
            ]
           ],
           "sequentialminus": [
            [
             0,
             "#440154"
            ],
            [
             0.1111111111111111,
             "#482878"
            ],
            [
             0.2222222222222222,
             "#3e4989"
            ],
            [
             0.3333333333333333,
             "#31688e"
            ],
            [
             0.4444444444444444,
             "#26828e"
            ],
            [
             0.5555555555555556,
             "#1f9e89"
            ],
            [
             0.6666666666666666,
             "#35b779"
            ],
            [
             0.7777777777777778,
             "#6ece58"
            ],
            [
             0.8888888888888888,
             "#b5de2b"
            ],
            [
             1,
             "#fde725"
            ]
           ]
          },
          "colorway": [
           "#1F77B4",
           "#FF7F0E",
           "#2CA02C",
           "#D62728",
           "#9467BD",
           "#8C564B",
           "#E377C2",
           "#7F7F7F",
           "#BCBD22",
           "#17BECF"
          ],
          "font": {
           "color": "rgb(36,36,36)"
          },
          "geo": {
           "bgcolor": "white",
           "lakecolor": "white",
           "landcolor": "white",
           "showlakes": true,
           "showland": true,
           "subunitcolor": "white"
          },
          "hoverlabel": {
           "align": "left"
          },
          "hovermode": "closest",
          "mapbox": {
           "style": "light"
          },
          "paper_bgcolor": "white",
          "plot_bgcolor": "white",
          "polar": {
           "angularaxis": {
            "gridcolor": "rgb(232,232,232)",
            "linecolor": "rgb(36,36,36)",
            "showgrid": false,
            "showline": true,
            "ticks": "outside"
           },
           "bgcolor": "white",
           "radialaxis": {
            "gridcolor": "rgb(232,232,232)",
            "linecolor": "rgb(36,36,36)",
            "showgrid": false,
            "showline": true,
            "ticks": "outside"
           }
          },
          "scene": {
           "xaxis": {
            "backgroundcolor": "white",
            "gridcolor": "rgb(232,232,232)",
            "gridwidth": 2,
            "linecolor": "rgb(36,36,36)",
            "showbackground": true,
            "showgrid": false,
            "showline": true,
            "ticks": "outside",
            "zeroline": false,
            "zerolinecolor": "rgb(36,36,36)"
           },
           "yaxis": {
            "backgroundcolor": "white",
            "gridcolor": "rgb(232,232,232)",
            "gridwidth": 2,
            "linecolor": "rgb(36,36,36)",
            "showbackground": true,
            "showgrid": false,
            "showline": true,
            "ticks": "outside",
            "zeroline": false,
            "zerolinecolor": "rgb(36,36,36)"
           },
           "zaxis": {
            "backgroundcolor": "white",
            "gridcolor": "rgb(232,232,232)",
            "gridwidth": 2,
            "linecolor": "rgb(36,36,36)",
            "showbackground": true,
            "showgrid": false,
            "showline": true,
            "ticks": "outside",
            "zeroline": false,
            "zerolinecolor": "rgb(36,36,36)"
           }
          },
          "shapedefaults": {
           "fillcolor": "black",
           "line": {
            "width": 0
           },
           "opacity": 0.3
          },
          "ternary": {
           "aaxis": {
            "gridcolor": "rgb(232,232,232)",
            "linecolor": "rgb(36,36,36)",
            "showgrid": false,
            "showline": true,
            "ticks": "outside"
           },
           "baxis": {
            "gridcolor": "rgb(232,232,232)",
            "linecolor": "rgb(36,36,36)",
            "showgrid": false,
            "showline": true,
            "ticks": "outside"
           },
           "bgcolor": "white",
           "caxis": {
            "gridcolor": "rgb(232,232,232)",
            "linecolor": "rgb(36,36,36)",
            "showgrid": false,
            "showline": true,
            "ticks": "outside"
           }
          },
          "title": {
           "x": 0.05
          },
          "xaxis": {
           "automargin": true,
           "gridcolor": "rgb(232,232,232)",
           "linecolor": "rgb(36,36,36)",
           "showgrid": false,
           "showline": true,
           "ticks": "outside",
           "title": {
            "standoff": 15
           },
           "zeroline": false,
           "zerolinecolor": "rgb(36,36,36)"
          },
          "yaxis": {
           "automargin": true,
           "gridcolor": "rgb(232,232,232)",
           "linecolor": "rgb(36,36,36)",
           "showgrid": false,
           "showline": true,
           "ticks": "outside",
           "title": {
            "standoff": 15
           },
           "zeroline": false,
           "zerolinecolor": "rgb(36,36,36)"
          }
         }
        },
        "title": {
         "text": "Costos por reclamaciones",
         "x": 0.5
        },
        "xaxis": {
         "anchor": "y",
         "domain": [
          0,
          1
         ],
         "title": {
          "text": "Tipo de reclamación"
         }
        },
        "yaxis": {
         "anchor": "x",
         "domain": [
          0,
          1
         ],
         "title": {
          "text": "Gastos"
         }
        }
       }
      }
     },
     "metadata": {},
     "output_type": "display_data"
    }
   ],
   "source": [
    "\n",
    "\n",
    "base = Seguro_salud.groupby(['Reclamacion_Desc'])[['Precio']].sum().sort_values('Precio', ascending = False).reset_index().head(10)\n",
    "\n",
    "fig = px.bar(base, x = 'Reclamacion_Desc', y='Precio',\n",
    "             title= 'Costos por reclamaciones',\n",
    "             color_discrete_sequence=px.colors.qualitative.G10)\n",
    "\n",
    "fig.update_layout(\n",
    "    xaxis_title = 'Tipo de reclamación',\n",
    "    yaxis_title = 'Gastos',\n",
    "    template = 'simple_white',\n",
    "    title_x = 0.5)\n",
    "\n",
    "fig.show()"
   ]
  },
  {
   "cell_type": "code",
   "execution_count": 21,
   "metadata": {},
   "outputs": [
    {
     "data": {
      "application/vnd.plotly.v1+json": {
       "config": {
        "plotlyServerURL": "https://plot.ly"
       },
       "data": [
        {
         "alignmentgroup": "True",
         "hovertemplate": "Regional_Desc=%{x}<br>Precio=%{y}<extra></extra>",
         "legendgroup": "",
         "marker": {
          "color": "#FD3216",
          "pattern": {
           "shape": ""
          }
         },
         "name": "",
         "offsetgroup": "",
         "orientation": "v",
         "showlegend": false,
         "textposition": "auto",
         "type": "bar",
         "x": [
          "REGIONAL CENTRO",
          "REGIONAL ANTIOQUIA",
          "REGIONAL OCCIDENTE",
          "REGIONAL NORTE",
          "REGIONAL EJE CAFETERO",
          "Region no especificada"
         ],
         "xaxis": "x",
         "y": [
          58933390338.24,
          19040752301,
          18095498311.98,
          12877928647.98,
          3329775969.2400002,
          7595451.359999999
         ],
         "yaxis": "y"
        }
       ],
       "layout": {
        "barmode": "relative",
        "legend": {
         "tracegroupgap": 0
        },
        "template": {
         "data": {
          "bar": [
           {
            "error_x": {
             "color": "rgb(36,36,36)"
            },
            "error_y": {
             "color": "rgb(36,36,36)"
            },
            "marker": {
             "line": {
              "color": "white",
              "width": 0.5
             },
             "pattern": {
              "fillmode": "overlay",
              "size": 10,
              "solidity": 0.2
             }
            },
            "type": "bar"
           }
          ],
          "barpolar": [
           {
            "marker": {
             "line": {
              "color": "white",
              "width": 0.5
             },
             "pattern": {
              "fillmode": "overlay",
              "size": 10,
              "solidity": 0.2
             }
            },
            "type": "barpolar"
           }
          ],
          "carpet": [
           {
            "aaxis": {
             "endlinecolor": "rgb(36,36,36)",
             "gridcolor": "white",
             "linecolor": "white",
             "minorgridcolor": "white",
             "startlinecolor": "rgb(36,36,36)"
            },
            "baxis": {
             "endlinecolor": "rgb(36,36,36)",
             "gridcolor": "white",
             "linecolor": "white",
             "minorgridcolor": "white",
             "startlinecolor": "rgb(36,36,36)"
            },
            "type": "carpet"
           }
          ],
          "choropleth": [
           {
            "colorbar": {
             "outlinewidth": 1,
             "tickcolor": "rgb(36,36,36)",
             "ticks": "outside"
            },
            "type": "choropleth"
           }
          ],
          "contour": [
           {
            "colorbar": {
             "outlinewidth": 1,
             "tickcolor": "rgb(36,36,36)",
             "ticks": "outside"
            },
            "colorscale": [
             [
              0,
              "#440154"
             ],
             [
              0.1111111111111111,
              "#482878"
             ],
             [
              0.2222222222222222,
              "#3e4989"
             ],
             [
              0.3333333333333333,
              "#31688e"
             ],
             [
              0.4444444444444444,
              "#26828e"
             ],
             [
              0.5555555555555556,
              "#1f9e89"
             ],
             [
              0.6666666666666666,
              "#35b779"
             ],
             [
              0.7777777777777778,
              "#6ece58"
             ],
             [
              0.8888888888888888,
              "#b5de2b"
             ],
             [
              1,
              "#fde725"
             ]
            ],
            "type": "contour"
           }
          ],
          "contourcarpet": [
           {
            "colorbar": {
             "outlinewidth": 1,
             "tickcolor": "rgb(36,36,36)",
             "ticks": "outside"
            },
            "type": "contourcarpet"
           }
          ],
          "heatmap": [
           {
            "colorbar": {
             "outlinewidth": 1,
             "tickcolor": "rgb(36,36,36)",
             "ticks": "outside"
            },
            "colorscale": [
             [
              0,
              "#440154"
             ],
             [
              0.1111111111111111,
              "#482878"
             ],
             [
              0.2222222222222222,
              "#3e4989"
             ],
             [
              0.3333333333333333,
              "#31688e"
             ],
             [
              0.4444444444444444,
              "#26828e"
             ],
             [
              0.5555555555555556,
              "#1f9e89"
             ],
             [
              0.6666666666666666,
              "#35b779"
             ],
             [
              0.7777777777777778,
              "#6ece58"
             ],
             [
              0.8888888888888888,
              "#b5de2b"
             ],
             [
              1,
              "#fde725"
             ]
            ],
            "type": "heatmap"
           }
          ],
          "heatmapgl": [
           {
            "colorbar": {
             "outlinewidth": 1,
             "tickcolor": "rgb(36,36,36)",
             "ticks": "outside"
            },
            "colorscale": [
             [
              0,
              "#440154"
             ],
             [
              0.1111111111111111,
              "#482878"
             ],
             [
              0.2222222222222222,
              "#3e4989"
             ],
             [
              0.3333333333333333,
              "#31688e"
             ],
             [
              0.4444444444444444,
              "#26828e"
             ],
             [
              0.5555555555555556,
              "#1f9e89"
             ],
             [
              0.6666666666666666,
              "#35b779"
             ],
             [
              0.7777777777777778,
              "#6ece58"
             ],
             [
              0.8888888888888888,
              "#b5de2b"
             ],
             [
              1,
              "#fde725"
             ]
            ],
            "type": "heatmapgl"
           }
          ],
          "histogram": [
           {
            "marker": {
             "line": {
              "color": "white",
              "width": 0.6
             }
            },
            "type": "histogram"
           }
          ],
          "histogram2d": [
           {
            "colorbar": {
             "outlinewidth": 1,
             "tickcolor": "rgb(36,36,36)",
             "ticks": "outside"
            },
            "colorscale": [
             [
              0,
              "#440154"
             ],
             [
              0.1111111111111111,
              "#482878"
             ],
             [
              0.2222222222222222,
              "#3e4989"
             ],
             [
              0.3333333333333333,
              "#31688e"
             ],
             [
              0.4444444444444444,
              "#26828e"
             ],
             [
              0.5555555555555556,
              "#1f9e89"
             ],
             [
              0.6666666666666666,
              "#35b779"
             ],
             [
              0.7777777777777778,
              "#6ece58"
             ],
             [
              0.8888888888888888,
              "#b5de2b"
             ],
             [
              1,
              "#fde725"
             ]
            ],
            "type": "histogram2d"
           }
          ],
          "histogram2dcontour": [
           {
            "colorbar": {
             "outlinewidth": 1,
             "tickcolor": "rgb(36,36,36)",
             "ticks": "outside"
            },
            "colorscale": [
             [
              0,
              "#440154"
             ],
             [
              0.1111111111111111,
              "#482878"
             ],
             [
              0.2222222222222222,
              "#3e4989"
             ],
             [
              0.3333333333333333,
              "#31688e"
             ],
             [
              0.4444444444444444,
              "#26828e"
             ],
             [
              0.5555555555555556,
              "#1f9e89"
             ],
             [
              0.6666666666666666,
              "#35b779"
             ],
             [
              0.7777777777777778,
              "#6ece58"
             ],
             [
              0.8888888888888888,
              "#b5de2b"
             ],
             [
              1,
              "#fde725"
             ]
            ],
            "type": "histogram2dcontour"
           }
          ],
          "mesh3d": [
           {
            "colorbar": {
             "outlinewidth": 1,
             "tickcolor": "rgb(36,36,36)",
             "ticks": "outside"
            },
            "type": "mesh3d"
           }
          ],
          "parcoords": [
           {
            "line": {
             "colorbar": {
              "outlinewidth": 1,
              "tickcolor": "rgb(36,36,36)",
              "ticks": "outside"
             }
            },
            "type": "parcoords"
           }
          ],
          "pie": [
           {
            "automargin": true,
            "type": "pie"
           }
          ],
          "scatter": [
           {
            "marker": {
             "colorbar": {
              "outlinewidth": 1,
              "tickcolor": "rgb(36,36,36)",
              "ticks": "outside"
             }
            },
            "type": "scatter"
           }
          ],
          "scatter3d": [
           {
            "line": {
             "colorbar": {
              "outlinewidth": 1,
              "tickcolor": "rgb(36,36,36)",
              "ticks": "outside"
             }
            },
            "marker": {
             "colorbar": {
              "outlinewidth": 1,
              "tickcolor": "rgb(36,36,36)",
              "ticks": "outside"
             }
            },
            "type": "scatter3d"
           }
          ],
          "scattercarpet": [
           {
            "marker": {
             "colorbar": {
              "outlinewidth": 1,
              "tickcolor": "rgb(36,36,36)",
              "ticks": "outside"
             }
            },
            "type": "scattercarpet"
           }
          ],
          "scattergeo": [
           {
            "marker": {
             "colorbar": {
              "outlinewidth": 1,
              "tickcolor": "rgb(36,36,36)",
              "ticks": "outside"
             }
            },
            "type": "scattergeo"
           }
          ],
          "scattergl": [
           {
            "marker": {
             "colorbar": {
              "outlinewidth": 1,
              "tickcolor": "rgb(36,36,36)",
              "ticks": "outside"
             }
            },
            "type": "scattergl"
           }
          ],
          "scattermapbox": [
           {
            "marker": {
             "colorbar": {
              "outlinewidth": 1,
              "tickcolor": "rgb(36,36,36)",
              "ticks": "outside"
             }
            },
            "type": "scattermapbox"
           }
          ],
          "scatterpolar": [
           {
            "marker": {
             "colorbar": {
              "outlinewidth": 1,
              "tickcolor": "rgb(36,36,36)",
              "ticks": "outside"
             }
            },
            "type": "scatterpolar"
           }
          ],
          "scatterpolargl": [
           {
            "marker": {
             "colorbar": {
              "outlinewidth": 1,
              "tickcolor": "rgb(36,36,36)",
              "ticks": "outside"
             }
            },
            "type": "scatterpolargl"
           }
          ],
          "scatterternary": [
           {
            "marker": {
             "colorbar": {
              "outlinewidth": 1,
              "tickcolor": "rgb(36,36,36)",
              "ticks": "outside"
             }
            },
            "type": "scatterternary"
           }
          ],
          "surface": [
           {
            "colorbar": {
             "outlinewidth": 1,
             "tickcolor": "rgb(36,36,36)",
             "ticks": "outside"
            },
            "colorscale": [
             [
              0,
              "#440154"
             ],
             [
              0.1111111111111111,
              "#482878"
             ],
             [
              0.2222222222222222,
              "#3e4989"
             ],
             [
              0.3333333333333333,
              "#31688e"
             ],
             [
              0.4444444444444444,
              "#26828e"
             ],
             [
              0.5555555555555556,
              "#1f9e89"
             ],
             [
              0.6666666666666666,
              "#35b779"
             ],
             [
              0.7777777777777778,
              "#6ece58"
             ],
             [
              0.8888888888888888,
              "#b5de2b"
             ],
             [
              1,
              "#fde725"
             ]
            ],
            "type": "surface"
           }
          ],
          "table": [
           {
            "cells": {
             "fill": {
              "color": "rgb(237,237,237)"
             },
             "line": {
              "color": "white"
             }
            },
            "header": {
             "fill": {
              "color": "rgb(217,217,217)"
             },
             "line": {
              "color": "white"
             }
            },
            "type": "table"
           }
          ]
         },
         "layout": {
          "annotationdefaults": {
           "arrowhead": 0,
           "arrowwidth": 1
          },
          "autotypenumbers": "strict",
          "coloraxis": {
           "colorbar": {
            "outlinewidth": 1,
            "tickcolor": "rgb(36,36,36)",
            "ticks": "outside"
           }
          },
          "colorscale": {
           "diverging": [
            [
             0,
             "rgb(103,0,31)"
            ],
            [
             0.1,
             "rgb(178,24,43)"
            ],
            [
             0.2,
             "rgb(214,96,77)"
            ],
            [
             0.3,
             "rgb(244,165,130)"
            ],
            [
             0.4,
             "rgb(253,219,199)"
            ],
            [
             0.5,
             "rgb(247,247,247)"
            ],
            [
             0.6,
             "rgb(209,229,240)"
            ],
            [
             0.7,
             "rgb(146,197,222)"
            ],
            [
             0.8,
             "rgb(67,147,195)"
            ],
            [
             0.9,
             "rgb(33,102,172)"
            ],
            [
             1,
             "rgb(5,48,97)"
            ]
           ],
           "sequential": [
            [
             0,
             "#440154"
            ],
            [
             0.1111111111111111,
             "#482878"
            ],
            [
             0.2222222222222222,
             "#3e4989"
            ],
            [
             0.3333333333333333,
             "#31688e"
            ],
            [
             0.4444444444444444,
             "#26828e"
            ],
            [
             0.5555555555555556,
             "#1f9e89"
            ],
            [
             0.6666666666666666,
             "#35b779"
            ],
            [
             0.7777777777777778,
             "#6ece58"
            ],
            [
             0.8888888888888888,
             "#b5de2b"
            ],
            [
             1,
             "#fde725"
            ]
           ],
           "sequentialminus": [
            [
             0,
             "#440154"
            ],
            [
             0.1111111111111111,
             "#482878"
            ],
            [
             0.2222222222222222,
             "#3e4989"
            ],
            [
             0.3333333333333333,
             "#31688e"
            ],
            [
             0.4444444444444444,
             "#26828e"
            ],
            [
             0.5555555555555556,
             "#1f9e89"
            ],
            [
             0.6666666666666666,
             "#35b779"
            ],
            [
             0.7777777777777778,
             "#6ece58"
            ],
            [
             0.8888888888888888,
             "#b5de2b"
            ],
            [
             1,
             "#fde725"
            ]
           ]
          },
          "colorway": [
           "#1F77B4",
           "#FF7F0E",
           "#2CA02C",
           "#D62728",
           "#9467BD",
           "#8C564B",
           "#E377C2",
           "#7F7F7F",
           "#BCBD22",
           "#17BECF"
          ],
          "font": {
           "color": "rgb(36,36,36)"
          },
          "geo": {
           "bgcolor": "white",
           "lakecolor": "white",
           "landcolor": "white",
           "showlakes": true,
           "showland": true,
           "subunitcolor": "white"
          },
          "hoverlabel": {
           "align": "left"
          },
          "hovermode": "closest",
          "mapbox": {
           "style": "light"
          },
          "paper_bgcolor": "white",
          "plot_bgcolor": "white",
          "polar": {
           "angularaxis": {
            "gridcolor": "rgb(232,232,232)",
            "linecolor": "rgb(36,36,36)",
            "showgrid": false,
            "showline": true,
            "ticks": "outside"
           },
           "bgcolor": "white",
           "radialaxis": {
            "gridcolor": "rgb(232,232,232)",
            "linecolor": "rgb(36,36,36)",
            "showgrid": false,
            "showline": true,
            "ticks": "outside"
           }
          },
          "scene": {
           "xaxis": {
            "backgroundcolor": "white",
            "gridcolor": "rgb(232,232,232)",
            "gridwidth": 2,
            "linecolor": "rgb(36,36,36)",
            "showbackground": true,
            "showgrid": false,
            "showline": true,
            "ticks": "outside",
            "zeroline": false,
            "zerolinecolor": "rgb(36,36,36)"
           },
           "yaxis": {
            "backgroundcolor": "white",
            "gridcolor": "rgb(232,232,232)",
            "gridwidth": 2,
            "linecolor": "rgb(36,36,36)",
            "showbackground": true,
            "showgrid": false,
            "showline": true,
            "ticks": "outside",
            "zeroline": false,
            "zerolinecolor": "rgb(36,36,36)"
           },
           "zaxis": {
            "backgroundcolor": "white",
            "gridcolor": "rgb(232,232,232)",
            "gridwidth": 2,
            "linecolor": "rgb(36,36,36)",
            "showbackground": true,
            "showgrid": false,
            "showline": true,
            "ticks": "outside",
            "zeroline": false,
            "zerolinecolor": "rgb(36,36,36)"
           }
          },
          "shapedefaults": {
           "fillcolor": "black",
           "line": {
            "width": 0
           },
           "opacity": 0.3
          },
          "ternary": {
           "aaxis": {
            "gridcolor": "rgb(232,232,232)",
            "linecolor": "rgb(36,36,36)",
            "showgrid": false,
            "showline": true,
            "ticks": "outside"
           },
           "baxis": {
            "gridcolor": "rgb(232,232,232)",
            "linecolor": "rgb(36,36,36)",
            "showgrid": false,
            "showline": true,
            "ticks": "outside"
           },
           "bgcolor": "white",
           "caxis": {
            "gridcolor": "rgb(232,232,232)",
            "linecolor": "rgb(36,36,36)",
            "showgrid": false,
            "showline": true,
            "ticks": "outside"
           }
          },
          "title": {
           "x": 0.05
          },
          "xaxis": {
           "automargin": true,
           "gridcolor": "rgb(232,232,232)",
           "linecolor": "rgb(36,36,36)",
           "showgrid": false,
           "showline": true,
           "ticks": "outside",
           "title": {
            "standoff": 15
           },
           "zeroline": false,
           "zerolinecolor": "rgb(36,36,36)"
          },
          "yaxis": {
           "automargin": true,
           "gridcolor": "rgb(232,232,232)",
           "linecolor": "rgb(36,36,36)",
           "showgrid": false,
           "showline": true,
           "ticks": "outside",
           "title": {
            "standoff": 15
           },
           "zeroline": false,
           "zerolinecolor": "rgb(36,36,36)"
          }
         }
        },
        "title": {
         "text": "Costos por regiones",
         "x": 0.5
        },
        "xaxis": {
         "anchor": "y",
         "domain": [
          0,
          1
         ],
         "title": {
          "text": "Regiones"
         }
        },
        "yaxis": {
         "anchor": "x",
         "domain": [
          0,
          1
         ],
         "title": {
          "text": "Gastos"
         }
        }
       }
      }
     },
     "metadata": {},
     "output_type": "display_data"
    }
   ],
   "source": [
    "base = Seguro_salud.groupby(['Regional_Desc'])[['Precio']].sum().sort_values('Precio', ascending = False).reset_index().head(10)\n",
    "\n",
    "fig = px.bar(base, x = 'Regional_Desc', y='Precio',\n",
    "             title= 'Costos por regiones',\n",
    "             color_discrete_sequence=px.colors.qualitative.Light24)\n",
    "\n",
    "fig.update_layout(\n",
    "    xaxis_title = 'Regiones',\n",
    "    yaxis_title = 'Gastos',\n",
    "    template = 'simple_white',\n",
    "    title_x = 0.5)\n",
    "\n",
    "fig.show()"
   ]
  },
  {
   "cell_type": "code",
   "execution_count": 22,
   "metadata": {},
   "outputs": [
    {
     "data": {
      "application/vnd.plotly.v1+json": {
       "config": {
        "plotlyServerURL": "https://plot.ly"
       },
       "data": [
        {
         "domain": {
          "x": [
           0,
           1
          ],
          "y": [
           0,
           1
          ]
         },
         "hovertemplate": "Sexo_codigo=%{label}<br>Precio=%{value}<extra></extra>",
         "labels": [
          "NN",
          "M",
          "F"
         ],
         "legendgroup": "",
         "name": "",
         "showlegend": true,
         "type": "pie",
         "values": [
          216790.44,
          44627027637.16,
          67657696592.2
         ]
        }
       ],
       "layout": {
        "legend": {
         "tracegroupgap": 0
        },
        "piecolorway": [
         "#3366CC",
         "#DC3912",
         "#FF9900",
         "#109618",
         "#990099",
         "#0099C6",
         "#DD4477",
         "#66AA00",
         "#B82E2E",
         "#316395"
        ],
        "template": {
         "data": {
          "bar": [
           {
            "error_x": {
             "color": "rgb(36,36,36)"
            },
            "error_y": {
             "color": "rgb(36,36,36)"
            },
            "marker": {
             "line": {
              "color": "white",
              "width": 0.5
             },
             "pattern": {
              "fillmode": "overlay",
              "size": 10,
              "solidity": 0.2
             }
            },
            "type": "bar"
           }
          ],
          "barpolar": [
           {
            "marker": {
             "line": {
              "color": "white",
              "width": 0.5
             },
             "pattern": {
              "fillmode": "overlay",
              "size": 10,
              "solidity": 0.2
             }
            },
            "type": "barpolar"
           }
          ],
          "carpet": [
           {
            "aaxis": {
             "endlinecolor": "rgb(36,36,36)",
             "gridcolor": "white",
             "linecolor": "white",
             "minorgridcolor": "white",
             "startlinecolor": "rgb(36,36,36)"
            },
            "baxis": {
             "endlinecolor": "rgb(36,36,36)",
             "gridcolor": "white",
             "linecolor": "white",
             "minorgridcolor": "white",
             "startlinecolor": "rgb(36,36,36)"
            },
            "type": "carpet"
           }
          ],
          "choropleth": [
           {
            "colorbar": {
             "outlinewidth": 1,
             "tickcolor": "rgb(36,36,36)",
             "ticks": "outside"
            },
            "type": "choropleth"
           }
          ],
          "contour": [
           {
            "colorbar": {
             "outlinewidth": 1,
             "tickcolor": "rgb(36,36,36)",
             "ticks": "outside"
            },
            "colorscale": [
             [
              0,
              "#440154"
             ],
             [
              0.1111111111111111,
              "#482878"
             ],
             [
              0.2222222222222222,
              "#3e4989"
             ],
             [
              0.3333333333333333,
              "#31688e"
             ],
             [
              0.4444444444444444,
              "#26828e"
             ],
             [
              0.5555555555555556,
              "#1f9e89"
             ],
             [
              0.6666666666666666,
              "#35b779"
             ],
             [
              0.7777777777777778,
              "#6ece58"
             ],
             [
              0.8888888888888888,
              "#b5de2b"
             ],
             [
              1,
              "#fde725"
             ]
            ],
            "type": "contour"
           }
          ],
          "contourcarpet": [
           {
            "colorbar": {
             "outlinewidth": 1,
             "tickcolor": "rgb(36,36,36)",
             "ticks": "outside"
            },
            "type": "contourcarpet"
           }
          ],
          "heatmap": [
           {
            "colorbar": {
             "outlinewidth": 1,
             "tickcolor": "rgb(36,36,36)",
             "ticks": "outside"
            },
            "colorscale": [
             [
              0,
              "#440154"
             ],
             [
              0.1111111111111111,
              "#482878"
             ],
             [
              0.2222222222222222,
              "#3e4989"
             ],
             [
              0.3333333333333333,
              "#31688e"
             ],
             [
              0.4444444444444444,
              "#26828e"
             ],
             [
              0.5555555555555556,
              "#1f9e89"
             ],
             [
              0.6666666666666666,
              "#35b779"
             ],
             [
              0.7777777777777778,
              "#6ece58"
             ],
             [
              0.8888888888888888,
              "#b5de2b"
             ],
             [
              1,
              "#fde725"
             ]
            ],
            "type": "heatmap"
           }
          ],
          "heatmapgl": [
           {
            "colorbar": {
             "outlinewidth": 1,
             "tickcolor": "rgb(36,36,36)",
             "ticks": "outside"
            },
            "colorscale": [
             [
              0,
              "#440154"
             ],
             [
              0.1111111111111111,
              "#482878"
             ],
             [
              0.2222222222222222,
              "#3e4989"
             ],
             [
              0.3333333333333333,
              "#31688e"
             ],
             [
              0.4444444444444444,
              "#26828e"
             ],
             [
              0.5555555555555556,
              "#1f9e89"
             ],
             [
              0.6666666666666666,
              "#35b779"
             ],
             [
              0.7777777777777778,
              "#6ece58"
             ],
             [
              0.8888888888888888,
              "#b5de2b"
             ],
             [
              1,
              "#fde725"
             ]
            ],
            "type": "heatmapgl"
           }
          ],
          "histogram": [
           {
            "marker": {
             "line": {
              "color": "white",
              "width": 0.6
             }
            },
            "type": "histogram"
           }
          ],
          "histogram2d": [
           {
            "colorbar": {
             "outlinewidth": 1,
             "tickcolor": "rgb(36,36,36)",
             "ticks": "outside"
            },
            "colorscale": [
             [
              0,
              "#440154"
             ],
             [
              0.1111111111111111,
              "#482878"
             ],
             [
              0.2222222222222222,
              "#3e4989"
             ],
             [
              0.3333333333333333,
              "#31688e"
             ],
             [
              0.4444444444444444,
              "#26828e"
             ],
             [
              0.5555555555555556,
              "#1f9e89"
             ],
             [
              0.6666666666666666,
              "#35b779"
             ],
             [
              0.7777777777777778,
              "#6ece58"
             ],
             [
              0.8888888888888888,
              "#b5de2b"
             ],
             [
              1,
              "#fde725"
             ]
            ],
            "type": "histogram2d"
           }
          ],
          "histogram2dcontour": [
           {
            "colorbar": {
             "outlinewidth": 1,
             "tickcolor": "rgb(36,36,36)",
             "ticks": "outside"
            },
            "colorscale": [
             [
              0,
              "#440154"
             ],
             [
              0.1111111111111111,
              "#482878"
             ],
             [
              0.2222222222222222,
              "#3e4989"
             ],
             [
              0.3333333333333333,
              "#31688e"
             ],
             [
              0.4444444444444444,
              "#26828e"
             ],
             [
              0.5555555555555556,
              "#1f9e89"
             ],
             [
              0.6666666666666666,
              "#35b779"
             ],
             [
              0.7777777777777778,
              "#6ece58"
             ],
             [
              0.8888888888888888,
              "#b5de2b"
             ],
             [
              1,
              "#fde725"
             ]
            ],
            "type": "histogram2dcontour"
           }
          ],
          "mesh3d": [
           {
            "colorbar": {
             "outlinewidth": 1,
             "tickcolor": "rgb(36,36,36)",
             "ticks": "outside"
            },
            "type": "mesh3d"
           }
          ],
          "parcoords": [
           {
            "line": {
             "colorbar": {
              "outlinewidth": 1,
              "tickcolor": "rgb(36,36,36)",
              "ticks": "outside"
             }
            },
            "type": "parcoords"
           }
          ],
          "pie": [
           {
            "automargin": true,
            "type": "pie"
           }
          ],
          "scatter": [
           {
            "marker": {
             "colorbar": {
              "outlinewidth": 1,
              "tickcolor": "rgb(36,36,36)",
              "ticks": "outside"
             }
            },
            "type": "scatter"
           }
          ],
          "scatter3d": [
           {
            "line": {
             "colorbar": {
              "outlinewidth": 1,
              "tickcolor": "rgb(36,36,36)",
              "ticks": "outside"
             }
            },
            "marker": {
             "colorbar": {
              "outlinewidth": 1,
              "tickcolor": "rgb(36,36,36)",
              "ticks": "outside"
             }
            },
            "type": "scatter3d"
           }
          ],
          "scattercarpet": [
           {
            "marker": {
             "colorbar": {
              "outlinewidth": 1,
              "tickcolor": "rgb(36,36,36)",
              "ticks": "outside"
             }
            },
            "type": "scattercarpet"
           }
          ],
          "scattergeo": [
           {
            "marker": {
             "colorbar": {
              "outlinewidth": 1,
              "tickcolor": "rgb(36,36,36)",
              "ticks": "outside"
             }
            },
            "type": "scattergeo"
           }
          ],
          "scattergl": [
           {
            "marker": {
             "colorbar": {
              "outlinewidth": 1,
              "tickcolor": "rgb(36,36,36)",
              "ticks": "outside"
             }
            },
            "type": "scattergl"
           }
          ],
          "scattermapbox": [
           {
            "marker": {
             "colorbar": {
              "outlinewidth": 1,
              "tickcolor": "rgb(36,36,36)",
              "ticks": "outside"
             }
            },
            "type": "scattermapbox"
           }
          ],
          "scatterpolar": [
           {
            "marker": {
             "colorbar": {
              "outlinewidth": 1,
              "tickcolor": "rgb(36,36,36)",
              "ticks": "outside"
             }
            },
            "type": "scatterpolar"
           }
          ],
          "scatterpolargl": [
           {
            "marker": {
             "colorbar": {
              "outlinewidth": 1,
              "tickcolor": "rgb(36,36,36)",
              "ticks": "outside"
             }
            },
            "type": "scatterpolargl"
           }
          ],
          "scatterternary": [
           {
            "marker": {
             "colorbar": {
              "outlinewidth": 1,
              "tickcolor": "rgb(36,36,36)",
              "ticks": "outside"
             }
            },
            "type": "scatterternary"
           }
          ],
          "surface": [
           {
            "colorbar": {
             "outlinewidth": 1,
             "tickcolor": "rgb(36,36,36)",
             "ticks": "outside"
            },
            "colorscale": [
             [
              0,
              "#440154"
             ],
             [
              0.1111111111111111,
              "#482878"
             ],
             [
              0.2222222222222222,
              "#3e4989"
             ],
             [
              0.3333333333333333,
              "#31688e"
             ],
             [
              0.4444444444444444,
              "#26828e"
             ],
             [
              0.5555555555555556,
              "#1f9e89"
             ],
             [
              0.6666666666666666,
              "#35b779"
             ],
             [
              0.7777777777777778,
              "#6ece58"
             ],
             [
              0.8888888888888888,
              "#b5de2b"
             ],
             [
              1,
              "#fde725"
             ]
            ],
            "type": "surface"
           }
          ],
          "table": [
           {
            "cells": {
             "fill": {
              "color": "rgb(237,237,237)"
             },
             "line": {
              "color": "white"
             }
            },
            "header": {
             "fill": {
              "color": "rgb(217,217,217)"
             },
             "line": {
              "color": "white"
             }
            },
            "type": "table"
           }
          ]
         },
         "layout": {
          "annotationdefaults": {
           "arrowhead": 0,
           "arrowwidth": 1
          },
          "autotypenumbers": "strict",
          "coloraxis": {
           "colorbar": {
            "outlinewidth": 1,
            "tickcolor": "rgb(36,36,36)",
            "ticks": "outside"
           }
          },
          "colorscale": {
           "diverging": [
            [
             0,
             "rgb(103,0,31)"
            ],
            [
             0.1,
             "rgb(178,24,43)"
            ],
            [
             0.2,
             "rgb(214,96,77)"
            ],
            [
             0.3,
             "rgb(244,165,130)"
            ],
            [
             0.4,
             "rgb(253,219,199)"
            ],
            [
             0.5,
             "rgb(247,247,247)"
            ],
            [
             0.6,
             "rgb(209,229,240)"
            ],
            [
             0.7,
             "rgb(146,197,222)"
            ],
            [
             0.8,
             "rgb(67,147,195)"
            ],
            [
             0.9,
             "rgb(33,102,172)"
            ],
            [
             1,
             "rgb(5,48,97)"
            ]
           ],
           "sequential": [
            [
             0,
             "#440154"
            ],
            [
             0.1111111111111111,
             "#482878"
            ],
            [
             0.2222222222222222,
             "#3e4989"
            ],
            [
             0.3333333333333333,
             "#31688e"
            ],
            [
             0.4444444444444444,
             "#26828e"
            ],
            [
             0.5555555555555556,
             "#1f9e89"
            ],
            [
             0.6666666666666666,
             "#35b779"
            ],
            [
             0.7777777777777778,
             "#6ece58"
            ],
            [
             0.8888888888888888,
             "#b5de2b"
            ],
            [
             1,
             "#fde725"
            ]
           ],
           "sequentialminus": [
            [
             0,
             "#440154"
            ],
            [
             0.1111111111111111,
             "#482878"
            ],
            [
             0.2222222222222222,
             "#3e4989"
            ],
            [
             0.3333333333333333,
             "#31688e"
            ],
            [
             0.4444444444444444,
             "#26828e"
            ],
            [
             0.5555555555555556,
             "#1f9e89"
            ],
            [
             0.6666666666666666,
             "#35b779"
            ],
            [
             0.7777777777777778,
             "#6ece58"
            ],
            [
             0.8888888888888888,
             "#b5de2b"
            ],
            [
             1,
             "#fde725"
            ]
           ]
          },
          "colorway": [
           "#1F77B4",
           "#FF7F0E",
           "#2CA02C",
           "#D62728",
           "#9467BD",
           "#8C564B",
           "#E377C2",
           "#7F7F7F",
           "#BCBD22",
           "#17BECF"
          ],
          "font": {
           "color": "rgb(36,36,36)"
          },
          "geo": {
           "bgcolor": "white",
           "lakecolor": "white",
           "landcolor": "white",
           "showlakes": true,
           "showland": true,
           "subunitcolor": "white"
          },
          "hoverlabel": {
           "align": "left"
          },
          "hovermode": "closest",
          "mapbox": {
           "style": "light"
          },
          "paper_bgcolor": "white",
          "plot_bgcolor": "white",
          "polar": {
           "angularaxis": {
            "gridcolor": "rgb(232,232,232)",
            "linecolor": "rgb(36,36,36)",
            "showgrid": false,
            "showline": true,
            "ticks": "outside"
           },
           "bgcolor": "white",
           "radialaxis": {
            "gridcolor": "rgb(232,232,232)",
            "linecolor": "rgb(36,36,36)",
            "showgrid": false,
            "showline": true,
            "ticks": "outside"
           }
          },
          "scene": {
           "xaxis": {
            "backgroundcolor": "white",
            "gridcolor": "rgb(232,232,232)",
            "gridwidth": 2,
            "linecolor": "rgb(36,36,36)",
            "showbackground": true,
            "showgrid": false,
            "showline": true,
            "ticks": "outside",
            "zeroline": false,
            "zerolinecolor": "rgb(36,36,36)"
           },
           "yaxis": {
            "backgroundcolor": "white",
            "gridcolor": "rgb(232,232,232)",
            "gridwidth": 2,
            "linecolor": "rgb(36,36,36)",
            "showbackground": true,
            "showgrid": false,
            "showline": true,
            "ticks": "outside",
            "zeroline": false,
            "zerolinecolor": "rgb(36,36,36)"
           },
           "zaxis": {
            "backgroundcolor": "white",
            "gridcolor": "rgb(232,232,232)",
            "gridwidth": 2,
            "linecolor": "rgb(36,36,36)",
            "showbackground": true,
            "showgrid": false,
            "showline": true,
            "ticks": "outside",
            "zeroline": false,
            "zerolinecolor": "rgb(36,36,36)"
           }
          },
          "shapedefaults": {
           "fillcolor": "black",
           "line": {
            "width": 0
           },
           "opacity": 0.3
          },
          "ternary": {
           "aaxis": {
            "gridcolor": "rgb(232,232,232)",
            "linecolor": "rgb(36,36,36)",
            "showgrid": false,
            "showline": true,
            "ticks": "outside"
           },
           "baxis": {
            "gridcolor": "rgb(232,232,232)",
            "linecolor": "rgb(36,36,36)",
            "showgrid": false,
            "showline": true,
            "ticks": "outside"
           },
           "bgcolor": "white",
           "caxis": {
            "gridcolor": "rgb(232,232,232)",
            "linecolor": "rgb(36,36,36)",
            "showgrid": false,
            "showline": true,
            "ticks": "outside"
           }
          },
          "title": {
           "x": 0.05
          },
          "xaxis": {
           "automargin": true,
           "gridcolor": "rgb(232,232,232)",
           "linecolor": "rgb(36,36,36)",
           "showgrid": false,
           "showline": true,
           "ticks": "outside",
           "title": {
            "standoff": 15
           },
           "zeroline": false,
           "zerolinecolor": "rgb(36,36,36)"
          },
          "yaxis": {
           "automargin": true,
           "gridcolor": "rgb(232,232,232)",
           "linecolor": "rgb(36,36,36)",
           "showgrid": false,
           "showline": true,
           "ticks": "outside",
           "title": {
            "standoff": 15
           },
           "zeroline": false,
           "zerolinecolor": "rgb(36,36,36)"
          }
         }
        },
        "title": {
         "text": "<b>Relación de costo en función del genero<b>",
         "x": 0.5
        }
       }
      }
     },
     "metadata": {},
     "output_type": "display_data"
    }
   ],
   "source": [
    "base = Seguro_salud.groupby(['Sexo_codigo'])[['Precio']].sum().sort_values('Precio', ascending = True).reset_index().head(5)\n",
    "\n",
    "# Gráfica\n",
    "fig = px.pie(base, values = 'Precio', names ='Sexo_codigo',\n",
    "             title= '<b>Relación de costo en función del genero<b>',\n",
    "             color_discrete_sequence=px.colors.qualitative.G10)\n",
    "\n",
    "# # Agrear etiquetas a las porciones\n",
    "fig.update_layout(\n",
    "    template = 'simple_white',\n",
    "    title_x = 0.5)\n",
    "\n",
    "fig.show()"
   ]
  },
  {
   "cell_type": "code",
   "execution_count": 23,
   "metadata": {},
   "outputs": [
    {
     "data": {
      "text/plain": [
       "F     245074\n",
       "M     145917\n",
       "NN         1\n",
       "Name: Sexo_codigo, dtype: int64"
      ]
     },
     "execution_count": 23,
     "metadata": {},
     "output_type": "execute_result"
    }
   ],
   "source": [
    "Seguro_salud['Sexo_codigo'].value_counts()"
   ]
  },
  {
   "cell_type": "code",
   "execution_count": 24,
   "metadata": {},
   "outputs": [
    {
     "data": {
      "text/plain": [
       "2019    390141\n",
       "2018       805\n",
       "2017        22\n",
       "2016        13\n",
       "2014         9\n",
       "2015         2\n",
       "Name: Año, dtype: int64"
      ]
     },
     "execution_count": 24,
     "metadata": {},
     "output_type": "execute_result"
    }
   ],
   "source": [
    "Seguro_salud['Año'].value_counts()"
   ]
  },
  {
   "cell_type": "code",
   "execution_count": 25,
   "metadata": {},
   "outputs": [
    {
     "data": {
      "image/png": "[encoded data removed]",
      "text/plain": [
       "<Figure size 720x432 with 1 Axes>"
      ]
     },
     "metadata": {
      "needs_background": "light"
     },
     "output_type": "display_data"
    }
   ],
   "source": [
    "\n",
    "movie_year = pd.DataFrame(Seguro_salud['Fecha_Reclamacion'].groupby(Seguro_salud['Año']).count())\n",
    "movie_year.reset_index(inplace=True)\n",
    "fig, ax = plt.subplots(figsize=(10, 6))\n",
    "ax.plot(movie_year['Año'], movie_year['Fecha_Reclamacion'])\n",
    "\n",
    "ax.set_xlabel('Año')\n",
    "ax.set_ylabel('Conteo de reclamos')\n",
    "ax.set_title('Serie de tiempo reclamos por año')\n",
    "plt.show()"
   ]
  },
  {
   "cell_type": "code",
   "execution_count": 26,
   "metadata": {},
   "outputs": [
    {
     "data": {
      "image/png": "[encoded data removed]",
      "text/plain": [
       "<Figure size 720x432 with 1 Axes>"
      ]
     },
     "metadata": {
      "needs_background": "light"
     },
     "output_type": "display_data"
    }
   ],
   "source": [
    "movie_year = pd.DataFrame(Seguro_salud['Fecha_Reclamacion'].groupby(Seguro_salud['Mes']).count())\n",
    "movie_year.reset_index(inplace=True)\n",
    "\n",
    "fig, ax = plt.subplots(figsize=(10, 6))\n",
    "ax.plot(movie_year['Mes'], movie_year['Fecha_Reclamacion'])\n",
    "\n",
    "ax.set_xlabel('Mes')\n",
    "ax.set_ylabel('Conteo de reclamos')\n",
    "ax.set_title('Serie de tiempo reclamos por mes')\n",
    "plt.show()"
   ]
  },
  {
   "cell_type": "code",
   "execution_count": 27,
   "metadata": {},
   "outputs": [
    {
     "data": {
      "text/html": [
       "<div>\n",
       "<style scoped>\n",
       "    .dataframe tbody tr th:only-of-type {\n",
       "        vertical-align: middle;\n",
       "    }\n",
       "\n",
       "    .dataframe tbody tr th {\n",
       "        vertical-align: top;\n",
       "    }\n",
       "\n",
       "    .dataframe thead th {\n",
       "        text-align: right;\n",
       "    }\n",
       "</style>\n",
       "<table border=\"1\" class=\"dataframe\">\n",
       "  <thead>\n",
       "    <tr style=\"text-align: right;\">\n",
       "      <th></th>\n",
       "      <th>ENFERMEDAD</th>\n",
       "      <th>Precio</th>\n",
       "    </tr>\n",
       "  </thead>\n",
       "  <tbody>\n",
       "    <tr>\n",
       "      <th>0</th>\n",
       "      <td>CANCER[0]</td>\n",
       "      <td>9.729618e+10</td>\n",
       "    </tr>\n",
       "    <tr>\n",
       "      <th>1</th>\n",
       "      <td>CANCER[1]</td>\n",
       "      <td>1.498876e+10</td>\n",
       "    </tr>\n",
       "  </tbody>\n",
       "</table>\n",
       "</div>"
      ],
      "text/plain": [
       "  ENFERMEDAD        Precio\n",
       "0  CANCER[0]  9.729618e+10\n",
       "1  CANCER[1]  1.498876e+10"
      ]
     },
     "execution_count": 27,
     "metadata": {},
     "output_type": "execute_result"
    }
   ],
   "source": [
    "Seguro=Seguro_salud.groupby([\"CANCER\"])[\"Precio\"].sum().reset_index()\n",
    "Seguro=pd.DataFrame(Seguro)\n",
    "Seguro[\"CANCER\"]=Seguro[\"CANCER\"].replace(0.0,\"CANCER[0]\")\n",
    "Seguro[\"CANCER\"]=Seguro[\"CANCER\"].replace(1.0,\"CANCER[1]\")\n",
    "Seguro=Seguro.rename(columns={\"CANCER\":\"ENFERMEDAD\"})\n",
    "Seguro\n",
    "\n"
   ]
  },
  {
   "cell_type": "code",
   "execution_count": 28,
   "metadata": {},
   "outputs": [
    {
     "data": {
      "text/html": [
       "<div>\n",
       "<style scoped>\n",
       "    .dataframe tbody tr th:only-of-type {\n",
       "        vertical-align: middle;\n",
       "    }\n",
       "\n",
       "    .dataframe tbody tr th {\n",
       "        vertical-align: top;\n",
       "    }\n",
       "\n",
       "    .dataframe thead th {\n",
       "        text-align: right;\n",
       "    }\n",
       "</style>\n",
       "<table border=\"1\" class=\"dataframe\">\n",
       "  <thead>\n",
       "    <tr style=\"text-align: right;\">\n",
       "      <th></th>\n",
       "      <th>ENFERMEDAD</th>\n",
       "      <th>Precio</th>\n",
       "    </tr>\n",
       "  </thead>\n",
       "  <tbody>\n",
       "    <tr>\n",
       "      <th>0</th>\n",
       "      <td>Epoc[0]</td>\n",
       "      <td>1.098800e+11</td>\n",
       "    </tr>\n",
       "    <tr>\n",
       "      <th>1</th>\n",
       "      <td>Epoc[1]</td>\n",
       "      <td>2.404939e+09</td>\n",
       "    </tr>\n",
       "  </tbody>\n",
       "</table>\n",
       "</div>"
      ],
      "text/plain": [
       "  ENFERMEDAD        Precio\n",
       "0    Epoc[0]  1.098800e+11\n",
       "1    Epoc[1]  2.404939e+09"
      ]
     },
     "execution_count": 28,
     "metadata": {},
     "output_type": "execute_result"
    }
   ],
   "source": [
    "Seguro1=Seguro_salud.groupby([\"EPOC\"])[\"Precio\"].sum().reset_index()\n",
    "Seguro1=pd.DataFrame(Seguro1)\n",
    "Seguro1[\"EPOC\"]=Seguro1[\"EPOC\"].replace(0.0,\"Epoc[0]\")\n",
    "Seguro1[\"EPOC\"]=Seguro1[\"EPOC\"].replace(1.0,\"Epoc[1]\")\n",
    "Seguro1=Seguro1.rename(columns={\"EPOC\":\"ENFERMEDAD\"})\n",
    "Seguro1"
   ]
  },
  {
   "cell_type": "code",
   "execution_count": 29,
   "metadata": {},
   "outputs": [
    {
     "data": {
      "text/html": [
       "<div>\n",
       "<style scoped>\n",
       "    .dataframe tbody tr th:only-of-type {\n",
       "        vertical-align: middle;\n",
       "    }\n",
       "\n",
       "    .dataframe tbody tr th {\n",
       "        vertical-align: top;\n",
       "    }\n",
       "\n",
       "    .dataframe thead th {\n",
       "        text-align: right;\n",
       "    }\n",
       "</style>\n",
       "<table border=\"1\" class=\"dataframe\">\n",
       "  <thead>\n",
       "    <tr style=\"text-align: right;\">\n",
       "      <th></th>\n",
       "      <th>ENFERMEDAD</th>\n",
       "      <th>Precio</th>\n",
       "    </tr>\n",
       "  </thead>\n",
       "  <tbody>\n",
       "    <tr>\n",
       "      <th>0</th>\n",
       "      <td>Diabetes[0]</td>\n",
       "      <td>1.063084e+11</td>\n",
       "    </tr>\n",
       "    <tr>\n",
       "      <th>1</th>\n",
       "      <td>Diabetes[1]</td>\n",
       "      <td>5.976564e+09</td>\n",
       "    </tr>\n",
       "  </tbody>\n",
       "</table>\n",
       "</div>"
      ],
      "text/plain": [
       "    ENFERMEDAD        Precio\n",
       "0  Diabetes[0]  1.063084e+11\n",
       "1  Diabetes[1]  5.976564e+09"
      ]
     },
     "execution_count": 29,
     "metadata": {},
     "output_type": "execute_result"
    }
   ],
   "source": [
    "Seguro2=Seguro_salud.groupby([\"DIABETES\"])[\"Precio\"].sum().reset_index()\n",
    "Seguro2=pd.DataFrame(Seguro2)\n",
    "Seguro2[\"DIABETES\"]=Seguro2[\"DIABETES\"].replace(0.0,\"Diabetes[0]\")\n",
    "Seguro2[\"DIABETES\"]=Seguro2[\"DIABETES\"].replace(1.0,\"Diabetes[1]\")\n",
    "Seguro2=Seguro2.rename(columns={\"DIABETES\":\"ENFERMEDAD\"})\n",
    "Seguro2"
   ]
  },
  {
   "cell_type": "code",
   "execution_count": 30,
   "metadata": {},
   "outputs": [
    {
     "data": {
      "text/html": [
       "<div>\n",
       "<style scoped>\n",
       "    .dataframe tbody tr th:only-of-type {\n",
       "        vertical-align: middle;\n",
       "    }\n",
       "\n",
       "    .dataframe tbody tr th {\n",
       "        vertical-align: top;\n",
       "    }\n",
       "\n",
       "    .dataframe thead th {\n",
       "        text-align: right;\n",
       "    }\n",
       "</style>\n",
       "<table border=\"1\" class=\"dataframe\">\n",
       "  <thead>\n",
       "    <tr style=\"text-align: right;\">\n",
       "      <th></th>\n",
       "      <th>ENFERMEDAD</th>\n",
       "      <th>Precio</th>\n",
       "    </tr>\n",
       "  </thead>\n",
       "  <tbody>\n",
       "    <tr>\n",
       "      <th>0</th>\n",
       "      <td>HIPERTENSION[0]</td>\n",
       "      <td>9.335884e+10</td>\n",
       "    </tr>\n",
       "    <tr>\n",
       "      <th>1</th>\n",
       "      <td>HIPERTENSION[1]</td>\n",
       "      <td>1.892610e+10</td>\n",
       "    </tr>\n",
       "  </tbody>\n",
       "</table>\n",
       "</div>"
      ],
      "text/plain": [
       "        ENFERMEDAD        Precio\n",
       "0  HIPERTENSION[0]  9.335884e+10\n",
       "1  HIPERTENSION[1]  1.892610e+10"
      ]
     },
     "execution_count": 30,
     "metadata": {},
     "output_type": "execute_result"
    }
   ],
   "source": [
    "Seguro3=Seguro_salud.groupby([\"HIPERTENSION\"])[\"Precio\"].sum().reset_index()\n",
    "Seguro3=pd.DataFrame(Seguro3)\n",
    "Seguro3[\"HIPERTENSION\"]=Seguro3[\"HIPERTENSION\"].replace(0.0,\"HIPERTENSION[0]\")\n",
    "Seguro3[\"HIPERTENSION\"]=Seguro3[\"HIPERTENSION\"].replace(1.0,\"HIPERTENSION[1]\")\n",
    "Seguro3=Seguro3.rename(columns={\"HIPERTENSION\":\"ENFERMEDAD\"})\n",
    "Seguro3"
   ]
  },
  {
   "cell_type": "code",
   "execution_count": 31,
   "metadata": {},
   "outputs": [
    {
     "data": {
      "text/html": [
       "<div>\n",
       "<style scoped>\n",
       "    .dataframe tbody tr th:only-of-type {\n",
       "        vertical-align: middle;\n",
       "    }\n",
       "\n",
       "    .dataframe tbody tr th {\n",
       "        vertical-align: top;\n",
       "    }\n",
       "\n",
       "    .dataframe thead th {\n",
       "        text-align: right;\n",
       "    }\n",
       "</style>\n",
       "<table border=\"1\" class=\"dataframe\">\n",
       "  <thead>\n",
       "    <tr style=\"text-align: right;\">\n",
       "      <th></th>\n",
       "      <th>ENFERMEDAD</th>\n",
       "      <th>Precio</th>\n",
       "    </tr>\n",
       "  </thead>\n",
       "  <tbody>\n",
       "    <tr>\n",
       "      <th>0</th>\n",
       "      <td>ENF_CARDIOVASCULAR[0]</td>\n",
       "      <td>1.098745e+11</td>\n",
       "    </tr>\n",
       "    <tr>\n",
       "      <th>1</th>\n",
       "      <td>ENF_CARDIOVASCULAR[1]</td>\n",
       "      <td>2.410410e+09</td>\n",
       "    </tr>\n",
       "  </tbody>\n",
       "</table>\n",
       "</div>"
      ],
      "text/plain": [
       "              ENFERMEDAD        Precio\n",
       "0  ENF_CARDIOVASCULAR[0]  1.098745e+11\n",
       "1  ENF_CARDIOVASCULAR[1]  2.410410e+09"
      ]
     },
     "execution_count": 31,
     "metadata": {},
     "output_type": "execute_result"
    }
   ],
   "source": [
    "Seguro4=Seguro_salud.groupby([\"ENF_CARDIOVASCULAR\"])[\"Precio\"].sum().reset_index()\n",
    "Seguro4=pd.DataFrame(Seguro4)\n",
    "Seguro4[\"ENF_CARDIOVASCULAR\"]=Seguro4[\"ENF_CARDIOVASCULAR\"].replace(0.0,\"ENF_CARDIOVASCULAR[0]\")\n",
    "Seguro4[\"ENF_CARDIOVASCULAR\"]=Seguro4[\"ENF_CARDIOVASCULAR\"].replace(1.0,\"ENF_CARDIOVASCULAR[1]\")\n",
    "Seguro4=Seguro4.rename(columns={\"ENF_CARDIOVASCULAR\":\"ENFERMEDAD\"})\n",
    "Seguro4"
   ]
  },
  {
   "cell_type": "code",
   "execution_count": 32,
   "metadata": {},
   "outputs": [
    {
     "data": {
      "text/html": [
       "<div>\n",
       "<style scoped>\n",
       "    .dataframe tbody tr th:only-of-type {\n",
       "        vertical-align: middle;\n",
       "    }\n",
       "\n",
       "    .dataframe tbody tr th {\n",
       "        vertical-align: top;\n",
       "    }\n",
       "\n",
       "    .dataframe thead th {\n",
       "        text-align: right;\n",
       "    }\n",
       "</style>\n",
       "<table border=\"1\" class=\"dataframe\">\n",
       "  <thead>\n",
       "    <tr style=\"text-align: right;\">\n",
       "      <th></th>\n",
       "      <th>index</th>\n",
       "      <th>ENFERMEDAD</th>\n",
       "      <th>Precio</th>\n",
       "    </tr>\n",
       "  </thead>\n",
       "  <tbody>\n",
       "    <tr>\n",
       "      <th>0</th>\n",
       "      <td>0</td>\n",
       "      <td>CANCER[0]</td>\n",
       "      <td>9.729618e+10</td>\n",
       "    </tr>\n",
       "    <tr>\n",
       "      <th>1</th>\n",
       "      <td>1</td>\n",
       "      <td>CANCER[1]</td>\n",
       "      <td>1.498876e+10</td>\n",
       "    </tr>\n",
       "    <tr>\n",
       "      <th>2</th>\n",
       "      <td>0</td>\n",
       "      <td>Epoc[0]</td>\n",
       "      <td>1.098800e+11</td>\n",
       "    </tr>\n",
       "    <tr>\n",
       "      <th>3</th>\n",
       "      <td>1</td>\n",
       "      <td>Epoc[1]</td>\n",
       "      <td>2.404939e+09</td>\n",
       "    </tr>\n",
       "    <tr>\n",
       "      <th>4</th>\n",
       "      <td>0</td>\n",
       "      <td>Diabetes[0]</td>\n",
       "      <td>1.063084e+11</td>\n",
       "    </tr>\n",
       "    <tr>\n",
       "      <th>5</th>\n",
       "      <td>1</td>\n",
       "      <td>Diabetes[1]</td>\n",
       "      <td>5.976564e+09</td>\n",
       "    </tr>\n",
       "    <tr>\n",
       "      <th>6</th>\n",
       "      <td>0</td>\n",
       "      <td>HIPERTENSION[0]</td>\n",
       "      <td>9.335884e+10</td>\n",
       "    </tr>\n",
       "    <tr>\n",
       "      <th>7</th>\n",
       "      <td>1</td>\n",
       "      <td>HIPERTENSION[1]</td>\n",
       "      <td>1.892610e+10</td>\n",
       "    </tr>\n",
       "    <tr>\n",
       "      <th>8</th>\n",
       "      <td>0</td>\n",
       "      <td>ENF_CARDIOVASCULAR[0]</td>\n",
       "      <td>1.098745e+11</td>\n",
       "    </tr>\n",
       "    <tr>\n",
       "      <th>9</th>\n",
       "      <td>1</td>\n",
       "      <td>ENF_CARDIOVASCULAR[1]</td>\n",
       "      <td>2.410410e+09</td>\n",
       "    </tr>\n",
       "  </tbody>\n",
       "</table>\n",
       "</div>"
      ],
      "text/plain": [
       "   index             ENFERMEDAD        Precio\n",
       "0      0              CANCER[0]  9.729618e+10\n",
       "1      1              CANCER[1]  1.498876e+10\n",
       "2      0                Epoc[0]  1.098800e+11\n",
       "3      1                Epoc[1]  2.404939e+09\n",
       "4      0            Diabetes[0]  1.063084e+11\n",
       "5      1            Diabetes[1]  5.976564e+09\n",
       "6      0        HIPERTENSION[0]  9.335884e+10\n",
       "7      1        HIPERTENSION[1]  1.892610e+10\n",
       "8      0  ENF_CARDIOVASCULAR[0]  1.098745e+11\n",
       "9      1  ENF_CARDIOVASCULAR[1]  2.410410e+09"
      ]
     },
     "execution_count": 32,
     "metadata": {},
     "output_type": "execute_result"
    }
   ],
   "source": [
    "Enfermedades1=pd.concat([Seguro, Seguro1, Seguro2, Seguro3, Seguro4], axis=0,).reset_index()\n",
    "Enfermedades1"
   ]
  },
  {
   "cell_type": "code",
   "execution_count": 33,
   "metadata": {},
   "outputs": [
    {
     "data": {
      "image/png": "[encoded data removed]",
      "text/plain": [
       "<Figure size 1296x648 with 1 Axes>"
      ]
     },
     "metadata": {
      "needs_background": "light"
     },
     "output_type": "display_data"
    }
   ],
   "source": [
    "\n",
    "categoricas = Seguro_salud.loc[:, [\"CANCER\", \"EPOC\", \"DIABETES\", \"HIPERTENSION\", \"ENF_CARDIOVASCULAR\"]]\n",
    "df = pd.DataFrame(categoricas)\n",
    "\n",
    "\n",
    "zeros = [len(df[df[col] == 0]) for col in df.columns]\n",
    "ones = [len(df[df[col] == 1]) for col in df.columns]\n",
    "\n",
    "fig, ax = plt.subplots(figsize=(18, 9))\n",
    "\n",
    "ax.bar(df.columns, zeros, label='0')\n",
    "ax.bar(df.columns, ones, bottom=zeros, label='1')\n",
    "\n",
    "\n",
    "ax.set_xticks(range(len(df.columns)))\n",
    "ax.set_xticklabels(df.columns)\n",
    "ax.set_xlabel('Categorías', fontsize=14)\n",
    "ax.set_ylabel('Frecuencia', fontsize=14)\n",
    "ax.legend(fontsize=14)\n",
    "\n",
    "plt.show()"
   ]
  },
  {
   "cell_type": "code",
   "execution_count": 34,
   "metadata": {},
   "outputs": [
    {
     "data": {
      "application/vnd.plotly.v1+json": {
       "config": {
        "plotlyServerURL": "https://plot.ly"
       },
       "data": [
        {
         "domain": {
          "x": [
           0,
           1
          ],
          "y": [
           0,
           1
          ]
         },
         "hovertemplate": "ENFERMEDAD=%{label}<br>Precio=%{value}<extra></extra>",
         "labels": [
          "Epoc[1]",
          "ENF_CARDIOVASCULAR[1]",
          "Diabetes[1]",
          "CANCER[1]",
          "HIPERTENSION[1]"
         ],
         "legendgroup": "",
         "name": "",
         "showlegend": true,
         "type": "pie",
         "values": [
          2404939439.6,
          2410409721.92,
          5976563705.58,
          14988756490.4,
          18926096308.58
         ]
        }
       ],
       "layout": {
        "legend": {
         "tracegroupgap": 0
        },
        "piecolorway": [
         "#3366CC",
         "#DC3912",
         "#FF9900",
         "#109618",
         "#990099",
         "#0099C6",
         "#DD4477",
         "#66AA00",
         "#B82E2E",
         "#316395"
        ],
        "template": {
         "data": {
          "bar": [
           {
            "error_x": {
             "color": "rgb(36,36,36)"
            },
            "error_y": {
             "color": "rgb(36,36,36)"
            },
            "marker": {
             "line": {
              "color": "white",
              "width": 0.5
             },
             "pattern": {
              "fillmode": "overlay",
              "size": 10,
              "solidity": 0.2
             }
            },
            "type": "bar"
           }
          ],
          "barpolar": [
           {
            "marker": {
             "line": {
              "color": "white",
              "width": 0.5
             },
             "pattern": {
              "fillmode": "overlay",
              "size": 10,
              "solidity": 0.2
             }
            },
            "type": "barpolar"
           }
          ],
          "carpet": [
           {
            "aaxis": {
             "endlinecolor": "rgb(36,36,36)",
             "gridcolor": "white",
             "linecolor": "white",
             "minorgridcolor": "white",
             "startlinecolor": "rgb(36,36,36)"
            },
            "baxis": {
             "endlinecolor": "rgb(36,36,36)",
             "gridcolor": "white",
             "linecolor": "white",
             "minorgridcolor": "white",
             "startlinecolor": "rgb(36,36,36)"
            },
            "type": "carpet"
           }
          ],
          "choropleth": [
           {
            "colorbar": {
             "outlinewidth": 1,
             "tickcolor": "rgb(36,36,36)",
             "ticks": "outside"
            },
            "type": "choropleth"
           }
          ],
          "contour": [
           {
            "colorbar": {
             "outlinewidth": 1,
             "tickcolor": "rgb(36,36,36)",
             "ticks": "outside"
            },
            "colorscale": [
             [
              0,
              "#440154"
             ],
             [
              0.1111111111111111,
              "#482878"
             ],
             [
              0.2222222222222222,
              "#3e4989"
             ],
             [
              0.3333333333333333,
              "#31688e"
             ],
             [
              0.4444444444444444,
              "#26828e"
             ],
             [
              0.5555555555555556,
              "#1f9e89"
             ],
             [
              0.6666666666666666,
              "#35b779"
             ],
             [
              0.7777777777777778,
              "#6ece58"
             ],
             [
              0.8888888888888888,
              "#b5de2b"
             ],
             [
              1,
              "#fde725"
             ]
            ],
            "type": "contour"
           }
          ],
          "contourcarpet": [
           {
            "colorbar": {
             "outlinewidth": 1,
             "tickcolor": "rgb(36,36,36)",
             "ticks": "outside"
            },
            "type": "contourcarpet"
           }
          ],
          "heatmap": [
           {
            "colorbar": {
             "outlinewidth": 1,
             "tickcolor": "rgb(36,36,36)",
             "ticks": "outside"
            },
            "colorscale": [
             [
              0,
              "#440154"
             ],
             [
              0.1111111111111111,
              "#482878"
             ],
             [
              0.2222222222222222,
              "#3e4989"
             ],
             [
              0.3333333333333333,
              "#31688e"
             ],
             [
              0.4444444444444444,
              "#26828e"
             ],
             [
              0.5555555555555556,
              "#1f9e89"
             ],
             [
              0.6666666666666666,
              "#35b779"
             ],
             [
              0.7777777777777778,
              "#6ece58"
             ],
             [
              0.8888888888888888,
              "#b5de2b"
             ],
             [
              1,
              "#fde725"
             ]
            ],
            "type": "heatmap"
           }
          ],
          "heatmapgl": [
           {
            "colorbar": {
             "outlinewidth": 1,
             "tickcolor": "rgb(36,36,36)",
             "ticks": "outside"
            },
            "colorscale": [
             [
              0,
              "#440154"
             ],
             [
              0.1111111111111111,
              "#482878"
             ],
             [
              0.2222222222222222,
              "#3e4989"
             ],
             [
              0.3333333333333333,
              "#31688e"
             ],
             [
              0.4444444444444444,
              "#26828e"
             ],
             [
              0.5555555555555556,
              "#1f9e89"
             ],
             [
              0.6666666666666666,
              "#35b779"
             ],
             [
              0.7777777777777778,
              "#6ece58"
             ],
             [
              0.8888888888888888,
              "#b5de2b"
             ],
             [
              1,
              "#fde725"
             ]
            ],
            "type": "heatmapgl"
           }
          ],
          "histogram": [
           {
            "marker": {
             "line": {
              "color": "white",
              "width": 0.6
             }
            },
            "type": "histogram"
           }
          ],
          "histogram2d": [
           {
            "colorbar": {
             "outlinewidth": 1,
             "tickcolor": "rgb(36,36,36)",
             "ticks": "outside"
            },
            "colorscale": [
             [
              0,
              "#440154"
             ],
             [
              0.1111111111111111,
              "#482878"
             ],
             [
              0.2222222222222222,
              "#3e4989"
             ],
             [
              0.3333333333333333,
              "#31688e"
             ],
             [
              0.4444444444444444,
              "#26828e"
             ],
             [
              0.5555555555555556,
              "#1f9e89"
             ],
             [
              0.6666666666666666,
              "#35b779"
             ],
             [
              0.7777777777777778,
              "#6ece58"
             ],
             [
              0.8888888888888888,
              "#b5de2b"
             ],
             [
              1,
              "#fde725"
             ]
            ],
            "type": "histogram2d"
           }
          ],
          "histogram2dcontour": [
           {
            "colorbar": {
             "outlinewidth": 1,
             "tickcolor": "rgb(36,36,36)",
             "ticks": "outside"
            },
            "colorscale": [
             [
              0,
              "#440154"
             ],
             [
              0.1111111111111111,
              "#482878"
             ],
             [
              0.2222222222222222,
              "#3e4989"
             ],
             [
              0.3333333333333333,
              "#31688e"
             ],
             [
              0.4444444444444444,
              "#26828e"
             ],
             [
              0.5555555555555556,
              "#1f9e89"
             ],
             [
              0.6666666666666666,
              "#35b779"
             ],
             [
              0.7777777777777778,
              "#6ece58"
             ],
             [
              0.8888888888888888,
              "#b5de2b"
             ],
             [
              1,
              "#fde725"
             ]
            ],
            "type": "histogram2dcontour"
           }
          ],
          "mesh3d": [
           {
            "colorbar": {
             "outlinewidth": 1,
             "tickcolor": "rgb(36,36,36)",
             "ticks": "outside"
            },
            "type": "mesh3d"
           }
          ],
          "parcoords": [
           {
            "line": {
             "colorbar": {
              "outlinewidth": 1,
              "tickcolor": "rgb(36,36,36)",
              "ticks": "outside"
             }
            },
            "type": "parcoords"
           }
          ],
          "pie": [
           {
            "automargin": true,
            "type": "pie"
           }
          ],
          "scatter": [
           {
            "marker": {
             "colorbar": {
              "outlinewidth": 1,
              "tickcolor": "rgb(36,36,36)",
              "ticks": "outside"
             }
            },
            "type": "scatter"
           }
          ],
          "scatter3d": [
           {
            "line": {
             "colorbar": {
              "outlinewidth": 1,
              "tickcolor": "rgb(36,36,36)",
              "ticks": "outside"
             }
            },
            "marker": {
             "colorbar": {
              "outlinewidth": 1,
              "tickcolor": "rgb(36,36,36)",
              "ticks": "outside"
             }
            },
            "type": "scatter3d"
           }
          ],
          "scattercarpet": [
           {
            "marker": {
             "colorbar": {
              "outlinewidth": 1,
              "tickcolor": "rgb(36,36,36)",
              "ticks": "outside"
             }
            },
            "type": "scattercarpet"
           }
          ],
          "scattergeo": [
           {
            "marker": {
             "colorbar": {
              "outlinewidth": 1,
              "tickcolor": "rgb(36,36,36)",
              "ticks": "outside"
             }
            },
            "type": "scattergeo"
           }
          ],
          "scattergl": [
           {
            "marker": {
             "colorbar": {
              "outlinewidth": 1,
              "tickcolor": "rgb(36,36,36)",
              "ticks": "outside"
             }
            },
            "type": "scattergl"
           }
          ],
          "scattermapbox": [
           {
            "marker": {
             "colorbar": {
              "outlinewidth": 1,
              "tickcolor": "rgb(36,36,36)",
              "ticks": "outside"
             }
            },
            "type": "scattermapbox"
           }
          ],
          "scatterpolar": [
           {
            "marker": {
             "colorbar": {
              "outlinewidth": 1,
              "tickcolor": "rgb(36,36,36)",
              "ticks": "outside"
             }
            },
            "type": "scatterpolar"
           }
          ],
          "scatterpolargl": [
           {
            "marker": {
             "colorbar": {
              "outlinewidth": 1,
              "tickcolor": "rgb(36,36,36)",
              "ticks": "outside"
             }
            },
            "type": "scatterpolargl"
           }
          ],
          "scatterternary": [
           {
            "marker": {
             "colorbar": {
              "outlinewidth": 1,
              "tickcolor": "rgb(36,36,36)",
              "ticks": "outside"
             }
            },
            "type": "scatterternary"
           }
          ],
          "surface": [
           {
            "colorbar": {
             "outlinewidth": 1,
             "tickcolor": "rgb(36,36,36)",
             "ticks": "outside"
            },
            "colorscale": [
             [
              0,
              "#440154"
             ],
             [
              0.1111111111111111,
              "#482878"
             ],
             [
              0.2222222222222222,
              "#3e4989"
             ],
             [
              0.3333333333333333,
              "#31688e"
             ],
             [
              0.4444444444444444,
              "#26828e"
             ],
             [
              0.5555555555555556,
              "#1f9e89"
             ],
             [
              0.6666666666666666,
              "#35b779"
             ],
             [
              0.7777777777777778,
              "#6ece58"
             ],
             [
              0.8888888888888888,
              "#b5de2b"
             ],
             [
              1,
              "#fde725"
             ]
            ],
            "type": "surface"
           }
          ],
          "table": [
           {
            "cells": {
             "fill": {
              "color": "rgb(237,237,237)"
             },
             "line": {
              "color": "white"
             }
            },
            "header": {
             "fill": {
              "color": "rgb(217,217,217)"
             },
             "line": {
              "color": "white"
             }
            },
            "type": "table"
           }
          ]
         },
         "layout": {
          "annotationdefaults": {
           "arrowhead": 0,
           "arrowwidth": 1
          },
          "autotypenumbers": "strict",
          "coloraxis": {
           "colorbar": {
            "outlinewidth": 1,
            "tickcolor": "rgb(36,36,36)",
            "ticks": "outside"
           }
          },
          "colorscale": {
           "diverging": [
            [
             0,
             "rgb(103,0,31)"
            ],
            [
             0.1,
             "rgb(178,24,43)"
            ],
            [
             0.2,
             "rgb(214,96,77)"
            ],
            [
             0.3,
             "rgb(244,165,130)"
            ],
            [
             0.4,
             "rgb(253,219,199)"
            ],
            [
             0.5,
             "rgb(247,247,247)"
            ],
            [
             0.6,
             "rgb(209,229,240)"
            ],
            [
             0.7,
             "rgb(146,197,222)"
            ],
            [
             0.8,
             "rgb(67,147,195)"
            ],
            [
             0.9,
             "rgb(33,102,172)"
            ],
            [
             1,
             "rgb(5,48,97)"
            ]
           ],
           "sequential": [
            [
             0,
             "#440154"
            ],
            [
             0.1111111111111111,
             "#482878"
            ],
            [
             0.2222222222222222,
             "#3e4989"
            ],
            [
             0.3333333333333333,
             "#31688e"
            ],
            [
             0.4444444444444444,
             "#26828e"
            ],
            [
             0.5555555555555556,
             "#1f9e89"
            ],
            [
             0.6666666666666666,
             "#35b779"
            ],
            [
             0.7777777777777778,
             "#6ece58"
            ],
            [
             0.8888888888888888,
             "#b5de2b"
            ],
            [
             1,
             "#fde725"
            ]
           ],
           "sequentialminus": [
            [
             0,
             "#440154"
            ],
            [
             0.1111111111111111,
             "#482878"
            ],
            [
             0.2222222222222222,
             "#3e4989"
            ],
            [
             0.3333333333333333,
             "#31688e"
            ],
            [
             0.4444444444444444,
             "#26828e"
            ],
            [
             0.5555555555555556,
             "#1f9e89"
            ],
            [
             0.6666666666666666,
             "#35b779"
            ],
            [
             0.7777777777777778,
             "#6ece58"
            ],
            [
             0.8888888888888888,
             "#b5de2b"
            ],
            [
             1,
             "#fde725"
            ]
           ]
          },
          "colorway": [
           "#1F77B4",
           "#FF7F0E",
           "#2CA02C",
           "#D62728",
           "#9467BD",
           "#8C564B",
           "#E377C2",
           "#7F7F7F",
           "#BCBD22",
           "#17BECF"
          ],
          "font": {
           "color": "rgb(36,36,36)"
          },
          "geo": {
           "bgcolor": "white",
           "lakecolor": "white",
           "landcolor": "white",
           "showlakes": true,
           "showland": true,
           "subunitcolor": "white"
          },
          "hoverlabel": {
           "align": "left"
          },
          "hovermode": "closest",
          "mapbox": {
           "style": "light"
          },
          "paper_bgcolor": "white",
          "plot_bgcolor": "white",
          "polar": {
           "angularaxis": {
            "gridcolor": "rgb(232,232,232)",
            "linecolor": "rgb(36,36,36)",
            "showgrid": false,
            "showline": true,
            "ticks": "outside"
           },
           "bgcolor": "white",
           "radialaxis": {
            "gridcolor": "rgb(232,232,232)",
            "linecolor": "rgb(36,36,36)",
            "showgrid": false,
            "showline": true,
            "ticks": "outside"
           }
          },
          "scene": {
           "xaxis": {
            "backgroundcolor": "white",
            "gridcolor": "rgb(232,232,232)",
            "gridwidth": 2,
            "linecolor": "rgb(36,36,36)",
            "showbackground": true,
            "showgrid": false,
            "showline": true,
            "ticks": "outside",
            "zeroline": false,
            "zerolinecolor": "rgb(36,36,36)"
           },
           "yaxis": {
            "backgroundcolor": "white",
            "gridcolor": "rgb(232,232,232)",
            "gridwidth": 2,
            "linecolor": "rgb(36,36,36)",
            "showbackground": true,
            "showgrid": false,
            "showline": true,
            "ticks": "outside",
            "zeroline": false,
            "zerolinecolor": "rgb(36,36,36)"
           },
           "zaxis": {
            "backgroundcolor": "white",
            "gridcolor": "rgb(232,232,232)",
            "gridwidth": 2,
            "linecolor": "rgb(36,36,36)",
            "showbackground": true,
            "showgrid": false,
            "showline": true,
            "ticks": "outside",
            "zeroline": false,
            "zerolinecolor": "rgb(36,36,36)"
           }
          },
          "shapedefaults": {
           "fillcolor": "black",
           "line": {
            "width": 0
           },
           "opacity": 0.3
          },
          "ternary": {
           "aaxis": {
            "gridcolor": "rgb(232,232,232)",
            "linecolor": "rgb(36,36,36)",
            "showgrid": false,
            "showline": true,
            "ticks": "outside"
           },
           "baxis": {
            "gridcolor": "rgb(232,232,232)",
            "linecolor": "rgb(36,36,36)",
            "showgrid": false,
            "showline": true,
            "ticks": "outside"
           },
           "bgcolor": "white",
           "caxis": {
            "gridcolor": "rgb(232,232,232)",
            "linecolor": "rgb(36,36,36)",
            "showgrid": false,
            "showline": true,
            "ticks": "outside"
           }
          },
          "title": {
           "x": 0.05
          },
          "xaxis": {
           "automargin": true,
           "gridcolor": "rgb(232,232,232)",
           "linecolor": "rgb(36,36,36)",
           "showgrid": false,
           "showline": true,
           "ticks": "outside",
           "title": {
            "standoff": 15
           },
           "zeroline": false,
           "zerolinecolor": "rgb(36,36,36)"
          },
          "yaxis": {
           "automargin": true,
           "gridcolor": "rgb(232,232,232)",
           "linecolor": "rgb(36,36,36)",
           "showgrid": false,
           "showline": true,
           "ticks": "outside",
           "title": {
            "standoff": 15
           },
           "zeroline": false,
           "zerolinecolor": "rgb(36,36,36)"
          }
         }
        },
        "title": {
         "text": "<b>Relación de costo en función de las enfermedades<b>",
         "x": 0.5
        }
       }
      }
     },
     "metadata": {},
     "output_type": "display_data"
    }
   ],
   "source": [
    "base = Enfermedades1.groupby(['ENFERMEDAD'])[['Precio']].sum().sort_values('Precio', ascending = True).reset_index().head(5)\n",
    "\n",
    "# Gráfica\n",
    "fig = px.pie(base, values = 'Precio', names ='ENFERMEDAD',\n",
    "             title= '<b>Relación de costo en función de las enfermedades<b>',\n",
    "             color_discrete_sequence=px.colors.qualitative.G10)\n",
    "\n",
    "# # Agrear etiquetas a las porciones\n",
    "fig.update_layout(\n",
    "    template = 'simple_white',\n",
    "    title_x = 0.5)\n",
    "\n",
    "fig.show()"
   ]
  },
  {
   "attachments": {},
   "cell_type": "markdown",
   "metadata": {},
   "source": [
    "## ALGORITMOS SELECCIONADOS"
   ]
  },
  {
   "cell_type": "code",
   "execution_count": 35,
   "metadata": {},
   "outputs": [
    {
     "data": {
      "text/html": [
       "<div>\n",
       "<style scoped>\n",
       "    .dataframe tbody tr th:only-of-type {\n",
       "        vertical-align: middle;\n",
       "    }\n",
       "\n",
       "    .dataframe tbody tr th {\n",
       "        vertical-align: top;\n",
       "    }\n",
       "\n",
       "    .dataframe thead th {\n",
       "        text-align: right;\n",
       "    }\n",
       "</style>\n",
       "<table border=\"1\" class=\"dataframe\">\n",
       "  <thead>\n",
       "    <tr style=\"text-align: right;\">\n",
       "      <th></th>\n",
       "      <th>Fecha_Reclamacion</th>\n",
       "      <th>Afiliado_Id</th>\n",
       "      <th>Reclamacion_codigo</th>\n",
       "      <th>Diagnostico_Codigo</th>\n",
       "      <th>Cantidad</th>\n",
       "      <th>Precio</th>\n",
       "      <th>Sexo_codigo</th>\n",
       "      <th>Edad</th>\n",
       "      <th>Regional_codigo</th>\n",
       "      <th>CANCER</th>\n",
       "      <th>EPOC</th>\n",
       "      <th>DIABETES</th>\n",
       "      <th>HIPERTENSION</th>\n",
       "      <th>ENF_CARDIOVASCULAR</th>\n",
       "      <th>Regional_Desc</th>\n",
       "      <th>Diagnostico_Desc</th>\n",
       "      <th>Reclamacion_Desc</th>\n",
       "      <th>Año</th>\n",
       "      <th>Mes</th>\n",
       "    </tr>\n",
       "  </thead>\n",
       "  <tbody>\n",
       "    <tr>\n",
       "      <th>0</th>\n",
       "      <td>2019-10-23</td>\n",
       "      <td>22914637</td>\n",
       "      <td>12</td>\n",
       "      <td>M45X</td>\n",
       "      <td>1.0</td>\n",
       "      <td>1056639.96</td>\n",
       "      <td>M</td>\n",
       "      <td>28.0</td>\n",
       "      <td>5</td>\n",
       "      <td>0.0</td>\n",
       "      <td>0.0</td>\n",
       "      <td>0.0</td>\n",
       "      <td>0.0</td>\n",
       "      <td>0.0</td>\n",
       "      <td>REGIONAL EJE CAFETERO</td>\n",
       "      <td>ESPONDILITIS ANQUILOSANTE</td>\n",
       "      <td>EXAMENES DE DIAGNOSTICO</td>\n",
       "      <td>2019</td>\n",
       "      <td>10</td>\n",
       "    </tr>\n",
       "    <tr>\n",
       "      <th>1</th>\n",
       "      <td>2019-11-26</td>\n",
       "      <td>58412744</td>\n",
       "      <td>9</td>\n",
       "      <td>0</td>\n",
       "      <td>1.0</td>\n",
       "      <td>139772.80</td>\n",
       "      <td>F</td>\n",
       "      <td>15.0</td>\n",
       "      <td>2</td>\n",
       "      <td>0.0</td>\n",
       "      <td>0.0</td>\n",
       "      <td>0.0</td>\n",
       "      <td>0.0</td>\n",
       "      <td>0.0</td>\n",
       "      <td>REGIONAL CENTRO</td>\n",
       "      <td>DIAGNÓSTICO PENDIENTE</td>\n",
       "      <td>CONSULTA EXTERNA</td>\n",
       "      <td>2019</td>\n",
       "      <td>11</td>\n",
       "    </tr>\n",
       "    <tr>\n",
       "      <th>2</th>\n",
       "      <td>2019-10-23</td>\n",
       "      <td>5070923</td>\n",
       "      <td>16</td>\n",
       "      <td>0</td>\n",
       "      <td>1.0</td>\n",
       "      <td>320166.76</td>\n",
       "      <td>F</td>\n",
       "      <td>45.0</td>\n",
       "      <td>2</td>\n",
       "      <td>0.0</td>\n",
       "      <td>0.0</td>\n",
       "      <td>0.0</td>\n",
       "      <td>0.0</td>\n",
       "      <td>0.0</td>\n",
       "      <td>REGIONAL CENTRO</td>\n",
       "      <td>DIAGNÓSTICO PENDIENTE</td>\n",
       "      <td>LABORATORIO CLINICO</td>\n",
       "      <td>2019</td>\n",
       "      <td>10</td>\n",
       "    </tr>\n",
       "    <tr>\n",
       "      <th>3</th>\n",
       "      <td>2019-11-27</td>\n",
       "      <td>5769950</td>\n",
       "      <td>13</td>\n",
       "      <td>0</td>\n",
       "      <td>1.0</td>\n",
       "      <td>21204.00</td>\n",
       "      <td>F</td>\n",
       "      <td>91.0</td>\n",
       "      <td>2</td>\n",
       "      <td>0.0</td>\n",
       "      <td>0.0</td>\n",
       "      <td>0.0</td>\n",
       "      <td>0.0</td>\n",
       "      <td>0.0</td>\n",
       "      <td>REGIONAL CENTRO</td>\n",
       "      <td>DIAGNÓSTICO PENDIENTE</td>\n",
       "      <td>FISIOTERAPIA ILIMITADA</td>\n",
       "      <td>2019</td>\n",
       "      <td>11</td>\n",
       "    </tr>\n",
       "    <tr>\n",
       "      <th>5</th>\n",
       "      <td>2019-11-30</td>\n",
       "      <td>17126150</td>\n",
       "      <td>16</td>\n",
       "      <td>0</td>\n",
       "      <td>1.0</td>\n",
       "      <td>160700.28</td>\n",
       "      <td>M</td>\n",
       "      <td>38.0</td>\n",
       "      <td>1</td>\n",
       "      <td>0.0</td>\n",
       "      <td>0.0</td>\n",
       "      <td>0.0</td>\n",
       "      <td>1.0</td>\n",
       "      <td>0.0</td>\n",
       "      <td>REGIONAL ANTIOQUIA</td>\n",
       "      <td>DIAGNÓSTICO PENDIENTE</td>\n",
       "      <td>LABORATORIO CLINICO</td>\n",
       "      <td>2019</td>\n",
       "      <td>11</td>\n",
       "    </tr>\n",
       "    <tr>\n",
       "      <th>...</th>\n",
       "      <td>...</td>\n",
       "      <td>...</td>\n",
       "      <td>...</td>\n",
       "      <td>...</td>\n",
       "      <td>...</td>\n",
       "      <td>...</td>\n",
       "      <td>...</td>\n",
       "      <td>...</td>\n",
       "      <td>...</td>\n",
       "      <td>...</td>\n",
       "      <td>...</td>\n",
       "      <td>...</td>\n",
       "      <td>...</td>\n",
       "      <td>...</td>\n",
       "      <td>...</td>\n",
       "      <td>...</td>\n",
       "      <td>...</td>\n",
       "      <td>...</td>\n",
       "      <td>...</td>\n",
       "    </tr>\n",
       "    <tr>\n",
       "      <th>395862</th>\n",
       "      <td>2019-11-20</td>\n",
       "      <td>15648118</td>\n",
       "      <td>13</td>\n",
       "      <td>0</td>\n",
       "      <td>1.0</td>\n",
       "      <td>21204.00</td>\n",
       "      <td>M</td>\n",
       "      <td>35.0</td>\n",
       "      <td>2</td>\n",
       "      <td>0.0</td>\n",
       "      <td>0.0</td>\n",
       "      <td>0.0</td>\n",
       "      <td>0.0</td>\n",
       "      <td>0.0</td>\n",
       "      <td>REGIONAL CENTRO</td>\n",
       "      <td>DIAGNÓSTICO PENDIENTE</td>\n",
       "      <td>FISIOTERAPIA ILIMITADA</td>\n",
       "      <td>2019</td>\n",
       "      <td>11</td>\n",
       "    </tr>\n",
       "    <tr>\n",
       "      <th>395863</th>\n",
       "      <td>2019-11-14</td>\n",
       "      <td>4351189</td>\n",
       "      <td>16</td>\n",
       "      <td>0</td>\n",
       "      <td>15.0</td>\n",
       "      <td>251820.44</td>\n",
       "      <td>F</td>\n",
       "      <td>68.0</td>\n",
       "      <td>5</td>\n",
       "      <td>0.0</td>\n",
       "      <td>0.0</td>\n",
       "      <td>0.0</td>\n",
       "      <td>1.0</td>\n",
       "      <td>0.0</td>\n",
       "      <td>REGIONAL EJE CAFETERO</td>\n",
       "      <td>DIAGNÓSTICO PENDIENTE</td>\n",
       "      <td>LABORATORIO CLINICO</td>\n",
       "      <td>2019</td>\n",
       "      <td>11</td>\n",
       "    </tr>\n",
       "    <tr>\n",
       "      <th>395865</th>\n",
       "      <td>2019-10-25</td>\n",
       "      <td>19220270</td>\n",
       "      <td>13</td>\n",
       "      <td>0</td>\n",
       "      <td>10.0</td>\n",
       "      <td>475726.00</td>\n",
       "      <td>F</td>\n",
       "      <td>39.0</td>\n",
       "      <td>1</td>\n",
       "      <td>0.0</td>\n",
       "      <td>0.0</td>\n",
       "      <td>0.0</td>\n",
       "      <td>0.0</td>\n",
       "      <td>0.0</td>\n",
       "      <td>REGIONAL ANTIOQUIA</td>\n",
       "      <td>DIAGNÓSTICO PENDIENTE</td>\n",
       "      <td>FISIOTERAPIA ILIMITADA</td>\n",
       "      <td>2019</td>\n",
       "      <td>10</td>\n",
       "    </tr>\n",
       "    <tr>\n",
       "      <th>395866</th>\n",
       "      <td>2019-11-12</td>\n",
       "      <td>25627716</td>\n",
       "      <td>12</td>\n",
       "      <td>0</td>\n",
       "      <td>2.0</td>\n",
       "      <td>568788.00</td>\n",
       "      <td>F</td>\n",
       "      <td>38.0</td>\n",
       "      <td>2</td>\n",
       "      <td>0.0</td>\n",
       "      <td>0.0</td>\n",
       "      <td>0.0</td>\n",
       "      <td>0.0</td>\n",
       "      <td>0.0</td>\n",
       "      <td>REGIONAL CENTRO</td>\n",
       "      <td>DIAGNÓSTICO PENDIENTE</td>\n",
       "      <td>EXAMENES DE DIAGNOSTICO</td>\n",
       "      <td>2019</td>\n",
       "      <td>11</td>\n",
       "    </tr>\n",
       "    <tr>\n",
       "      <th>395867</th>\n",
       "      <td>2019-10-27</td>\n",
       "      <td>30959682</td>\n",
       "      <td>8</td>\n",
       "      <td>0</td>\n",
       "      <td>1.0</td>\n",
       "      <td>86677.24</td>\n",
       "      <td>F</td>\n",
       "      <td>28.0</td>\n",
       "      <td>2</td>\n",
       "      <td>0.0</td>\n",
       "      <td>0.0</td>\n",
       "      <td>0.0</td>\n",
       "      <td>0.0</td>\n",
       "      <td>0.0</td>\n",
       "      <td>REGIONAL CENTRO</td>\n",
       "      <td>DIAGNÓSTICO PENDIENTE</td>\n",
       "      <td>CONSULTA DE URGENCIAS</td>\n",
       "      <td>2019</td>\n",
       "      <td>10</td>\n",
       "    </tr>\n",
       "  </tbody>\n",
       "</table>\n",
       "<p>273825 rows × 19 columns</p>\n",
       "</div>"
      ],
      "text/plain": [
       "       Fecha_Reclamacion  Afiliado_Id  Reclamacion_codigo Diagnostico_Codigo  \\\n",
       "0             2019-10-23     22914637                  12               M45X   \n",
       "1             2019-11-26     58412744                   9                  0   \n",
       "2             2019-10-23      5070923                  16                  0   \n",
       "3             2019-11-27      5769950                  13                  0   \n",
       "5             2019-11-30     17126150                  16                  0   \n",
       "...                  ...          ...                 ...                ...   \n",
       "395862        2019-11-20     15648118                  13                  0   \n",
       "395863        2019-11-14      4351189                  16                  0   \n",
       "395865        2019-10-25     19220270                  13                  0   \n",
       "395866        2019-11-12     25627716                  12                  0   \n",
       "395867        2019-10-27     30959682                   8                  0   \n",
       "\n",
       "        Cantidad      Precio Sexo_codigo  Edad Regional_codigo  CANCER  EPOC  \\\n",
       "0            1.0  1056639.96           M  28.0               5     0.0   0.0   \n",
       "1            1.0   139772.80           F  15.0               2     0.0   0.0   \n",
       "2            1.0   320166.76           F  45.0               2     0.0   0.0   \n",
       "3            1.0    21204.00           F  91.0               2     0.0   0.0   \n",
       "5            1.0   160700.28           M  38.0               1     0.0   0.0   \n",
       "...          ...         ...         ...   ...             ...     ...   ...   \n",
       "395862       1.0    21204.00           M  35.0               2     0.0   0.0   \n",
       "395863      15.0   251820.44           F  68.0               5     0.0   0.0   \n",
       "395865      10.0   475726.00           F  39.0               1     0.0   0.0   \n",
       "395866       2.0   568788.00           F  38.0               2     0.0   0.0   \n",
       "395867       1.0    86677.24           F  28.0               2     0.0   0.0   \n",
       "\n",
       "        DIABETES  HIPERTENSION  ENF_CARDIOVASCULAR          Regional_Desc  \\\n",
       "0            0.0           0.0                 0.0  REGIONAL EJE CAFETERO   \n",
       "1            0.0           0.0                 0.0        REGIONAL CENTRO   \n",
       "2            0.0           0.0                 0.0        REGIONAL CENTRO   \n",
       "3            0.0           0.0                 0.0        REGIONAL CENTRO   \n",
       "5            0.0           1.0                 0.0     REGIONAL ANTIOQUIA   \n",
       "...          ...           ...                 ...                    ...   \n",
       "395862       0.0           0.0                 0.0        REGIONAL CENTRO   \n",
       "395863       0.0           1.0                 0.0  REGIONAL EJE CAFETERO   \n",
       "395865       0.0           0.0                 0.0     REGIONAL ANTIOQUIA   \n",
       "395866       0.0           0.0                 0.0        REGIONAL CENTRO   \n",
       "395867       0.0           0.0                 0.0        REGIONAL CENTRO   \n",
       "\n",
       "                 Diagnostico_Desc         Reclamacion_Desc   Año  Mes  \n",
       "0       ESPONDILITIS ANQUILOSANTE  EXAMENES DE DIAGNOSTICO  2019   10  \n",
       "1           DIAGNÓSTICO PENDIENTE         CONSULTA EXTERNA  2019   11  \n",
       "2           DIAGNÓSTICO PENDIENTE      LABORATORIO CLINICO  2019   10  \n",
       "3           DIAGNÓSTICO PENDIENTE   FISIOTERAPIA ILIMITADA  2019   11  \n",
       "5           DIAGNÓSTICO PENDIENTE      LABORATORIO CLINICO  2019   11  \n",
       "...                           ...                      ...   ...  ...  \n",
       "395862      DIAGNÓSTICO PENDIENTE   FISIOTERAPIA ILIMITADA  2019   11  \n",
       "395863      DIAGNÓSTICO PENDIENTE      LABORATORIO CLINICO  2019   11  \n",
       "395865      DIAGNÓSTICO PENDIENTE   FISIOTERAPIA ILIMITADA  2019   10  \n",
       "395866      DIAGNÓSTICO PENDIENTE  EXAMENES DE DIAGNOSTICO  2019   11  \n",
       "395867      DIAGNÓSTICO PENDIENTE    CONSULTA DE URGENCIAS  2019   10  \n",
       "\n",
       "[273825 rows x 19 columns]"
      ]
     },
     "execution_count": 35,
     "metadata": {},
     "output_type": "execute_result"
    }
   ],
   "source": [
    "Seguro_salud=Seguro_salud.loc[Seguro_salud[\"Año\"]== 2019]\n",
    "Seguro_salud=Seguro_salud.loc[Seguro_salud[\"Mes\"] >= 9]\n",
    "Seguro_salud"
   ]
  },
  {
   "cell_type": "code",
   "execution_count": 36,
   "metadata": {},
   "outputs": [],
   "source": [
    "todrop=['Afiliado_Id','Fecha_Reclamacion','Regional_Desc', 'Diagnostico_Desc',\n",
    "       'Reclamacion_Desc',\"Año\",\"Mes\"]"
   ]
  },
  {
   "cell_type": "code",
   "execution_count": 37,
   "metadata": {},
   "outputs": [
    {
     "data": {
      "text/html": [
       "<div>\n",
       "<style scoped>\n",
       "    .dataframe tbody tr th:only-of-type {\n",
       "        vertical-align: middle;\n",
       "    }\n",
       "\n",
       "    .dataframe tbody tr th {\n",
       "        vertical-align: top;\n",
       "    }\n",
       "\n",
       "    .dataframe thead th {\n",
       "        text-align: right;\n",
       "    }\n",
       "</style>\n",
       "<table border=\"1\" class=\"dataframe\">\n",
       "  <thead>\n",
       "    <tr style=\"text-align: right;\">\n",
       "      <th></th>\n",
       "      <th>Reclamacion_codigo</th>\n",
       "      <th>Diagnostico_Codigo</th>\n",
       "      <th>Cantidad</th>\n",
       "      <th>Precio</th>\n",
       "      <th>Sexo_codigo</th>\n",
       "      <th>Edad</th>\n",
       "      <th>Regional_codigo</th>\n",
       "      <th>CANCER</th>\n",
       "      <th>EPOC</th>\n",
       "      <th>DIABETES</th>\n",
       "      <th>HIPERTENSION</th>\n",
       "      <th>ENF_CARDIOVASCULAR</th>\n",
       "    </tr>\n",
       "  </thead>\n",
       "  <tbody>\n",
       "    <tr>\n",
       "      <th>0</th>\n",
       "      <td>12</td>\n",
       "      <td>M45X</td>\n",
       "      <td>1.0</td>\n",
       "      <td>1056639.96</td>\n",
       "      <td>M</td>\n",
       "      <td>28.0</td>\n",
       "      <td>5</td>\n",
       "      <td>0.0</td>\n",
       "      <td>0.0</td>\n",
       "      <td>0.0</td>\n",
       "      <td>0.0</td>\n",
       "      <td>0.0</td>\n",
       "    </tr>\n",
       "    <tr>\n",
       "      <th>1</th>\n",
       "      <td>9</td>\n",
       "      <td>0</td>\n",
       "      <td>1.0</td>\n",
       "      <td>139772.80</td>\n",
       "      <td>F</td>\n",
       "      <td>15.0</td>\n",
       "      <td>2</td>\n",
       "      <td>0.0</td>\n",
       "      <td>0.0</td>\n",
       "      <td>0.0</td>\n",
       "      <td>0.0</td>\n",
       "      <td>0.0</td>\n",
       "    </tr>\n",
       "    <tr>\n",
       "      <th>2</th>\n",
       "      <td>16</td>\n",
       "      <td>0</td>\n",
       "      <td>1.0</td>\n",
       "      <td>320166.76</td>\n",
       "      <td>F</td>\n",
       "      <td>45.0</td>\n",
       "      <td>2</td>\n",
       "      <td>0.0</td>\n",
       "      <td>0.0</td>\n",
       "      <td>0.0</td>\n",
       "      <td>0.0</td>\n",
       "      <td>0.0</td>\n",
       "    </tr>\n",
       "    <tr>\n",
       "      <th>3</th>\n",
       "      <td>13</td>\n",
       "      <td>0</td>\n",
       "      <td>1.0</td>\n",
       "      <td>21204.00</td>\n",
       "      <td>F</td>\n",
       "      <td>91.0</td>\n",
       "      <td>2</td>\n",
       "      <td>0.0</td>\n",
       "      <td>0.0</td>\n",
       "      <td>0.0</td>\n",
       "      <td>0.0</td>\n",
       "      <td>0.0</td>\n",
       "    </tr>\n",
       "    <tr>\n",
       "      <th>5</th>\n",
       "      <td>16</td>\n",
       "      <td>0</td>\n",
       "      <td>1.0</td>\n",
       "      <td>160700.28</td>\n",
       "      <td>M</td>\n",
       "      <td>38.0</td>\n",
       "      <td>1</td>\n",
       "      <td>0.0</td>\n",
       "      <td>0.0</td>\n",
       "      <td>0.0</td>\n",
       "      <td>1.0</td>\n",
       "      <td>0.0</td>\n",
       "    </tr>\n",
       "    <tr>\n",
       "      <th>...</th>\n",
       "      <td>...</td>\n",
       "      <td>...</td>\n",
       "      <td>...</td>\n",
       "      <td>...</td>\n",
       "      <td>...</td>\n",
       "      <td>...</td>\n",
       "      <td>...</td>\n",
       "      <td>...</td>\n",
       "      <td>...</td>\n",
       "      <td>...</td>\n",
       "      <td>...</td>\n",
       "      <td>...</td>\n",
       "    </tr>\n",
       "    <tr>\n",
       "      <th>395862</th>\n",
       "      <td>13</td>\n",
       "      <td>0</td>\n",
       "      <td>1.0</td>\n",
       "      <td>21204.00</td>\n",
       "      <td>M</td>\n",
       "      <td>35.0</td>\n",
       "      <td>2</td>\n",
       "      <td>0.0</td>\n",
       "      <td>0.0</td>\n",
       "      <td>0.0</td>\n",
       "      <td>0.0</td>\n",
       "      <td>0.0</td>\n",
       "    </tr>\n",
       "    <tr>\n",
       "      <th>395863</th>\n",
       "      <td>16</td>\n",
       "      <td>0</td>\n",
       "      <td>15.0</td>\n",
       "      <td>251820.44</td>\n",
       "      <td>F</td>\n",
       "      <td>68.0</td>\n",
       "      <td>5</td>\n",
       "      <td>0.0</td>\n",
       "      <td>0.0</td>\n",
       "      <td>0.0</td>\n",
       "      <td>1.0</td>\n",
       "      <td>0.0</td>\n",
       "    </tr>\n",
       "    <tr>\n",
       "      <th>395865</th>\n",
       "      <td>13</td>\n",
       "      <td>0</td>\n",
       "      <td>10.0</td>\n",
       "      <td>475726.00</td>\n",
       "      <td>F</td>\n",
       "      <td>39.0</td>\n",
       "      <td>1</td>\n",
       "      <td>0.0</td>\n",
       "      <td>0.0</td>\n",
       "      <td>0.0</td>\n",
       "      <td>0.0</td>\n",
       "      <td>0.0</td>\n",
       "    </tr>\n",
       "    <tr>\n",
       "      <th>395866</th>\n",
       "      <td>12</td>\n",
       "      <td>0</td>\n",
       "      <td>2.0</td>\n",
       "      <td>568788.00</td>\n",
       "      <td>F</td>\n",
       "      <td>38.0</td>\n",
       "      <td>2</td>\n",
       "      <td>0.0</td>\n",
       "      <td>0.0</td>\n",
       "      <td>0.0</td>\n",
       "      <td>0.0</td>\n",
       "      <td>0.0</td>\n",
       "    </tr>\n",
       "    <tr>\n",
       "      <th>395867</th>\n",
       "      <td>8</td>\n",
       "      <td>0</td>\n",
       "      <td>1.0</td>\n",
       "      <td>86677.24</td>\n",
       "      <td>F</td>\n",
       "      <td>28.0</td>\n",
       "      <td>2</td>\n",
       "      <td>0.0</td>\n",
       "      <td>0.0</td>\n",
       "      <td>0.0</td>\n",
       "      <td>0.0</td>\n",
       "      <td>0.0</td>\n",
       "    </tr>\n",
       "  </tbody>\n",
       "</table>\n",
       "<p>273825 rows × 12 columns</p>\n",
       "</div>"
      ],
      "text/plain": [
       "        Reclamacion_codigo Diagnostico_Codigo  Cantidad      Precio  \\\n",
       "0                       12               M45X       1.0  1056639.96   \n",
       "1                        9                  0       1.0   139772.80   \n",
       "2                       16                  0       1.0   320166.76   \n",
       "3                       13                  0       1.0    21204.00   \n",
       "5                       16                  0       1.0   160700.28   \n",
       "...                    ...                ...       ...         ...   \n",
       "395862                  13                  0       1.0    21204.00   \n",
       "395863                  16                  0      15.0   251820.44   \n",
       "395865                  13                  0      10.0   475726.00   \n",
       "395866                  12                  0       2.0   568788.00   \n",
       "395867                   8                  0       1.0    86677.24   \n",
       "\n",
       "       Sexo_codigo  Edad Regional_codigo  CANCER  EPOC  DIABETES  \\\n",
       "0                M  28.0               5     0.0   0.0       0.0   \n",
       "1                F  15.0               2     0.0   0.0       0.0   \n",
       "2                F  45.0               2     0.0   0.0       0.0   \n",
       "3                F  91.0               2     0.0   0.0       0.0   \n",
       "5                M  38.0               1     0.0   0.0       0.0   \n",
       "...            ...   ...             ...     ...   ...       ...   \n",
       "395862           M  35.0               2     0.0   0.0       0.0   \n",
       "395863           F  68.0               5     0.0   0.0       0.0   \n",
       "395865           F  39.0               1     0.0   0.0       0.0   \n",
       "395866           F  38.0               2     0.0   0.0       0.0   \n",
       "395867           F  28.0               2     0.0   0.0       0.0   \n",
       "\n",
       "        HIPERTENSION  ENF_CARDIOVASCULAR  \n",
       "0                0.0                 0.0  \n",
       "1                0.0                 0.0  \n",
       "2                0.0                 0.0  \n",
       "3                0.0                 0.0  \n",
       "5                1.0                 0.0  \n",
       "...              ...                 ...  \n",
       "395862           0.0                 0.0  \n",
       "395863           1.0                 0.0  \n",
       "395865           0.0                 0.0  \n",
       "395866           0.0                 0.0  \n",
       "395867           0.0                 0.0  \n",
       "\n",
       "[273825 rows x 12 columns]"
      ]
     },
     "execution_count": 37,
     "metadata": {},
     "output_type": "execute_result"
    }
   ],
   "source": [
    "Seguro_predictivo=Seguro_salud.drop(columns=todrop)\n",
    "Seguro_predictivo"
   ]
  },
  {
   "cell_type": "code",
   "execution_count": 38,
   "metadata": {},
   "outputs": [],
   "source": [
    "Seguro_predictivo.to_csv(\"Preprocesamiento_Finanzas1.csv\")"
   ]
  }
 ],
 "metadata": {
  "kernelspec": {
   "display_name": "base",
   "language": "python",
   "name": "python3"
  },
  "language_info": {
   "codemirror_mode": {
    "name": "ipython",
    "version": 3
   },
   "file_extension": ".py",
   "mimetype": "text/x-python",
   "name": "python",
   "nbconvert_exporter": "python",
   "pygments_lexer": "ipython3",
   "version": "3.9.7"
  },
  "orig_nbformat": 4
 },
 "nbformat": 4,
 "nbformat_minor": 2
}
